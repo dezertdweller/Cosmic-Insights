{
 "cells": [
  {
   "cell_type": "code",
   "execution_count": 55,
   "id": "4bf524d8",
   "metadata": {},
   "outputs": [
    {
     "name": "stdout",
     "output_type": "stream",
     "text": [
      "/Users/katialopes-gilbert/Library/CloudStorage/GoogleDrive-katialopesgilbert@gmail.com/My Drive/wid-datathon/data/01_processed/elset_history_aodr\n"
     ]
    }
   ],
   "source": [
    "from pathlib import Path\n",
    "import pandas as pd\n",
    "\n",
    "# project root = two levels up from this notebook\n",
    "RAW_DIR = Path.cwd().parents[1] / \"data\" / \"00_raw\"\n",
    "PROC_DIR = Path.cwd().parents[1] / \"data\" / \"01_processed\" / \"elset_history_aodr\"\n",
    "print(PROC_DIR)  # sanity check"
   ]
  },
  {
   "cell_type": "markdown",
   "id": "7b15dd42",
   "metadata": {},
   "source": [
    "# Basic Information \n",
    "\n",
    "1. Shape and size of the dataset\n",
    "2. Unique satelites"
   ]
  },
  {
   "cell_type": "code",
   "execution_count": 56,
   "id": "3ef49f19",
   "metadata": {},
   "outputs": [
    {
     "data": {
      "application/vnd.microsoft.datawrangler.viewer.v0+json": {
       "columns": [
        {
         "name": "index",
         "rawType": "int64",
         "type": "integer"
        },
        {
         "name": "algorithm",
         "rawType": "object",
         "type": "string"
        },
        {
         "name": "apogee",
         "rawType": "float64",
         "type": "float"
        },
        {
         "name": "argOfPerigee",
         "rawType": "float64",
         "type": "float"
        },
        {
         "name": "bStar",
         "rawType": "float64",
         "type": "float"
        },
        {
         "name": "classificationMarking",
         "rawType": "string",
         "type": "string"
        },
        {
         "name": "createdAt",
         "rawType": "datetime64[us, UTC]",
         "type": "unknown"
        },
        {
         "name": "createdBy",
         "rawType": "string",
         "type": "string"
        },
        {
         "name": "eccentricity",
         "rawType": "float64",
         "type": "float"
        },
        {
         "name": "source",
         "rawType": "string",
         "type": "string"
        },
        {
         "name": "semiMajorAxis",
         "rawType": "float64",
         "type": "float"
        },
        {
         "name": "satNo",
         "rawType": "Int64",
         "type": "integer"
        },
        {
         "name": "revNo",
         "rawType": "Int64",
         "type": "integer"
        },
        {
         "name": "raan",
         "rawType": "float64",
         "type": "float"
        },
        {
         "name": "period",
         "rawType": "float64",
         "type": "float"
        },
        {
         "name": "perigee",
         "rawType": "float64",
         "type": "float"
        },
        {
         "name": "origNetwork",
         "rawType": "object",
         "type": "string"
        },
        {
         "name": "meanMotionDot",
         "rawType": "float64",
         "type": "float"
        },
        {
         "name": "meanMotionDDot",
         "rawType": "float64",
         "type": "float"
        },
        {
         "name": "meanMotion",
         "rawType": "float64",
         "type": "float"
        },
        {
         "name": "meanAnomaly",
         "rawType": "float64",
         "type": "float"
        },
        {
         "name": "inclination",
         "rawType": "float64",
         "type": "float"
        },
        {
         "name": "idOnOrbit",
         "rawType": "Int64",
         "type": "integer"
        },
        {
         "name": "idElset",
         "rawType": "Int64",
         "type": "integer"
        },
        {
         "name": "epoch",
         "rawType": "datetime64[us, UTC]",
         "type": "unknown"
        }
       ],
       "ref": "4a8aad81-ec89-4640-a945-59f4dc51c921",
       "rows": [
        [
         "0",
         "SGP4",
         "10202.213",
         "259.3559",
         "0.00094295",
         "U",
         "2025-01-02 00:05:10.959000+00:00",
         "system.ob-ingest",
         "0.1843174",
         "18th SPCS",
         "8614.424",
         "5",
         "38543",
         "156.6751",
         "132.617",
         "7026.636",
         "OPS1",
         "7.74e-06",
         "0.0",
         "10.85833854",
         "79.523",
         "34.2561",
         "5",
         null,
         "2025-01-01 01:49:54.598368+00:00"
        ],
        [
         "1",
         "SGP4",
         "10202.217",
         "262.2564",
         "0.00099556",
         "U",
         "2025-01-02 06:05:08.465000+00:00",
         "system.ob-ingest",
         "0.1843189",
         "18th SPCS",
         "8614.417",
         "5",
         "38550",
         "154.6883",
         "132.617",
         "7026.617",
         "OPS1",
         "8.16e-06",
         "0.0",
         "10.85835174",
         "76.5981",
         "34.2564",
         "5",
         null,
         "2025-01-01 17:17:08.960640+00:00"
        ],
        [
         "2",
         "SGP4",
         "9286.717",
         "275.265",
         "0.0016326",
         "U",
         "2025-01-01 23:05:08.691000+00:00",
         "system.ob-ingest",
         "0.1453074",
         "18th SPCS",
         "8108.493",
         "11",
         "81389",
         "294.6285",
         "121.107",
         "6930.269",
         "OPS1",
         "3.137e-05",
         "0.0",
         "11.89029196",
         "68.4325",
         "32.8795",
         "11",
         null,
         "2025-01-01 19:06:31.800960+00:00"
        ],
        [
         "3",
         "SGP4",
         "9673.868",
         "173.3927",
         "0.00087371",
         "U",
         "2025-01-01 23:05:08.697000+00:00",
         "system.ob-ingest",
         "0.1651179",
         "18th SPCS",
         "8302.909",
         "12",
         "71282",
         "296.3941",
         "125.489",
         "6931.950000000001",
         "OPS1",
         "1.51e-05",
         "0.0",
         "11.47512261",
         "189.1611",
         "32.9011",
         "12",
         null,
         "2025-01-01 19:47:07.123200+00:00"
        ],
        [
         "4",
         "SGP4",
         "10594.496",
         "34.2347",
         "0.00058458",
         "U",
         "2025-01-02 00:05:10.967000+00:00",
         "system.ob-ingest",
         "0.202279",
         "18th SPCS",
         "8812.011",
         "16",
         "63302",
         "43.3806",
         "137.206",
         "7029.527",
         "OPS1",
         "4.07e-06",
         "0.0",
         "10.49518704",
         "337.3462",
         "34.2656",
         "16",
         null,
         "2025-01-01 06:18:04.587840+00:00"
        ]
       ],
       "shape": {
        "columns": 24,
        "rows": 5
       }
      },
      "text/html": [
       "<div>\n",
       "<style scoped>\n",
       "    .dataframe tbody tr th:only-of-type {\n",
       "        vertical-align: middle;\n",
       "    }\n",
       "\n",
       "    .dataframe tbody tr th {\n",
       "        vertical-align: top;\n",
       "    }\n",
       "\n",
       "    .dataframe thead th {\n",
       "        text-align: right;\n",
       "    }\n",
       "</style>\n",
       "<table border=\"1\" class=\"dataframe\">\n",
       "  <thead>\n",
       "    <tr style=\"text-align: right;\">\n",
       "      <th></th>\n",
       "      <th>algorithm</th>\n",
       "      <th>apogee</th>\n",
       "      <th>argOfPerigee</th>\n",
       "      <th>bStar</th>\n",
       "      <th>classificationMarking</th>\n",
       "      <th>createdAt</th>\n",
       "      <th>createdBy</th>\n",
       "      <th>eccentricity</th>\n",
       "      <th>source</th>\n",
       "      <th>semiMajorAxis</th>\n",
       "      <th>satNo</th>\n",
       "      <th>revNo</th>\n",
       "      <th>raan</th>\n",
       "      <th>period</th>\n",
       "      <th>perigee</th>\n",
       "      <th>origNetwork</th>\n",
       "      <th>meanMotionDot</th>\n",
       "      <th>meanMotionDDot</th>\n",
       "      <th>meanMotion</th>\n",
       "      <th>meanAnomaly</th>\n",
       "      <th>inclination</th>\n",
       "      <th>idOnOrbit</th>\n",
       "      <th>idElset</th>\n",
       "      <th>epoch</th>\n",
       "    </tr>\n",
       "  </thead>\n",
       "  <tbody>\n",
       "    <tr>\n",
       "      <th>0</th>\n",
       "      <td>SGP4</td>\n",
       "      <td>10202.213</td>\n",
       "      <td>259.3559</td>\n",
       "      <td>0.000943</td>\n",
       "      <td>U</td>\n",
       "      <td>2025-01-02 00:05:10.959000+00:00</td>\n",
       "      <td>system.ob-ingest</td>\n",
       "      <td>0.184317</td>\n",
       "      <td>18th SPCS</td>\n",
       "      <td>8614.424</td>\n",
       "      <td>5</td>\n",
       "      <td>38543</td>\n",
       "      <td>156.6751</td>\n",
       "      <td>132.617</td>\n",
       "      <td>7026.636</td>\n",
       "      <td>OPS1</td>\n",
       "      <td>0.000008</td>\n",
       "      <td>0.0</td>\n",
       "      <td>10.858339</td>\n",
       "      <td>79.5230</td>\n",
       "      <td>34.2561</td>\n",
       "      <td>5</td>\n",
       "      <td>&lt;NA&gt;</td>\n",
       "      <td>2025-01-01 01:49:54.598368+00:00</td>\n",
       "    </tr>\n",
       "    <tr>\n",
       "      <th>1</th>\n",
       "      <td>SGP4</td>\n",
       "      <td>10202.217</td>\n",
       "      <td>262.2564</td>\n",
       "      <td>0.000996</td>\n",
       "      <td>U</td>\n",
       "      <td>2025-01-02 06:05:08.465000+00:00</td>\n",
       "      <td>system.ob-ingest</td>\n",
       "      <td>0.184319</td>\n",
       "      <td>18th SPCS</td>\n",
       "      <td>8614.417</td>\n",
       "      <td>5</td>\n",
       "      <td>38550</td>\n",
       "      <td>154.6883</td>\n",
       "      <td>132.617</td>\n",
       "      <td>7026.617</td>\n",
       "      <td>OPS1</td>\n",
       "      <td>0.000008</td>\n",
       "      <td>0.0</td>\n",
       "      <td>10.858352</td>\n",
       "      <td>76.5981</td>\n",
       "      <td>34.2564</td>\n",
       "      <td>5</td>\n",
       "      <td>&lt;NA&gt;</td>\n",
       "      <td>2025-01-01 17:17:08.960640+00:00</td>\n",
       "    </tr>\n",
       "    <tr>\n",
       "      <th>2</th>\n",
       "      <td>SGP4</td>\n",
       "      <td>9286.717</td>\n",
       "      <td>275.2650</td>\n",
       "      <td>0.001633</td>\n",
       "      <td>U</td>\n",
       "      <td>2025-01-01 23:05:08.691000+00:00</td>\n",
       "      <td>system.ob-ingest</td>\n",
       "      <td>0.145307</td>\n",
       "      <td>18th SPCS</td>\n",
       "      <td>8108.493</td>\n",
       "      <td>11</td>\n",
       "      <td>81389</td>\n",
       "      <td>294.6285</td>\n",
       "      <td>121.107</td>\n",
       "      <td>6930.269</td>\n",
       "      <td>OPS1</td>\n",
       "      <td>0.000031</td>\n",
       "      <td>0.0</td>\n",
       "      <td>11.890292</td>\n",
       "      <td>68.4325</td>\n",
       "      <td>32.8795</td>\n",
       "      <td>11</td>\n",
       "      <td>&lt;NA&gt;</td>\n",
       "      <td>2025-01-01 19:06:31.800960+00:00</td>\n",
       "    </tr>\n",
       "    <tr>\n",
       "      <th>3</th>\n",
       "      <td>SGP4</td>\n",
       "      <td>9673.868</td>\n",
       "      <td>173.3927</td>\n",
       "      <td>0.000874</td>\n",
       "      <td>U</td>\n",
       "      <td>2025-01-01 23:05:08.697000+00:00</td>\n",
       "      <td>system.ob-ingest</td>\n",
       "      <td>0.165118</td>\n",
       "      <td>18th SPCS</td>\n",
       "      <td>8302.909</td>\n",
       "      <td>12</td>\n",
       "      <td>71282</td>\n",
       "      <td>296.3941</td>\n",
       "      <td>125.489</td>\n",
       "      <td>6931.950</td>\n",
       "      <td>OPS1</td>\n",
       "      <td>0.000015</td>\n",
       "      <td>0.0</td>\n",
       "      <td>11.475123</td>\n",
       "      <td>189.1611</td>\n",
       "      <td>32.9011</td>\n",
       "      <td>12</td>\n",
       "      <td>&lt;NA&gt;</td>\n",
       "      <td>2025-01-01 19:47:07.123200+00:00</td>\n",
       "    </tr>\n",
       "    <tr>\n",
       "      <th>4</th>\n",
       "      <td>SGP4</td>\n",
       "      <td>10594.496</td>\n",
       "      <td>34.2347</td>\n",
       "      <td>0.000585</td>\n",
       "      <td>U</td>\n",
       "      <td>2025-01-02 00:05:10.967000+00:00</td>\n",
       "      <td>system.ob-ingest</td>\n",
       "      <td>0.202279</td>\n",
       "      <td>18th SPCS</td>\n",
       "      <td>8812.011</td>\n",
       "      <td>16</td>\n",
       "      <td>63302</td>\n",
       "      <td>43.3806</td>\n",
       "      <td>137.206</td>\n",
       "      <td>7029.527</td>\n",
       "      <td>OPS1</td>\n",
       "      <td>0.000004</td>\n",
       "      <td>0.0</td>\n",
       "      <td>10.495187</td>\n",
       "      <td>337.3462</td>\n",
       "      <td>34.2656</td>\n",
       "      <td>16</td>\n",
       "      <td>&lt;NA&gt;</td>\n",
       "      <td>2025-01-01 06:18:04.587840+00:00</td>\n",
       "    </tr>\n",
       "  </tbody>\n",
       "</table>\n",
       "</div>"
      ],
      "text/plain": [
       "  algorithm     apogee  argOfPerigee     bStar classificationMarking  \\\n",
       "0      SGP4  10202.213      259.3559  0.000943                     U   \n",
       "1      SGP4  10202.217      262.2564  0.000996                     U   \n",
       "2      SGP4   9286.717      275.2650  0.001633                     U   \n",
       "3      SGP4   9673.868      173.3927  0.000874                     U   \n",
       "4      SGP4  10594.496       34.2347  0.000585                     U   \n",
       "\n",
       "                         createdAt         createdBy  eccentricity     source  \\\n",
       "0 2025-01-02 00:05:10.959000+00:00  system.ob-ingest      0.184317  18th SPCS   \n",
       "1 2025-01-02 06:05:08.465000+00:00  system.ob-ingest      0.184319  18th SPCS   \n",
       "2 2025-01-01 23:05:08.691000+00:00  system.ob-ingest      0.145307  18th SPCS   \n",
       "3 2025-01-01 23:05:08.697000+00:00  system.ob-ingest      0.165118  18th SPCS   \n",
       "4 2025-01-02 00:05:10.967000+00:00  system.ob-ingest      0.202279  18th SPCS   \n",
       "\n",
       "   semiMajorAxis  satNo  revNo      raan   period   perigee origNetwork  \\\n",
       "0       8614.424      5  38543  156.6751  132.617  7026.636        OPS1   \n",
       "1       8614.417      5  38550  154.6883  132.617  7026.617        OPS1   \n",
       "2       8108.493     11  81389  294.6285  121.107  6930.269        OPS1   \n",
       "3       8302.909     12  71282  296.3941  125.489  6931.950        OPS1   \n",
       "4       8812.011     16  63302   43.3806  137.206  7029.527        OPS1   \n",
       "\n",
       "   meanMotionDot  meanMotionDDot  meanMotion  meanAnomaly  inclination  \\\n",
       "0       0.000008             0.0   10.858339      79.5230      34.2561   \n",
       "1       0.000008             0.0   10.858352      76.5981      34.2564   \n",
       "2       0.000031             0.0   11.890292      68.4325      32.8795   \n",
       "3       0.000015             0.0   11.475123     189.1611      32.9011   \n",
       "4       0.000004             0.0   10.495187     337.3462      34.2656   \n",
       "\n",
       "   idOnOrbit  idElset                            epoch  \n",
       "0          5     <NA> 2025-01-01 01:49:54.598368+00:00  \n",
       "1          5     <NA> 2025-01-01 17:17:08.960640+00:00  \n",
       "2         11     <NA> 2025-01-01 19:06:31.800960+00:00  \n",
       "3         12     <NA> 2025-01-01 19:47:07.123200+00:00  \n",
       "4         16     <NA> 2025-01-01 06:18:04.587840+00:00  "
      ]
     },
     "execution_count": 56,
     "metadata": {},
     "output_type": "execute_result"
    }
   ],
   "source": [
    "day = \"2025-01-01\"\n",
    "day_dir = PROC_DIR / f\"epoch_date={day}\"\n",
    "\n",
    "# read the whole partition (all files in that directory)\n",
    "df_day = pd.read_parquet(day_dir)\n",
    "df_day.head()"
   ]
  },
  {
   "cell_type": "code",
   "execution_count": 57,
   "id": "3d992877",
   "metadata": {},
   "outputs": [
    {
     "data": {
      "application/vnd.microsoft.datawrangler.viewer.v0+json": {
       "columns": [
        {
         "name": "index",
         "rawType": "int64",
         "type": "integer"
        },
        {
         "name": "algorithm",
         "rawType": "object",
         "type": "string"
        },
        {
         "name": "apogee",
         "rawType": "float64",
         "type": "float"
        },
        {
         "name": "argOfPerigee",
         "rawType": "float64",
         "type": "float"
        },
        {
         "name": "bStar",
         "rawType": "float64",
         "type": "float"
        },
        {
         "name": "classificationMarking",
         "rawType": "string",
         "type": "string"
        },
        {
         "name": "createdAt",
         "rawType": "datetime64[us, UTC]",
         "type": "unknown"
        },
        {
         "name": "createdBy",
         "rawType": "string",
         "type": "string"
        },
        {
         "name": "eccentricity",
         "rawType": "float64",
         "type": "float"
        },
        {
         "name": "source",
         "rawType": "string",
         "type": "string"
        },
        {
         "name": "semiMajorAxis",
         "rawType": "float64",
         "type": "float"
        },
        {
         "name": "satNo",
         "rawType": "Int64",
         "type": "integer"
        },
        {
         "name": "revNo",
         "rawType": "Int64",
         "type": "integer"
        },
        {
         "name": "raan",
         "rawType": "float64",
         "type": "float"
        },
        {
         "name": "period",
         "rawType": "float64",
         "type": "float"
        },
        {
         "name": "perigee",
         "rawType": "float64",
         "type": "float"
        },
        {
         "name": "origNetwork",
         "rawType": "object",
         "type": "string"
        },
        {
         "name": "meanMotionDot",
         "rawType": "float64",
         "type": "float"
        },
        {
         "name": "meanMotionDDot",
         "rawType": "float64",
         "type": "float"
        },
        {
         "name": "meanMotion",
         "rawType": "float64",
         "type": "float"
        },
        {
         "name": "meanAnomaly",
         "rawType": "float64",
         "type": "float"
        },
        {
         "name": "inclination",
         "rawType": "float64",
         "type": "float"
        },
        {
         "name": "idOnOrbit",
         "rawType": "Int64",
         "type": "integer"
        },
        {
         "name": "idElset",
         "rawType": "Int64",
         "type": "integer"
        },
        {
         "name": "epoch",
         "rawType": "datetime64[us, UTC]",
         "type": "unknown"
        }
       ],
       "ref": "6a22e4da-a8ac-4472-93c6-048329d12486",
       "rows": [
        [
         "0",
         "SGP4",
         "10202.213",
         "259.3559",
         "0.00094295",
         "U",
         "2025-01-02 00:05:10.959000+00:00",
         "system.ob-ingest",
         "0.1843174",
         "18th SPCS",
         "8614.424",
         "5",
         "38543",
         "156.6751",
         "132.617",
         "7026.636",
         "OPS1",
         "7.74e-06",
         "0.0",
         "10.85833854",
         "79.523",
         "34.2561",
         "5",
         null,
         "2025-01-01 01:49:54.598368+00:00"
        ],
        [
         "1",
         "SGP4",
         "10202.217",
         "262.2564",
         "0.00099556",
         "U",
         "2025-01-02 06:05:08.465000+00:00",
         "system.ob-ingest",
         "0.1843189",
         "18th SPCS",
         "8614.417",
         "5",
         "38550",
         "154.6883",
         "132.617",
         "7026.617",
         "OPS1",
         "8.16e-06",
         "0.0",
         "10.85835174",
         "76.5981",
         "34.2564",
         "5",
         null,
         "2025-01-01 17:17:08.960640+00:00"
        ],
        [
         "2",
         "SGP4",
         "9286.717",
         "275.265",
         "0.0016326",
         "U",
         "2025-01-01 23:05:08.691000+00:00",
         "system.ob-ingest",
         "0.1453074",
         "18th SPCS",
         "8108.493",
         "11",
         "81389",
         "294.6285",
         "121.107",
         "6930.269",
         "OPS1",
         "3.137e-05",
         "0.0",
         "11.89029196",
         "68.4325",
         "32.8795",
         "11",
         null,
         "2025-01-01 19:06:31.800960+00:00"
        ],
        [
         "3",
         "SGP4",
         "9673.868",
         "173.3927",
         "0.00087371",
         "U",
         "2025-01-01 23:05:08.697000+00:00",
         "system.ob-ingest",
         "0.1651179",
         "18th SPCS",
         "8302.909",
         "12",
         "71282",
         "296.3941",
         "125.489",
         "6931.950000000001",
         "OPS1",
         "1.51e-05",
         "0.0",
         "11.47512261",
         "189.1611",
         "32.9011",
         "12",
         null,
         "2025-01-01 19:47:07.123200+00:00"
        ],
        [
         "4",
         "SGP4",
         "10594.496",
         "34.2347",
         "0.00058458",
         "U",
         "2025-01-02 00:05:10.967000+00:00",
         "system.ob-ingest",
         "0.202279",
         "18th SPCS",
         "8812.011",
         "16",
         "63302",
         "43.3806",
         "137.206",
         "7029.527",
         "OPS1",
         "4.07e-06",
         "0.0",
         "10.49518704",
         "337.3462",
         "34.2656",
         "16",
         null,
         "2025-01-01 06:18:04.587840+00:00"
        ]
       ],
       "shape": {
        "columns": 24,
        "rows": 5
       }
      },
      "text/html": [
       "<div>\n",
       "<style scoped>\n",
       "    .dataframe tbody tr th:only-of-type {\n",
       "        vertical-align: middle;\n",
       "    }\n",
       "\n",
       "    .dataframe tbody tr th {\n",
       "        vertical-align: top;\n",
       "    }\n",
       "\n",
       "    .dataframe thead th {\n",
       "        text-align: right;\n",
       "    }\n",
       "</style>\n",
       "<table border=\"1\" class=\"dataframe\">\n",
       "  <thead>\n",
       "    <tr style=\"text-align: right;\">\n",
       "      <th></th>\n",
       "      <th>algorithm</th>\n",
       "      <th>apogee</th>\n",
       "      <th>argOfPerigee</th>\n",
       "      <th>bStar</th>\n",
       "      <th>classificationMarking</th>\n",
       "      <th>createdAt</th>\n",
       "      <th>createdBy</th>\n",
       "      <th>eccentricity</th>\n",
       "      <th>source</th>\n",
       "      <th>semiMajorAxis</th>\n",
       "      <th>satNo</th>\n",
       "      <th>revNo</th>\n",
       "      <th>raan</th>\n",
       "      <th>period</th>\n",
       "      <th>perigee</th>\n",
       "      <th>origNetwork</th>\n",
       "      <th>meanMotionDot</th>\n",
       "      <th>meanMotionDDot</th>\n",
       "      <th>meanMotion</th>\n",
       "      <th>meanAnomaly</th>\n",
       "      <th>inclination</th>\n",
       "      <th>idOnOrbit</th>\n",
       "      <th>idElset</th>\n",
       "      <th>epoch</th>\n",
       "    </tr>\n",
       "  </thead>\n",
       "  <tbody>\n",
       "    <tr>\n",
       "      <th>0</th>\n",
       "      <td>SGP4</td>\n",
       "      <td>10202.213</td>\n",
       "      <td>259.3559</td>\n",
       "      <td>0.000943</td>\n",
       "      <td>U</td>\n",
       "      <td>2025-01-02 00:05:10.959000+00:00</td>\n",
       "      <td>system.ob-ingest</td>\n",
       "      <td>0.184317</td>\n",
       "      <td>18th SPCS</td>\n",
       "      <td>8614.424</td>\n",
       "      <td>5</td>\n",
       "      <td>38543</td>\n",
       "      <td>156.6751</td>\n",
       "      <td>132.617</td>\n",
       "      <td>7026.636</td>\n",
       "      <td>OPS1</td>\n",
       "      <td>0.000008</td>\n",
       "      <td>0.0</td>\n",
       "      <td>10.858339</td>\n",
       "      <td>79.5230</td>\n",
       "      <td>34.2561</td>\n",
       "      <td>5</td>\n",
       "      <td>&lt;NA&gt;</td>\n",
       "      <td>2025-01-01 01:49:54.598368+00:00</td>\n",
       "    </tr>\n",
       "    <tr>\n",
       "      <th>1</th>\n",
       "      <td>SGP4</td>\n",
       "      <td>10202.217</td>\n",
       "      <td>262.2564</td>\n",
       "      <td>0.000996</td>\n",
       "      <td>U</td>\n",
       "      <td>2025-01-02 06:05:08.465000+00:00</td>\n",
       "      <td>system.ob-ingest</td>\n",
       "      <td>0.184319</td>\n",
       "      <td>18th SPCS</td>\n",
       "      <td>8614.417</td>\n",
       "      <td>5</td>\n",
       "      <td>38550</td>\n",
       "      <td>154.6883</td>\n",
       "      <td>132.617</td>\n",
       "      <td>7026.617</td>\n",
       "      <td>OPS1</td>\n",
       "      <td>0.000008</td>\n",
       "      <td>0.0</td>\n",
       "      <td>10.858352</td>\n",
       "      <td>76.5981</td>\n",
       "      <td>34.2564</td>\n",
       "      <td>5</td>\n",
       "      <td>&lt;NA&gt;</td>\n",
       "      <td>2025-01-01 17:17:08.960640+00:00</td>\n",
       "    </tr>\n",
       "    <tr>\n",
       "      <th>2</th>\n",
       "      <td>SGP4</td>\n",
       "      <td>9286.717</td>\n",
       "      <td>275.2650</td>\n",
       "      <td>0.001633</td>\n",
       "      <td>U</td>\n",
       "      <td>2025-01-01 23:05:08.691000+00:00</td>\n",
       "      <td>system.ob-ingest</td>\n",
       "      <td>0.145307</td>\n",
       "      <td>18th SPCS</td>\n",
       "      <td>8108.493</td>\n",
       "      <td>11</td>\n",
       "      <td>81389</td>\n",
       "      <td>294.6285</td>\n",
       "      <td>121.107</td>\n",
       "      <td>6930.269</td>\n",
       "      <td>OPS1</td>\n",
       "      <td>0.000031</td>\n",
       "      <td>0.0</td>\n",
       "      <td>11.890292</td>\n",
       "      <td>68.4325</td>\n",
       "      <td>32.8795</td>\n",
       "      <td>11</td>\n",
       "      <td>&lt;NA&gt;</td>\n",
       "      <td>2025-01-01 19:06:31.800960+00:00</td>\n",
       "    </tr>\n",
       "    <tr>\n",
       "      <th>3</th>\n",
       "      <td>SGP4</td>\n",
       "      <td>9673.868</td>\n",
       "      <td>173.3927</td>\n",
       "      <td>0.000874</td>\n",
       "      <td>U</td>\n",
       "      <td>2025-01-01 23:05:08.697000+00:00</td>\n",
       "      <td>system.ob-ingest</td>\n",
       "      <td>0.165118</td>\n",
       "      <td>18th SPCS</td>\n",
       "      <td>8302.909</td>\n",
       "      <td>12</td>\n",
       "      <td>71282</td>\n",
       "      <td>296.3941</td>\n",
       "      <td>125.489</td>\n",
       "      <td>6931.950</td>\n",
       "      <td>OPS1</td>\n",
       "      <td>0.000015</td>\n",
       "      <td>0.0</td>\n",
       "      <td>11.475123</td>\n",
       "      <td>189.1611</td>\n",
       "      <td>32.9011</td>\n",
       "      <td>12</td>\n",
       "      <td>&lt;NA&gt;</td>\n",
       "      <td>2025-01-01 19:47:07.123200+00:00</td>\n",
       "    </tr>\n",
       "    <tr>\n",
       "      <th>4</th>\n",
       "      <td>SGP4</td>\n",
       "      <td>10594.496</td>\n",
       "      <td>34.2347</td>\n",
       "      <td>0.000585</td>\n",
       "      <td>U</td>\n",
       "      <td>2025-01-02 00:05:10.967000+00:00</td>\n",
       "      <td>system.ob-ingest</td>\n",
       "      <td>0.202279</td>\n",
       "      <td>18th SPCS</td>\n",
       "      <td>8812.011</td>\n",
       "      <td>16</td>\n",
       "      <td>63302</td>\n",
       "      <td>43.3806</td>\n",
       "      <td>137.206</td>\n",
       "      <td>7029.527</td>\n",
       "      <td>OPS1</td>\n",
       "      <td>0.000004</td>\n",
       "      <td>0.0</td>\n",
       "      <td>10.495187</td>\n",
       "      <td>337.3462</td>\n",
       "      <td>34.2656</td>\n",
       "      <td>16</td>\n",
       "      <td>&lt;NA&gt;</td>\n",
       "      <td>2025-01-01 06:18:04.587840+00:00</td>\n",
       "    </tr>\n",
       "  </tbody>\n",
       "</table>\n",
       "</div>"
      ],
      "text/plain": [
       "  algorithm     apogee  argOfPerigee     bStar classificationMarking  \\\n",
       "0      SGP4  10202.213      259.3559  0.000943                     U   \n",
       "1      SGP4  10202.217      262.2564  0.000996                     U   \n",
       "2      SGP4   9286.717      275.2650  0.001633                     U   \n",
       "3      SGP4   9673.868      173.3927  0.000874                     U   \n",
       "4      SGP4  10594.496       34.2347  0.000585                     U   \n",
       "\n",
       "                         createdAt         createdBy  eccentricity     source  \\\n",
       "0 2025-01-02 00:05:10.959000+00:00  system.ob-ingest      0.184317  18th SPCS   \n",
       "1 2025-01-02 06:05:08.465000+00:00  system.ob-ingest      0.184319  18th SPCS   \n",
       "2 2025-01-01 23:05:08.691000+00:00  system.ob-ingest      0.145307  18th SPCS   \n",
       "3 2025-01-01 23:05:08.697000+00:00  system.ob-ingest      0.165118  18th SPCS   \n",
       "4 2025-01-02 00:05:10.967000+00:00  system.ob-ingest      0.202279  18th SPCS   \n",
       "\n",
       "   semiMajorAxis  satNo  revNo      raan   period   perigee origNetwork  \\\n",
       "0       8614.424      5  38543  156.6751  132.617  7026.636        OPS1   \n",
       "1       8614.417      5  38550  154.6883  132.617  7026.617        OPS1   \n",
       "2       8108.493     11  81389  294.6285  121.107  6930.269        OPS1   \n",
       "3       8302.909     12  71282  296.3941  125.489  6931.950        OPS1   \n",
       "4       8812.011     16  63302   43.3806  137.206  7029.527        OPS1   \n",
       "\n",
       "   meanMotionDot  meanMotionDDot  meanMotion  meanAnomaly  inclination  \\\n",
       "0       0.000008             0.0   10.858339      79.5230      34.2561   \n",
       "1       0.000008             0.0   10.858352      76.5981      34.2564   \n",
       "2       0.000031             0.0   11.890292      68.4325      32.8795   \n",
       "3       0.000015             0.0   11.475123     189.1611      32.9011   \n",
       "4       0.000004             0.0   10.495187     337.3462      34.2656   \n",
       "\n",
       "   idOnOrbit  idElset                            epoch  \n",
       "0          5     <NA> 2025-01-01 01:49:54.598368+00:00  \n",
       "1          5     <NA> 2025-01-01 17:17:08.960640+00:00  \n",
       "2         11     <NA> 2025-01-01 19:06:31.800960+00:00  \n",
       "3         12     <NA> 2025-01-01 19:47:07.123200+00:00  \n",
       "4         16     <NA> 2025-01-01 06:18:04.587840+00:00  "
      ]
     },
     "execution_count": 57,
     "metadata": {},
     "output_type": "execute_result"
    }
   ],
   "source": [
    "# Load multiple days\n",
    "days = [\"2025-01-01\", \"2025-01-02\"]\n",
    "paths = [PROC_DIR / f\"epoch_date={d}\" for d in days]\n",
    "df = pd.concat([pd.read_parquet(p) for p in paths], ignore_index=True)\n",
    "df.head()"
   ]
  },
  {
   "cell_type": "code",
   "execution_count": 58,
   "id": "e0958e7d",
   "metadata": {},
   "outputs": [],
   "source": [
    "pd.display_max_columns = None  # show all columns"
   ]
  },
  {
   "cell_type": "code",
   "execution_count": 59,
   "id": "6c71d810",
   "metadata": {},
   "outputs": [
    {
     "name": "stdout",
     "output_type": "stream",
     "text": [
      "<class 'pandas.core.frame.DataFrame'>\n",
      "RangeIndex: 61979 entries, 0 to 61978\n",
      "Data columns (total 24 columns):\n",
      " #   Column                 Non-Null Count  Dtype              \n",
      "---  ------                 --------------  -----              \n",
      " 0   algorithm              61979 non-null  object             \n",
      " 1   apogee                 61979 non-null  float64            \n",
      " 2   argOfPerigee           61979 non-null  float64            \n",
      " 3   bStar                  61979 non-null  float64            \n",
      " 4   classificationMarking  61979 non-null  string             \n",
      " 5   createdAt              61979 non-null  datetime64[us, UTC]\n",
      " 6   createdBy              61979 non-null  string             \n",
      " 7   eccentricity           61979 non-null  float64            \n",
      " 8   source                 61979 non-null  string             \n",
      " 9   semiMajorAxis          61979 non-null  float64            \n",
      " 10  satNo                  61979 non-null  Int64              \n",
      " 11  revNo                  61979 non-null  Int64              \n",
      " 12  raan                   61979 non-null  float64            \n",
      " 13  period                 61979 non-null  float64            \n",
      " 14  perigee                61979 non-null  float64            \n",
      " 15  origNetwork            61979 non-null  object             \n",
      " 16  meanMotionDot          61979 non-null  float64            \n",
      " 17  meanMotionDDot         61979 non-null  float64            \n",
      " 18  meanMotion             61979 non-null  float64            \n",
      " 19  meanAnomaly            61979 non-null  float64            \n",
      " 20  inclination            61979 non-null  float64            \n",
      " 21  idOnOrbit              61584 non-null  Int64              \n",
      " 22  idElset                0 non-null      Int64              \n",
      " 23  epoch                  61979 non-null  datetime64[us, UTC]\n",
      "dtypes: Int64(4), datetime64[us, UTC](2), float64(13), object(2), string(3)\n",
      "memory usage: 11.6+ MB\n"
     ]
    }
   ],
   "source": [
    "df.info()"
   ]
  },
  {
   "cell_type": "code",
   "execution_count": 60,
   "id": "33aa8132",
   "metadata": {},
   "outputs": [
    {
     "data": {
      "application/vnd.microsoft.datawrangler.viewer.v0+json": {
       "columns": [
        {
         "name": "index",
         "rawType": "int64",
         "type": "integer"
        },
        {
         "name": "algorithm",
         "rawType": "object",
         "type": "string"
        },
        {
         "name": "apogee",
         "rawType": "float64",
         "type": "float"
        },
        {
         "name": "argOfPerigee",
         "rawType": "float64",
         "type": "float"
        },
        {
         "name": "bStar",
         "rawType": "float64",
         "type": "float"
        },
        {
         "name": "classificationMarking",
         "rawType": "string",
         "type": "string"
        },
        {
         "name": "createdAt",
         "rawType": "datetime64[us, UTC]",
         "type": "unknown"
        },
        {
         "name": "createdBy",
         "rawType": "string",
         "type": "string"
        },
        {
         "name": "eccentricity",
         "rawType": "float64",
         "type": "float"
        },
        {
         "name": "source",
         "rawType": "string",
         "type": "string"
        },
        {
         "name": "semiMajorAxis",
         "rawType": "float64",
         "type": "float"
        },
        {
         "name": "satNo",
         "rawType": "Int64",
         "type": "integer"
        },
        {
         "name": "revNo",
         "rawType": "Int64",
         "type": "integer"
        },
        {
         "name": "raan",
         "rawType": "float64",
         "type": "float"
        },
        {
         "name": "period",
         "rawType": "float64",
         "type": "float"
        },
        {
         "name": "perigee",
         "rawType": "float64",
         "type": "float"
        },
        {
         "name": "origNetwork",
         "rawType": "object",
         "type": "string"
        },
        {
         "name": "meanMotionDot",
         "rawType": "float64",
         "type": "float"
        },
        {
         "name": "meanMotionDDot",
         "rawType": "float64",
         "type": "float"
        },
        {
         "name": "meanMotion",
         "rawType": "float64",
         "type": "float"
        },
        {
         "name": "meanAnomaly",
         "rawType": "float64",
         "type": "float"
        },
        {
         "name": "inclination",
         "rawType": "float64",
         "type": "float"
        },
        {
         "name": "idOnOrbit",
         "rawType": "Int64",
         "type": "integer"
        },
        {
         "name": "idElset",
         "rawType": "Int64",
         "type": "integer"
        },
        {
         "name": "epoch",
         "rawType": "datetime64[us, UTC]",
         "type": "unknown"
        },
        {
         "name": "epoch_date",
         "rawType": "category",
         "type": "unknown"
        }
       ],
       "ref": "3d4e6bd8-04f4-4dee-b383-16f1baf0263a",
       "rows": [
        [
         "0",
         "SGP4",
         "10202.213",
         "259.3559",
         "0.00094295",
         "U",
         "2025-01-02 00:05:10.959000+00:00",
         "system.ob-ingest",
         "0.1843174",
         "18th SPCS",
         "8614.424",
         "5",
         "38543",
         "156.6751",
         "132.617",
         "7026.636",
         "OPS1",
         "7.74e-06",
         "0.0",
         "10.85833854",
         "79.523",
         "34.2561",
         "5",
         null,
         "2025-01-01 01:49:54.598368+00:00",
         "2025-01-01"
        ],
        [
         "1",
         "SGP4",
         "10202.217",
         "262.2564",
         "0.00099556",
         "U",
         "2025-01-02 06:05:08.465000+00:00",
         "system.ob-ingest",
         "0.1843189",
         "18th SPCS",
         "8614.417",
         "5",
         "38550",
         "154.6883",
         "132.617",
         "7026.617",
         "OPS1",
         "8.16e-06",
         "0.0",
         "10.85835174",
         "76.5981",
         "34.2564",
         "5",
         null,
         "2025-01-01 17:17:08.960640+00:00",
         "2025-01-01"
        ],
        [
         "2",
         "SGP4",
         "9286.717",
         "275.265",
         "0.0016326",
         "U",
         "2025-01-01 23:05:08.691000+00:00",
         "system.ob-ingest",
         "0.1453074",
         "18th SPCS",
         "8108.493",
         "11",
         "81389",
         "294.6285",
         "121.107",
         "6930.269",
         "OPS1",
         "3.137e-05",
         "0.0",
         "11.89029196",
         "68.4325",
         "32.8795",
         "11",
         null,
         "2025-01-01 19:06:31.800960+00:00",
         "2025-01-01"
        ],
        [
         "3",
         "SGP4",
         "9673.868",
         "173.3927",
         "0.00087371",
         "U",
         "2025-01-01 23:05:08.697000+00:00",
         "system.ob-ingest",
         "0.1651179",
         "18th SPCS",
         "8302.909",
         "12",
         "71282",
         "296.3941",
         "125.489",
         "6931.950000000001",
         "OPS1",
         "1.51e-05",
         "0.0",
         "11.47512261",
         "189.1611",
         "32.9011",
         "12",
         null,
         "2025-01-01 19:47:07.123200+00:00",
         "2025-01-01"
        ],
        [
         "4",
         "SGP4",
         "10594.496",
         "34.2347",
         "0.00058458",
         "U",
         "2025-01-02 00:05:10.967000+00:00",
         "system.ob-ingest",
         "0.202279",
         "18th SPCS",
         "8812.011",
         "16",
         "63302",
         "43.3806",
         "137.206",
         "7029.527",
         "OPS1",
         "4.07e-06",
         "0.0",
         "10.49518704",
         "337.3462",
         "34.2656",
         "16",
         null,
         "2025-01-01 06:18:04.587840+00:00",
         "2025-01-01"
        ]
       ],
       "shape": {
        "columns": 25,
        "rows": 5
       }
      },
      "text/html": [
       "<div>\n",
       "<style scoped>\n",
       "    .dataframe tbody tr th:only-of-type {\n",
       "        vertical-align: middle;\n",
       "    }\n",
       "\n",
       "    .dataframe tbody tr th {\n",
       "        vertical-align: top;\n",
       "    }\n",
       "\n",
       "    .dataframe thead th {\n",
       "        text-align: right;\n",
       "    }\n",
       "</style>\n",
       "<table border=\"1\" class=\"dataframe\">\n",
       "  <thead>\n",
       "    <tr style=\"text-align: right;\">\n",
       "      <th></th>\n",
       "      <th>algorithm</th>\n",
       "      <th>apogee</th>\n",
       "      <th>argOfPerigee</th>\n",
       "      <th>bStar</th>\n",
       "      <th>classificationMarking</th>\n",
       "      <th>createdAt</th>\n",
       "      <th>createdBy</th>\n",
       "      <th>eccentricity</th>\n",
       "      <th>source</th>\n",
       "      <th>semiMajorAxis</th>\n",
       "      <th>satNo</th>\n",
       "      <th>revNo</th>\n",
       "      <th>raan</th>\n",
       "      <th>period</th>\n",
       "      <th>perigee</th>\n",
       "      <th>origNetwork</th>\n",
       "      <th>meanMotionDot</th>\n",
       "      <th>meanMotionDDot</th>\n",
       "      <th>meanMotion</th>\n",
       "      <th>meanAnomaly</th>\n",
       "      <th>inclination</th>\n",
       "      <th>idOnOrbit</th>\n",
       "      <th>idElset</th>\n",
       "      <th>epoch</th>\n",
       "      <th>epoch_date</th>\n",
       "    </tr>\n",
       "  </thead>\n",
       "  <tbody>\n",
       "    <tr>\n",
       "      <th>0</th>\n",
       "      <td>SGP4</td>\n",
       "      <td>10202.213</td>\n",
       "      <td>259.3559</td>\n",
       "      <td>0.000943</td>\n",
       "      <td>U</td>\n",
       "      <td>2025-01-02 00:05:10.959000+00:00</td>\n",
       "      <td>system.ob-ingest</td>\n",
       "      <td>0.184317</td>\n",
       "      <td>18th SPCS</td>\n",
       "      <td>8614.424</td>\n",
       "      <td>5</td>\n",
       "      <td>38543</td>\n",
       "      <td>156.6751</td>\n",
       "      <td>132.617</td>\n",
       "      <td>7026.636</td>\n",
       "      <td>OPS1</td>\n",
       "      <td>0.000008</td>\n",
       "      <td>0.0</td>\n",
       "      <td>10.858339</td>\n",
       "      <td>79.5230</td>\n",
       "      <td>34.2561</td>\n",
       "      <td>5</td>\n",
       "      <td>&lt;NA&gt;</td>\n",
       "      <td>2025-01-01 01:49:54.598368+00:00</td>\n",
       "      <td>2025-01-01</td>\n",
       "    </tr>\n",
       "    <tr>\n",
       "      <th>1</th>\n",
       "      <td>SGP4</td>\n",
       "      <td>10202.217</td>\n",
       "      <td>262.2564</td>\n",
       "      <td>0.000996</td>\n",
       "      <td>U</td>\n",
       "      <td>2025-01-02 06:05:08.465000+00:00</td>\n",
       "      <td>system.ob-ingest</td>\n",
       "      <td>0.184319</td>\n",
       "      <td>18th SPCS</td>\n",
       "      <td>8614.417</td>\n",
       "      <td>5</td>\n",
       "      <td>38550</td>\n",
       "      <td>154.6883</td>\n",
       "      <td>132.617</td>\n",
       "      <td>7026.617</td>\n",
       "      <td>OPS1</td>\n",
       "      <td>0.000008</td>\n",
       "      <td>0.0</td>\n",
       "      <td>10.858352</td>\n",
       "      <td>76.5981</td>\n",
       "      <td>34.2564</td>\n",
       "      <td>5</td>\n",
       "      <td>&lt;NA&gt;</td>\n",
       "      <td>2025-01-01 17:17:08.960640+00:00</td>\n",
       "      <td>2025-01-01</td>\n",
       "    </tr>\n",
       "    <tr>\n",
       "      <th>2</th>\n",
       "      <td>SGP4</td>\n",
       "      <td>9286.717</td>\n",
       "      <td>275.2650</td>\n",
       "      <td>0.001633</td>\n",
       "      <td>U</td>\n",
       "      <td>2025-01-01 23:05:08.691000+00:00</td>\n",
       "      <td>system.ob-ingest</td>\n",
       "      <td>0.145307</td>\n",
       "      <td>18th SPCS</td>\n",
       "      <td>8108.493</td>\n",
       "      <td>11</td>\n",
       "      <td>81389</td>\n",
       "      <td>294.6285</td>\n",
       "      <td>121.107</td>\n",
       "      <td>6930.269</td>\n",
       "      <td>OPS1</td>\n",
       "      <td>0.000031</td>\n",
       "      <td>0.0</td>\n",
       "      <td>11.890292</td>\n",
       "      <td>68.4325</td>\n",
       "      <td>32.8795</td>\n",
       "      <td>11</td>\n",
       "      <td>&lt;NA&gt;</td>\n",
       "      <td>2025-01-01 19:06:31.800960+00:00</td>\n",
       "      <td>2025-01-01</td>\n",
       "    </tr>\n",
       "    <tr>\n",
       "      <th>3</th>\n",
       "      <td>SGP4</td>\n",
       "      <td>9673.868</td>\n",
       "      <td>173.3927</td>\n",
       "      <td>0.000874</td>\n",
       "      <td>U</td>\n",
       "      <td>2025-01-01 23:05:08.697000+00:00</td>\n",
       "      <td>system.ob-ingest</td>\n",
       "      <td>0.165118</td>\n",
       "      <td>18th SPCS</td>\n",
       "      <td>8302.909</td>\n",
       "      <td>12</td>\n",
       "      <td>71282</td>\n",
       "      <td>296.3941</td>\n",
       "      <td>125.489</td>\n",
       "      <td>6931.950</td>\n",
       "      <td>OPS1</td>\n",
       "      <td>0.000015</td>\n",
       "      <td>0.0</td>\n",
       "      <td>11.475123</td>\n",
       "      <td>189.1611</td>\n",
       "      <td>32.9011</td>\n",
       "      <td>12</td>\n",
       "      <td>&lt;NA&gt;</td>\n",
       "      <td>2025-01-01 19:47:07.123200+00:00</td>\n",
       "      <td>2025-01-01</td>\n",
       "    </tr>\n",
       "    <tr>\n",
       "      <th>4</th>\n",
       "      <td>SGP4</td>\n",
       "      <td>10594.496</td>\n",
       "      <td>34.2347</td>\n",
       "      <td>0.000585</td>\n",
       "      <td>U</td>\n",
       "      <td>2025-01-02 00:05:10.967000+00:00</td>\n",
       "      <td>system.ob-ingest</td>\n",
       "      <td>0.202279</td>\n",
       "      <td>18th SPCS</td>\n",
       "      <td>8812.011</td>\n",
       "      <td>16</td>\n",
       "      <td>63302</td>\n",
       "      <td>43.3806</td>\n",
       "      <td>137.206</td>\n",
       "      <td>7029.527</td>\n",
       "      <td>OPS1</td>\n",
       "      <td>0.000004</td>\n",
       "      <td>0.0</td>\n",
       "      <td>10.495187</td>\n",
       "      <td>337.3462</td>\n",
       "      <td>34.2656</td>\n",
       "      <td>16</td>\n",
       "      <td>&lt;NA&gt;</td>\n",
       "      <td>2025-01-01 06:18:04.587840+00:00</td>\n",
       "      <td>2025-01-01</td>\n",
       "    </tr>\n",
       "  </tbody>\n",
       "</table>\n",
       "</div>"
      ],
      "text/plain": [
       "  algorithm     apogee  argOfPerigee     bStar classificationMarking  \\\n",
       "0      SGP4  10202.213      259.3559  0.000943                     U   \n",
       "1      SGP4  10202.217      262.2564  0.000996                     U   \n",
       "2      SGP4   9286.717      275.2650  0.001633                     U   \n",
       "3      SGP4   9673.868      173.3927  0.000874                     U   \n",
       "4      SGP4  10594.496       34.2347  0.000585                     U   \n",
       "\n",
       "                         createdAt         createdBy  eccentricity     source  \\\n",
       "0 2025-01-02 00:05:10.959000+00:00  system.ob-ingest      0.184317  18th SPCS   \n",
       "1 2025-01-02 06:05:08.465000+00:00  system.ob-ingest      0.184319  18th SPCS   \n",
       "2 2025-01-01 23:05:08.691000+00:00  system.ob-ingest      0.145307  18th SPCS   \n",
       "3 2025-01-01 23:05:08.697000+00:00  system.ob-ingest      0.165118  18th SPCS   \n",
       "4 2025-01-02 00:05:10.967000+00:00  system.ob-ingest      0.202279  18th SPCS   \n",
       "\n",
       "   semiMajorAxis  satNo  revNo      raan   period   perigee origNetwork  \\\n",
       "0       8614.424      5  38543  156.6751  132.617  7026.636        OPS1   \n",
       "1       8614.417      5  38550  154.6883  132.617  7026.617        OPS1   \n",
       "2       8108.493     11  81389  294.6285  121.107  6930.269        OPS1   \n",
       "3       8302.909     12  71282  296.3941  125.489  6931.950        OPS1   \n",
       "4       8812.011     16  63302   43.3806  137.206  7029.527        OPS1   \n",
       "\n",
       "   meanMotionDot  meanMotionDDot  meanMotion  meanAnomaly  inclination  \\\n",
       "0       0.000008             0.0   10.858339      79.5230      34.2561   \n",
       "1       0.000008             0.0   10.858352      76.5981      34.2564   \n",
       "2       0.000031             0.0   11.890292      68.4325      32.8795   \n",
       "3       0.000015             0.0   11.475123     189.1611      32.9011   \n",
       "4       0.000004             0.0   10.495187     337.3462      34.2656   \n",
       "\n",
       "   idOnOrbit  idElset                            epoch  epoch_date  \n",
       "0          5     <NA> 2025-01-01 01:49:54.598368+00:00  2025-01-01  \n",
       "1          5     <NA> 2025-01-01 17:17:08.960640+00:00  2025-01-01  \n",
       "2         11     <NA> 2025-01-01 19:06:31.800960+00:00  2025-01-01  \n",
       "3         12     <NA> 2025-01-01 19:47:07.123200+00:00  2025-01-01  \n",
       "4         16     <NA> 2025-01-01 06:18:04.587840+00:00  2025-01-01  "
      ]
     },
     "execution_count": 60,
     "metadata": {},
     "output_type": "execute_result"
    }
   ],
   "source": [
    "df_all = pd.read_parquet(PROC_DIR)\n",
    "\n",
    "df_all.head()"
   ]
  },
  {
   "cell_type": "code",
   "execution_count": 61,
   "id": "802b7f94",
   "metadata": {},
   "outputs": [
    {
     "name": "stdout",
     "output_type": "stream",
     "text": [
      "<class 'pandas.core.frame.DataFrame'>\n",
      "RangeIndex: 9578380 entries, 0 to 9578379\n",
      "Data columns (total 25 columns):\n",
      " #   Column                 Dtype              \n",
      "---  ------                 -----              \n",
      " 0   algorithm              object             \n",
      " 1   apogee                 float64            \n",
      " 2   argOfPerigee           float64            \n",
      " 3   bStar                  float64            \n",
      " 4   classificationMarking  string             \n",
      " 5   createdAt              datetime64[us, UTC]\n",
      " 6   createdBy              string             \n",
      " 7   eccentricity           float64            \n",
      " 8   source                 string             \n",
      " 9   semiMajorAxis          float64            \n",
      " 10  satNo                  Int64              \n",
      " 11  revNo                  Int64              \n",
      " 12  raan                   float64            \n",
      " 13  period                 float64            \n",
      " 14  perigee                float64            \n",
      " 15  origNetwork            object             \n",
      " 16  meanMotionDot          float64            \n",
      " 17  meanMotionDDot         float64            \n",
      " 18  meanMotion             float64            \n",
      " 19  meanAnomaly            float64            \n",
      " 20  inclination            float64            \n",
      " 21  idOnOrbit              Int64              \n",
      " 22  idElset                Int64              \n",
      " 23  epoch                  datetime64[us, UTC]\n",
      " 24  epoch_date             category           \n",
      "dtypes: Int64(4), category(1), datetime64[us, UTC](2), float64(13), object(2), string(3)\n",
      "memory usage: 1.8+ GB\n"
     ]
    }
   ],
   "source": [
    "df_all.info()"
   ]
  },
  {
   "cell_type": "markdown",
   "id": "1afde0f1",
   "metadata": {},
   "source": [
    "## Column Explanations\n",
    "📌 **Identification & Metadata**\n",
    "* satNo → NORAD satellite catalog number (unique ID across datasets).\n",
    "* idOnOrbit / idElset → Internal UDL identifiers for that specific elset record.\n",
    "* epoch → Time the orbit is valid from (reference timestamp).\n",
    "* epoch_date → (Categorical form of above, likely for partitioning).\n",
    "* createdAt / createdBy → When/whom the record was ingested into UDL.\n",
    "* classificationMarking → Security label (probably “UNCLASSIFIED” for your dataset).\n",
    "* origNetwork / source → Where the record came from (likely “18 SDS” here).\n",
    "\n",
    "📌 **Orbital Geometry**\n",
    "These describe the shape and orientation of the orbit:\n",
    "* semiMajorAxis → Half the longest axis of the orbit ellipse (size of orbit).\n",
    "* eccentricity → “Roundness” of the orbit (0 = circle, >0 = ellipse).\n",
    "* inclination → Tilt of the orbit relative to Earth’s equator (0° = equatorial, 90° = polar).\n",
    "* raan (Right Ascension of Ascending Node) → Where the orbit crosses the equator.\n",
    "* argOfPerigee → Orientation of the closest point in the orbit.\n",
    "* meanAnomaly → Position of the satellite in its orbit at the epoch.\n",
    "\n",
    "📌 **Orbital Motion**\n",
    "These describe how fast the object moves:\n",
    "* meanMotion → Revolutions per day (e.g., ~15 rev/day for LEO).\n",
    "* period → Orbital period in minutes (1 / meanMotion).\n",
    "* revNo → Revolution number since launch.\n",
    "\n",
    "📌 **Derived Orbit Properties**\n",
    "* apogee → Highest altitude above Earth.\n",
    "* perigee → Lowest altitude above Earth.\n",
    "\n",
    "📌 **Drag / Perturbation Terms**\n",
    "These describe how much Earth’s atmosphere & forces perturb the orbit:\n",
    "* bStar → Atmospheric drag parameter.\n",
    "* meanMotionDot → First derivative (rate of change of mean motion).\n",
    "* meanMotionDDot → Second derivative (acceleration of mean motion).\n",
    "* algorithm → Which orbit determination algorithm was used (often “SGP4”)."
   ]
  },
  {
   "cell_type": "code",
   "execution_count": 62,
   "id": "c1616a2e",
   "metadata": {},
   "outputs": [],
   "source": [
    "pd.set_option('display.max_columns', None) "
   ]
  },
  {
   "cell_type": "code",
   "execution_count": 63,
   "id": "bd4e1db9",
   "metadata": {},
   "outputs": [
    {
     "data": {
      "application/vnd.microsoft.datawrangler.viewer.v0+json": {
       "columns": [
        {
         "name": "index",
         "rawType": "int64",
         "type": "integer"
        },
        {
         "name": "algorithm",
         "rawType": "object",
         "type": "string"
        },
        {
         "name": "apogee",
         "rawType": "float64",
         "type": "float"
        },
        {
         "name": "argOfPerigee",
         "rawType": "float64",
         "type": "float"
        },
        {
         "name": "bStar",
         "rawType": "float64",
         "type": "float"
        },
        {
         "name": "classificationMarking",
         "rawType": "string",
         "type": "string"
        },
        {
         "name": "createdAt",
         "rawType": "datetime64[us, UTC]",
         "type": "unknown"
        },
        {
         "name": "createdBy",
         "rawType": "string",
         "type": "string"
        },
        {
         "name": "eccentricity",
         "rawType": "float64",
         "type": "float"
        },
        {
         "name": "source",
         "rawType": "string",
         "type": "string"
        },
        {
         "name": "semiMajorAxis",
         "rawType": "float64",
         "type": "float"
        },
        {
         "name": "satNo",
         "rawType": "Int64",
         "type": "integer"
        },
        {
         "name": "revNo",
         "rawType": "Int64",
         "type": "integer"
        },
        {
         "name": "raan",
         "rawType": "float64",
         "type": "float"
        },
        {
         "name": "period",
         "rawType": "float64",
         "type": "float"
        },
        {
         "name": "perigee",
         "rawType": "float64",
         "type": "float"
        },
        {
         "name": "origNetwork",
         "rawType": "object",
         "type": "string"
        },
        {
         "name": "meanMotionDot",
         "rawType": "float64",
         "type": "float"
        },
        {
         "name": "meanMotionDDot",
         "rawType": "float64",
         "type": "float"
        },
        {
         "name": "meanMotion",
         "rawType": "float64",
         "type": "float"
        },
        {
         "name": "meanAnomaly",
         "rawType": "float64",
         "type": "float"
        },
        {
         "name": "inclination",
         "rawType": "float64",
         "type": "float"
        },
        {
         "name": "idOnOrbit",
         "rawType": "Int64",
         "type": "integer"
        },
        {
         "name": "idElset",
         "rawType": "Int64",
         "type": "integer"
        },
        {
         "name": "epoch",
         "rawType": "datetime64[us, UTC]",
         "type": "unknown"
        },
        {
         "name": "epoch_date",
         "rawType": "category",
         "type": "unknown"
        }
       ],
       "ref": "8058e839-6a5f-4113-af35-0ea8fd14e3b8",
       "rows": [
        [
         "0",
         "SGP4",
         "10202.213",
         "259.3559",
         "0.00094295",
         "U",
         "2025-01-02 00:05:10.959000+00:00",
         "system.ob-ingest",
         "0.1843174",
         "18th SPCS",
         "8614.424",
         "5",
         "38543",
         "156.6751",
         "132.617",
         "7026.636",
         "OPS1",
         "7.74e-06",
         "0.0",
         "10.85833854",
         "79.523",
         "34.2561",
         "5",
         null,
         "2025-01-01 01:49:54.598368+00:00",
         "2025-01-01"
        ],
        [
         "1",
         "SGP4",
         "10202.217",
         "262.2564",
         "0.00099556",
         "U",
         "2025-01-02 06:05:08.465000+00:00",
         "system.ob-ingest",
         "0.1843189",
         "18th SPCS",
         "8614.417",
         "5",
         "38550",
         "154.6883",
         "132.617",
         "7026.617",
         "OPS1",
         "8.16e-06",
         "0.0",
         "10.85835174",
         "76.5981",
         "34.2564",
         "5",
         null,
         "2025-01-01 17:17:08.960640+00:00",
         "2025-01-01"
        ],
        [
         "2",
         "SGP4",
         "9286.717",
         "275.265",
         "0.0016326",
         "U",
         "2025-01-01 23:05:08.691000+00:00",
         "system.ob-ingest",
         "0.1453074",
         "18th SPCS",
         "8108.493",
         "11",
         "81389",
         "294.6285",
         "121.107",
         "6930.269",
         "OPS1",
         "3.137e-05",
         "0.0",
         "11.89029196",
         "68.4325",
         "32.8795",
         "11",
         null,
         "2025-01-01 19:06:31.800960+00:00",
         "2025-01-01"
        ],
        [
         "3",
         "SGP4",
         "9673.868",
         "173.3927",
         "0.00087371",
         "U",
         "2025-01-01 23:05:08.697000+00:00",
         "system.ob-ingest",
         "0.1651179",
         "18th SPCS",
         "8302.909",
         "12",
         "71282",
         "296.3941",
         "125.489",
         "6931.950000000001",
         "OPS1",
         "1.51e-05",
         "0.0",
         "11.47512261",
         "189.1611",
         "32.9011",
         "12",
         null,
         "2025-01-01 19:47:07.123200+00:00",
         "2025-01-01"
        ],
        [
         "4",
         "SGP4",
         "10594.496",
         "34.2347",
         "0.00058458",
         "U",
         "2025-01-02 00:05:10.967000+00:00",
         "system.ob-ingest",
         "0.202279",
         "18th SPCS",
         "8812.011",
         "16",
         "63302",
         "43.3806",
         "137.206",
         "7029.527",
         "OPS1",
         "4.07e-06",
         "0.0",
         "10.49518704",
         "337.3462",
         "34.2656",
         "16",
         null,
         "2025-01-01 06:18:04.587840+00:00",
         "2025-01-01"
        ]
       ],
       "shape": {
        "columns": 25,
        "rows": 5
       }
      },
      "text/html": [
       "<div>\n",
       "<style scoped>\n",
       "    .dataframe tbody tr th:only-of-type {\n",
       "        vertical-align: middle;\n",
       "    }\n",
       "\n",
       "    .dataframe tbody tr th {\n",
       "        vertical-align: top;\n",
       "    }\n",
       "\n",
       "    .dataframe thead th {\n",
       "        text-align: right;\n",
       "    }\n",
       "</style>\n",
       "<table border=\"1\" class=\"dataframe\">\n",
       "  <thead>\n",
       "    <tr style=\"text-align: right;\">\n",
       "      <th></th>\n",
       "      <th>algorithm</th>\n",
       "      <th>apogee</th>\n",
       "      <th>argOfPerigee</th>\n",
       "      <th>bStar</th>\n",
       "      <th>classificationMarking</th>\n",
       "      <th>createdAt</th>\n",
       "      <th>createdBy</th>\n",
       "      <th>eccentricity</th>\n",
       "      <th>source</th>\n",
       "      <th>semiMajorAxis</th>\n",
       "      <th>satNo</th>\n",
       "      <th>revNo</th>\n",
       "      <th>raan</th>\n",
       "      <th>period</th>\n",
       "      <th>perigee</th>\n",
       "      <th>origNetwork</th>\n",
       "      <th>meanMotionDot</th>\n",
       "      <th>meanMotionDDot</th>\n",
       "      <th>meanMotion</th>\n",
       "      <th>meanAnomaly</th>\n",
       "      <th>inclination</th>\n",
       "      <th>idOnOrbit</th>\n",
       "      <th>idElset</th>\n",
       "      <th>epoch</th>\n",
       "      <th>epoch_date</th>\n",
       "    </tr>\n",
       "  </thead>\n",
       "  <tbody>\n",
       "    <tr>\n",
       "      <th>0</th>\n",
       "      <td>SGP4</td>\n",
       "      <td>10202.213</td>\n",
       "      <td>259.3559</td>\n",
       "      <td>0.000943</td>\n",
       "      <td>U</td>\n",
       "      <td>2025-01-02 00:05:10.959000+00:00</td>\n",
       "      <td>system.ob-ingest</td>\n",
       "      <td>0.184317</td>\n",
       "      <td>18th SPCS</td>\n",
       "      <td>8614.424</td>\n",
       "      <td>5</td>\n",
       "      <td>38543</td>\n",
       "      <td>156.6751</td>\n",
       "      <td>132.617</td>\n",
       "      <td>7026.636</td>\n",
       "      <td>OPS1</td>\n",
       "      <td>0.000008</td>\n",
       "      <td>0.0</td>\n",
       "      <td>10.858339</td>\n",
       "      <td>79.5230</td>\n",
       "      <td>34.2561</td>\n",
       "      <td>5</td>\n",
       "      <td>&lt;NA&gt;</td>\n",
       "      <td>2025-01-01 01:49:54.598368+00:00</td>\n",
       "      <td>2025-01-01</td>\n",
       "    </tr>\n",
       "    <tr>\n",
       "      <th>1</th>\n",
       "      <td>SGP4</td>\n",
       "      <td>10202.217</td>\n",
       "      <td>262.2564</td>\n",
       "      <td>0.000996</td>\n",
       "      <td>U</td>\n",
       "      <td>2025-01-02 06:05:08.465000+00:00</td>\n",
       "      <td>system.ob-ingest</td>\n",
       "      <td>0.184319</td>\n",
       "      <td>18th SPCS</td>\n",
       "      <td>8614.417</td>\n",
       "      <td>5</td>\n",
       "      <td>38550</td>\n",
       "      <td>154.6883</td>\n",
       "      <td>132.617</td>\n",
       "      <td>7026.617</td>\n",
       "      <td>OPS1</td>\n",
       "      <td>0.000008</td>\n",
       "      <td>0.0</td>\n",
       "      <td>10.858352</td>\n",
       "      <td>76.5981</td>\n",
       "      <td>34.2564</td>\n",
       "      <td>5</td>\n",
       "      <td>&lt;NA&gt;</td>\n",
       "      <td>2025-01-01 17:17:08.960640+00:00</td>\n",
       "      <td>2025-01-01</td>\n",
       "    </tr>\n",
       "    <tr>\n",
       "      <th>2</th>\n",
       "      <td>SGP4</td>\n",
       "      <td>9286.717</td>\n",
       "      <td>275.2650</td>\n",
       "      <td>0.001633</td>\n",
       "      <td>U</td>\n",
       "      <td>2025-01-01 23:05:08.691000+00:00</td>\n",
       "      <td>system.ob-ingest</td>\n",
       "      <td>0.145307</td>\n",
       "      <td>18th SPCS</td>\n",
       "      <td>8108.493</td>\n",
       "      <td>11</td>\n",
       "      <td>81389</td>\n",
       "      <td>294.6285</td>\n",
       "      <td>121.107</td>\n",
       "      <td>6930.269</td>\n",
       "      <td>OPS1</td>\n",
       "      <td>0.000031</td>\n",
       "      <td>0.0</td>\n",
       "      <td>11.890292</td>\n",
       "      <td>68.4325</td>\n",
       "      <td>32.8795</td>\n",
       "      <td>11</td>\n",
       "      <td>&lt;NA&gt;</td>\n",
       "      <td>2025-01-01 19:06:31.800960+00:00</td>\n",
       "      <td>2025-01-01</td>\n",
       "    </tr>\n",
       "    <tr>\n",
       "      <th>3</th>\n",
       "      <td>SGP4</td>\n",
       "      <td>9673.868</td>\n",
       "      <td>173.3927</td>\n",
       "      <td>0.000874</td>\n",
       "      <td>U</td>\n",
       "      <td>2025-01-01 23:05:08.697000+00:00</td>\n",
       "      <td>system.ob-ingest</td>\n",
       "      <td>0.165118</td>\n",
       "      <td>18th SPCS</td>\n",
       "      <td>8302.909</td>\n",
       "      <td>12</td>\n",
       "      <td>71282</td>\n",
       "      <td>296.3941</td>\n",
       "      <td>125.489</td>\n",
       "      <td>6931.950</td>\n",
       "      <td>OPS1</td>\n",
       "      <td>0.000015</td>\n",
       "      <td>0.0</td>\n",
       "      <td>11.475123</td>\n",
       "      <td>189.1611</td>\n",
       "      <td>32.9011</td>\n",
       "      <td>12</td>\n",
       "      <td>&lt;NA&gt;</td>\n",
       "      <td>2025-01-01 19:47:07.123200+00:00</td>\n",
       "      <td>2025-01-01</td>\n",
       "    </tr>\n",
       "    <tr>\n",
       "      <th>4</th>\n",
       "      <td>SGP4</td>\n",
       "      <td>10594.496</td>\n",
       "      <td>34.2347</td>\n",
       "      <td>0.000585</td>\n",
       "      <td>U</td>\n",
       "      <td>2025-01-02 00:05:10.967000+00:00</td>\n",
       "      <td>system.ob-ingest</td>\n",
       "      <td>0.202279</td>\n",
       "      <td>18th SPCS</td>\n",
       "      <td>8812.011</td>\n",
       "      <td>16</td>\n",
       "      <td>63302</td>\n",
       "      <td>43.3806</td>\n",
       "      <td>137.206</td>\n",
       "      <td>7029.527</td>\n",
       "      <td>OPS1</td>\n",
       "      <td>0.000004</td>\n",
       "      <td>0.0</td>\n",
       "      <td>10.495187</td>\n",
       "      <td>337.3462</td>\n",
       "      <td>34.2656</td>\n",
       "      <td>16</td>\n",
       "      <td>&lt;NA&gt;</td>\n",
       "      <td>2025-01-01 06:18:04.587840+00:00</td>\n",
       "      <td>2025-01-01</td>\n",
       "    </tr>\n",
       "  </tbody>\n",
       "</table>\n",
       "</div>"
      ],
      "text/plain": [
       "  algorithm     apogee  argOfPerigee     bStar classificationMarking  \\\n",
       "0      SGP4  10202.213      259.3559  0.000943                     U   \n",
       "1      SGP4  10202.217      262.2564  0.000996                     U   \n",
       "2      SGP4   9286.717      275.2650  0.001633                     U   \n",
       "3      SGP4   9673.868      173.3927  0.000874                     U   \n",
       "4      SGP4  10594.496       34.2347  0.000585                     U   \n",
       "\n",
       "                         createdAt         createdBy  eccentricity     source  \\\n",
       "0 2025-01-02 00:05:10.959000+00:00  system.ob-ingest      0.184317  18th SPCS   \n",
       "1 2025-01-02 06:05:08.465000+00:00  system.ob-ingest      0.184319  18th SPCS   \n",
       "2 2025-01-01 23:05:08.691000+00:00  system.ob-ingest      0.145307  18th SPCS   \n",
       "3 2025-01-01 23:05:08.697000+00:00  system.ob-ingest      0.165118  18th SPCS   \n",
       "4 2025-01-02 00:05:10.967000+00:00  system.ob-ingest      0.202279  18th SPCS   \n",
       "\n",
       "   semiMajorAxis  satNo  revNo      raan   period   perigee origNetwork  \\\n",
       "0       8614.424      5  38543  156.6751  132.617  7026.636        OPS1   \n",
       "1       8614.417      5  38550  154.6883  132.617  7026.617        OPS1   \n",
       "2       8108.493     11  81389  294.6285  121.107  6930.269        OPS1   \n",
       "3       8302.909     12  71282  296.3941  125.489  6931.950        OPS1   \n",
       "4       8812.011     16  63302   43.3806  137.206  7029.527        OPS1   \n",
       "\n",
       "   meanMotionDot  meanMotionDDot  meanMotion  meanAnomaly  inclination  \\\n",
       "0       0.000008             0.0   10.858339      79.5230      34.2561   \n",
       "1       0.000008             0.0   10.858352      76.5981      34.2564   \n",
       "2       0.000031             0.0   11.890292      68.4325      32.8795   \n",
       "3       0.000015             0.0   11.475123     189.1611      32.9011   \n",
       "4       0.000004             0.0   10.495187     337.3462      34.2656   \n",
       "\n",
       "   idOnOrbit  idElset                            epoch  epoch_date  \n",
       "0          5     <NA> 2025-01-01 01:49:54.598368+00:00  2025-01-01  \n",
       "1          5     <NA> 2025-01-01 17:17:08.960640+00:00  2025-01-01  \n",
       "2         11     <NA> 2025-01-01 19:06:31.800960+00:00  2025-01-01  \n",
       "3         12     <NA> 2025-01-01 19:47:07.123200+00:00  2025-01-01  \n",
       "4         16     <NA> 2025-01-01 06:18:04.587840+00:00  2025-01-01  "
      ]
     },
     "execution_count": 63,
     "metadata": {},
     "output_type": "execute_result"
    }
   ],
   "source": [
    "df_all.head()"
   ]
  },
  {
   "cell_type": "code",
   "execution_count": 64,
   "id": "08879a57",
   "metadata": {},
   "outputs": [
    {
     "data": {
      "text/plain": [
       "29715"
      ]
     },
     "execution_count": 64,
     "metadata": {},
     "output_type": "execute_result"
    }
   ],
   "source": [
    "df_all.satNo.nunique()"
   ]
  },
  {
   "cell_type": "markdown",
   "id": "d012f556",
   "metadata": {},
   "source": [
    "There are 29,715 unique objects in this dataset. "
   ]
  },
  {
   "cell_type": "code",
   "execution_count": 65,
   "id": "46918edb",
   "metadata": {},
   "outputs": [
    {
     "data": {
      "text/plain": [
       "Index(['algorithm', 'apogee', 'argOfPerigee', 'bStar', 'classificationMarking',\n",
       "       'createdAt', 'createdBy', 'eccentricity', 'source', 'semiMajorAxis',\n",
       "       'satNo', 'revNo', 'raan', 'period', 'perigee', 'origNetwork',\n",
       "       'meanMotionDot', 'meanMotionDDot', 'meanMotion', 'meanAnomaly',\n",
       "       'inclination', 'idOnOrbit', 'idElset', 'epoch', 'epoch_date'],\n",
       "      dtype='object')"
      ]
     },
     "execution_count": 65,
     "metadata": {},
     "output_type": "execute_result"
    }
   ],
   "source": [
    "df_all.columns"
   ]
  },
  {
   "cell_type": "code",
   "execution_count": 66,
   "id": "7d3d54cd",
   "metadata": {},
   "outputs": [
    {
     "data": {
      "application/vnd.microsoft.datawrangler.viewer.v0+json": {
       "columns": [
        {
         "name": "index",
         "rawType": "int64",
         "type": "integer"
        },
        {
         "name": "index",
         "rawType": "object",
         "type": "string"
        },
        {
         "name": "n_missing",
         "rawType": "int64",
         "type": "integer"
        }
       ],
       "ref": "596431e1-599e-456c-8c63-4fe78867a21a",
       "rows": [
        [
         "22",
         "idElset",
         "9578380"
        ],
        [
         "0",
         "algorithm",
         "292630"
        ],
        [
         "13",
         "period",
         "292617"
        ],
        [
         "16",
         "meanMotionDot",
         "289237"
        ],
        [
         "17",
         "meanMotionDDot",
         "289237"
        ],
        [
         "3",
         "bStar",
         "208418"
        ],
        [
         "9",
         "semiMajorAxis",
         "126999"
        ],
        [
         "11",
         "revNo",
         "126999"
        ],
        [
         "1",
         "apogee",
         "126999"
        ],
        [
         "14",
         "perigee",
         "126999"
        ],
        [
         "21",
         "idOnOrbit",
         "68364"
        ],
        [
         "10",
         "satNo",
         "24802"
        ],
        [
         "23",
         "epoch",
         "0"
        ],
        [
         "20",
         "inclination",
         "0"
        ],
        [
         "19",
         "meanAnomaly",
         "0"
        ],
        [
         "18",
         "meanMotion",
         "0"
        ],
        [
         "12",
         "raan",
         "0"
        ],
        [
         "15",
         "origNetwork",
         "0"
        ],
        [
         "8",
         "source",
         "0"
        ],
        [
         "7",
         "eccentricity",
         "0"
        ],
        [
         "6",
         "createdBy",
         "0"
        ],
        [
         "5",
         "createdAt",
         "0"
        ],
        [
         "4",
         "classificationMarking",
         "0"
        ],
        [
         "2",
         "argOfPerigee",
         "0"
        ],
        [
         "24",
         "epoch_date",
         "0"
        ]
       ],
       "shape": {
        "columns": 2,
        "rows": 25
       }
      },
      "text/html": [
       "<div>\n",
       "<style scoped>\n",
       "    .dataframe tbody tr th:only-of-type {\n",
       "        vertical-align: middle;\n",
       "    }\n",
       "\n",
       "    .dataframe tbody tr th {\n",
       "        vertical-align: top;\n",
       "    }\n",
       "\n",
       "    .dataframe thead th {\n",
       "        text-align: right;\n",
       "    }\n",
       "</style>\n",
       "<table border=\"1\" class=\"dataframe\">\n",
       "  <thead>\n",
       "    <tr style=\"text-align: right;\">\n",
       "      <th></th>\n",
       "      <th>index</th>\n",
       "      <th>n_missing</th>\n",
       "    </tr>\n",
       "  </thead>\n",
       "  <tbody>\n",
       "    <tr>\n",
       "      <th>22</th>\n",
       "      <td>idElset</td>\n",
       "      <td>9578380</td>\n",
       "    </tr>\n",
       "    <tr>\n",
       "      <th>0</th>\n",
       "      <td>algorithm</td>\n",
       "      <td>292630</td>\n",
       "    </tr>\n",
       "    <tr>\n",
       "      <th>13</th>\n",
       "      <td>period</td>\n",
       "      <td>292617</td>\n",
       "    </tr>\n",
       "    <tr>\n",
       "      <th>16</th>\n",
       "      <td>meanMotionDot</td>\n",
       "      <td>289237</td>\n",
       "    </tr>\n",
       "    <tr>\n",
       "      <th>17</th>\n",
       "      <td>meanMotionDDot</td>\n",
       "      <td>289237</td>\n",
       "    </tr>\n",
       "    <tr>\n",
       "      <th>3</th>\n",
       "      <td>bStar</td>\n",
       "      <td>208418</td>\n",
       "    </tr>\n",
       "    <tr>\n",
       "      <th>9</th>\n",
       "      <td>semiMajorAxis</td>\n",
       "      <td>126999</td>\n",
       "    </tr>\n",
       "    <tr>\n",
       "      <th>11</th>\n",
       "      <td>revNo</td>\n",
       "      <td>126999</td>\n",
       "    </tr>\n",
       "    <tr>\n",
       "      <th>1</th>\n",
       "      <td>apogee</td>\n",
       "      <td>126999</td>\n",
       "    </tr>\n",
       "    <tr>\n",
       "      <th>14</th>\n",
       "      <td>perigee</td>\n",
       "      <td>126999</td>\n",
       "    </tr>\n",
       "    <tr>\n",
       "      <th>21</th>\n",
       "      <td>idOnOrbit</td>\n",
       "      <td>68364</td>\n",
       "    </tr>\n",
       "    <tr>\n",
       "      <th>10</th>\n",
       "      <td>satNo</td>\n",
       "      <td>24802</td>\n",
       "    </tr>\n",
       "    <tr>\n",
       "      <th>23</th>\n",
       "      <td>epoch</td>\n",
       "      <td>0</td>\n",
       "    </tr>\n",
       "    <tr>\n",
       "      <th>20</th>\n",
       "      <td>inclination</td>\n",
       "      <td>0</td>\n",
       "    </tr>\n",
       "    <tr>\n",
       "      <th>19</th>\n",
       "      <td>meanAnomaly</td>\n",
       "      <td>0</td>\n",
       "    </tr>\n",
       "    <tr>\n",
       "      <th>18</th>\n",
       "      <td>meanMotion</td>\n",
       "      <td>0</td>\n",
       "    </tr>\n",
       "    <tr>\n",
       "      <th>12</th>\n",
       "      <td>raan</td>\n",
       "      <td>0</td>\n",
       "    </tr>\n",
       "    <tr>\n",
       "      <th>15</th>\n",
       "      <td>origNetwork</td>\n",
       "      <td>0</td>\n",
       "    </tr>\n",
       "    <tr>\n",
       "      <th>8</th>\n",
       "      <td>source</td>\n",
       "      <td>0</td>\n",
       "    </tr>\n",
       "    <tr>\n",
       "      <th>7</th>\n",
       "      <td>eccentricity</td>\n",
       "      <td>0</td>\n",
       "    </tr>\n",
       "    <tr>\n",
       "      <th>6</th>\n",
       "      <td>createdBy</td>\n",
       "      <td>0</td>\n",
       "    </tr>\n",
       "    <tr>\n",
       "      <th>5</th>\n",
       "      <td>createdAt</td>\n",
       "      <td>0</td>\n",
       "    </tr>\n",
       "    <tr>\n",
       "      <th>4</th>\n",
       "      <td>classificationMarking</td>\n",
       "      <td>0</td>\n",
       "    </tr>\n",
       "    <tr>\n",
       "      <th>2</th>\n",
       "      <td>argOfPerigee</td>\n",
       "      <td>0</td>\n",
       "    </tr>\n",
       "    <tr>\n",
       "      <th>24</th>\n",
       "      <td>epoch_date</td>\n",
       "      <td>0</td>\n",
       "    </tr>\n",
       "  </tbody>\n",
       "</table>\n",
       "</div>"
      ],
      "text/plain": [
       "                    index  n_missing\n",
       "22                idElset    9578380\n",
       "0               algorithm     292630\n",
       "13                 period     292617\n",
       "16          meanMotionDot     289237\n",
       "17         meanMotionDDot     289237\n",
       "3                   bStar     208418\n",
       "9           semiMajorAxis     126999\n",
       "11                  revNo     126999\n",
       "1                  apogee     126999\n",
       "14                perigee     126999\n",
       "21              idOnOrbit      68364\n",
       "10                  satNo      24802\n",
       "23                  epoch          0\n",
       "20            inclination          0\n",
       "19            meanAnomaly          0\n",
       "18             meanMotion          0\n",
       "12                   raan          0\n",
       "15            origNetwork          0\n",
       "8                  source          0\n",
       "7            eccentricity          0\n",
       "6               createdBy          0\n",
       "5               createdAt          0\n",
       "4   classificationMarking          0\n",
       "2            argOfPerigee          0\n",
       "24             epoch_date          0"
      ]
     },
     "execution_count": 66,
     "metadata": {},
     "output_type": "execute_result"
    }
   ],
   "source": [
    "df_all.isna().sum().reset_index().rename(columns={0: 'n_missing'}).sort_values(by='n_missing', ascending=False)"
   ]
  },
  {
   "cell_type": "code",
   "execution_count": 67,
   "id": "3f0e130d",
   "metadata": {},
   "outputs": [
    {
     "data": {
      "text/plain": [
       "9578380"
      ]
     },
     "execution_count": 67,
     "metadata": {},
     "output_type": "execute_result"
    }
   ],
   "source": [
    "len(df_all)"
   ]
  },
  {
   "cell_type": "code",
   "execution_count": 68,
   "id": "75e1785c",
   "metadata": {},
   "outputs": [
    {
     "data": {
      "application/vnd.microsoft.datawrangler.viewer.v0+json": {
       "columns": [
        {
         "name": "index",
         "rawType": "object",
         "type": "string"
        },
        {
         "name": "apogee",
         "rawType": "float64",
         "type": "float"
        },
        {
         "name": "argOfPerigee",
         "rawType": "float64",
         "type": "float"
        },
        {
         "name": "bStar",
         "rawType": "float64",
         "type": "float"
        },
        {
         "name": "eccentricity",
         "rawType": "float64",
         "type": "float"
        },
        {
         "name": "semiMajorAxis",
         "rawType": "float64",
         "type": "float"
        },
        {
         "name": "satNo",
         "rawType": "Float64",
         "type": "float"
        },
        {
         "name": "revNo",
         "rawType": "Float64",
         "type": "float"
        },
        {
         "name": "raan",
         "rawType": "float64",
         "type": "float"
        },
        {
         "name": "period",
         "rawType": "float64",
         "type": "float"
        },
        {
         "name": "perigee",
         "rawType": "float64",
         "type": "float"
        },
        {
         "name": "meanMotionDot",
         "rawType": "float64",
         "type": "float"
        },
        {
         "name": "meanMotionDDot",
         "rawType": "float64",
         "type": "float"
        },
        {
         "name": "meanMotion",
         "rawType": "float64",
         "type": "float"
        },
        {
         "name": "meanAnomaly",
         "rawType": "float64",
         "type": "float"
        },
        {
         "name": "inclination",
         "rawType": "float64",
         "type": "float"
        },
        {
         "name": "idOnOrbit",
         "rawType": "Float64",
         "type": "float"
        },
        {
         "name": "idElset",
         "rawType": "Float64",
         "type": "float"
        }
       ],
       "ref": "83b66999-75df-4508-a725-6ea6ed966adc",
       "rows": [
        [
         "count",
         "9451381.0",
         "9578380.0",
         "9369962.0",
         "9578380.0",
         "9451381.0",
         "9553578.0",
         "9451381.0",
         "9578380.0",
         "9285763.0",
         "9451381.0",
         "9289143.0",
         "9289143.0",
         "9578380.0",
         "9578380.0",
         "9578380.0",
         "9510016.0",
         "0.0"
        ],
        [
         "mean",
         "11096.900782340896",
         "170.96333088391773",
         "0.0006468429991786416",
         "0.03024010233476642",
         "10484.839715751741",
         "42400.170961288015",
         "26247.793647933566",
         "178.0622765007966",
         "202.82646131818063",
         "9872.778649170948",
         "7.817270793441333e-05",
         "5.996551726100051e-06",
         "12.945741897180913",
         "189.7551405585078",
         "66.67233741940704",
         "41804.82464887546",
         null
        ],
        [
         "std",
         "11278.829288320074",
         "99.52164933971304",
         "0.011748205026057817",
         "0.12252860518763752",
         "9858.332786499537",
         "21044.067886854402",
         "27795.881448744578",
         "105.12779438400625",
         "349.27626906059254",
         "9346.871740841952",
         "0.0029149127281895134",
         "0.0008259427808567864",
         "4.332652574108521",
         "101.3772914030512",
         "29.249429326909762",
         "18105.358685086165",
         null
        ],
        [
         "min",
         "6495.761",
         "0.0001",
         "-2.3251",
         "2e-07",
         "6494.273",
         "5.0",
         "0.0",
         "0.0001",
         "86.807",
         "4901.396000000001",
         "-0.52387869",
         "-5.5555e-05",
         "0.02779772",
         "0.0001",
         "0.0001",
         "5.0",
         null
        ],
        [
         "25%",
         "6918.725",
         "87.0782",
         "2.0426e-05",
         "0.0001581",
         "6917.828",
         "27870.0",
         "6194.0",
         "85.325",
         "95.378",
         "6876.4890000000005",
         "1.9e-07",
         "0.0",
         "13.4719311975",
         "93.0057",
         "49.9722",
         "27819.0",
         null
        ],
        [
         "50%",
         "7081.625",
         "155.8434",
         "0.00018818",
         "0.0008113",
         "7053.628",
         "47355.0",
         "14580.0",
         "174.4314",
         "97.861",
         "6961.722",
         "7.58e-06",
         "0.0",
         "14.646312835",
         "207.33465",
         "70.0002",
         "47261.0",
         null
        ],
        [
         "75%",
         "7561.168",
         "266.7121",
         "0.00075375",
         "0.0049978",
         "7446.971",
         "57474.0",
         "36095.0",
         "271.1343",
         "105.432",
         "7274.22",
         "5.669e-05",
         "0.0",
         "15.08854445",
         "273.6609",
         "97.4215",
         "57386.0",
         null
        ],
        [
         "max",
         "619507.755",
         "359.9999",
         "8.7793",
         "0.96536",
         "460322.699",
         "270446.0",
         "99999.0",
         "360.0",
         "51802.81",
         "307242.201",
         "0.99999999",
         "0.48099",
         "16.58849514",
         "359.9999",
         "153.718",
         "65077.0",
         null
        ]
       ],
       "shape": {
        "columns": 17,
        "rows": 8
       }
      },
      "text/html": [
       "<div>\n",
       "<style scoped>\n",
       "    .dataframe tbody tr th:only-of-type {\n",
       "        vertical-align: middle;\n",
       "    }\n",
       "\n",
       "    .dataframe tbody tr th {\n",
       "        vertical-align: top;\n",
       "    }\n",
       "\n",
       "    .dataframe thead th {\n",
       "        text-align: right;\n",
       "    }\n",
       "</style>\n",
       "<table border=\"1\" class=\"dataframe\">\n",
       "  <thead>\n",
       "    <tr style=\"text-align: right;\">\n",
       "      <th></th>\n",
       "      <th>apogee</th>\n",
       "      <th>argOfPerigee</th>\n",
       "      <th>bStar</th>\n",
       "      <th>eccentricity</th>\n",
       "      <th>semiMajorAxis</th>\n",
       "      <th>satNo</th>\n",
       "      <th>revNo</th>\n",
       "      <th>raan</th>\n",
       "      <th>period</th>\n",
       "      <th>perigee</th>\n",
       "      <th>meanMotionDot</th>\n",
       "      <th>meanMotionDDot</th>\n",
       "      <th>meanMotion</th>\n",
       "      <th>meanAnomaly</th>\n",
       "      <th>inclination</th>\n",
       "      <th>idOnOrbit</th>\n",
       "      <th>idElset</th>\n",
       "    </tr>\n",
       "  </thead>\n",
       "  <tbody>\n",
       "    <tr>\n",
       "      <th>count</th>\n",
       "      <td>9.451381e+06</td>\n",
       "      <td>9.578380e+06</td>\n",
       "      <td>9.369962e+06</td>\n",
       "      <td>9.578380e+06</td>\n",
       "      <td>9.451381e+06</td>\n",
       "      <td>9553578.0</td>\n",
       "      <td>9451381.0</td>\n",
       "      <td>9.578380e+06</td>\n",
       "      <td>9.285763e+06</td>\n",
       "      <td>9.451381e+06</td>\n",
       "      <td>9.289143e+06</td>\n",
       "      <td>9.289143e+06</td>\n",
       "      <td>9.578380e+06</td>\n",
       "      <td>9.578380e+06</td>\n",
       "      <td>9.578380e+06</td>\n",
       "      <td>9510016.0</td>\n",
       "      <td>0.0</td>\n",
       "    </tr>\n",
       "    <tr>\n",
       "      <th>mean</th>\n",
       "      <td>1.109690e+04</td>\n",
       "      <td>1.709633e+02</td>\n",
       "      <td>6.468430e-04</td>\n",
       "      <td>3.024010e-02</td>\n",
       "      <td>1.048484e+04</td>\n",
       "      <td>42400.170961</td>\n",
       "      <td>26247.793648</td>\n",
       "      <td>1.780623e+02</td>\n",
       "      <td>2.028265e+02</td>\n",
       "      <td>9.872779e+03</td>\n",
       "      <td>7.817271e-05</td>\n",
       "      <td>5.996552e-06</td>\n",
       "      <td>1.294574e+01</td>\n",
       "      <td>1.897551e+02</td>\n",
       "      <td>6.667234e+01</td>\n",
       "      <td>41804.824649</td>\n",
       "      <td>&lt;NA&gt;</td>\n",
       "    </tr>\n",
       "    <tr>\n",
       "      <th>std</th>\n",
       "      <td>1.127883e+04</td>\n",
       "      <td>9.952165e+01</td>\n",
       "      <td>1.174821e-02</td>\n",
       "      <td>1.225286e-01</td>\n",
       "      <td>9.858333e+03</td>\n",
       "      <td>21044.067887</td>\n",
       "      <td>27795.881449</td>\n",
       "      <td>1.051278e+02</td>\n",
       "      <td>3.492763e+02</td>\n",
       "      <td>9.346872e+03</td>\n",
       "      <td>2.914913e-03</td>\n",
       "      <td>8.259428e-04</td>\n",
       "      <td>4.332653e+00</td>\n",
       "      <td>1.013773e+02</td>\n",
       "      <td>2.924943e+01</td>\n",
       "      <td>18105.358685</td>\n",
       "      <td>&lt;NA&gt;</td>\n",
       "    </tr>\n",
       "    <tr>\n",
       "      <th>min</th>\n",
       "      <td>6.495761e+03</td>\n",
       "      <td>1.000000e-04</td>\n",
       "      <td>-2.325100e+00</td>\n",
       "      <td>2.000000e-07</td>\n",
       "      <td>6.494273e+03</td>\n",
       "      <td>5.0</td>\n",
       "      <td>0.0</td>\n",
       "      <td>1.000000e-04</td>\n",
       "      <td>8.680700e+01</td>\n",
       "      <td>4.901396e+03</td>\n",
       "      <td>-5.238787e-01</td>\n",
       "      <td>-5.555500e-05</td>\n",
       "      <td>2.779772e-02</td>\n",
       "      <td>1.000000e-04</td>\n",
       "      <td>1.000000e-04</td>\n",
       "      <td>5.0</td>\n",
       "      <td>&lt;NA&gt;</td>\n",
       "    </tr>\n",
       "    <tr>\n",
       "      <th>25%</th>\n",
       "      <td>6.918725e+03</td>\n",
       "      <td>8.707820e+01</td>\n",
       "      <td>2.042600e-05</td>\n",
       "      <td>1.581000e-04</td>\n",
       "      <td>6.917828e+03</td>\n",
       "      <td>27870.0</td>\n",
       "      <td>6194.0</td>\n",
       "      <td>8.532500e+01</td>\n",
       "      <td>9.537800e+01</td>\n",
       "      <td>6.876489e+03</td>\n",
       "      <td>1.900000e-07</td>\n",
       "      <td>0.000000e+00</td>\n",
       "      <td>1.347193e+01</td>\n",
       "      <td>9.300570e+01</td>\n",
       "      <td>4.997220e+01</td>\n",
       "      <td>27819.0</td>\n",
       "      <td>&lt;NA&gt;</td>\n",
       "    </tr>\n",
       "    <tr>\n",
       "      <th>50%</th>\n",
       "      <td>7.081625e+03</td>\n",
       "      <td>1.558434e+02</td>\n",
       "      <td>1.881800e-04</td>\n",
       "      <td>8.113000e-04</td>\n",
       "      <td>7.053628e+03</td>\n",
       "      <td>47355.0</td>\n",
       "      <td>14580.0</td>\n",
       "      <td>1.744314e+02</td>\n",
       "      <td>9.786100e+01</td>\n",
       "      <td>6.961722e+03</td>\n",
       "      <td>7.580000e-06</td>\n",
       "      <td>0.000000e+00</td>\n",
       "      <td>1.464631e+01</td>\n",
       "      <td>2.073347e+02</td>\n",
       "      <td>7.000020e+01</td>\n",
       "      <td>47261.0</td>\n",
       "      <td>&lt;NA&gt;</td>\n",
       "    </tr>\n",
       "    <tr>\n",
       "      <th>75%</th>\n",
       "      <td>7.561168e+03</td>\n",
       "      <td>2.667121e+02</td>\n",
       "      <td>7.537500e-04</td>\n",
       "      <td>4.997800e-03</td>\n",
       "      <td>7.446971e+03</td>\n",
       "      <td>57474.0</td>\n",
       "      <td>36095.0</td>\n",
       "      <td>2.711343e+02</td>\n",
       "      <td>1.054320e+02</td>\n",
       "      <td>7.274220e+03</td>\n",
       "      <td>5.669000e-05</td>\n",
       "      <td>0.000000e+00</td>\n",
       "      <td>1.508854e+01</td>\n",
       "      <td>2.736609e+02</td>\n",
       "      <td>9.742150e+01</td>\n",
       "      <td>57386.0</td>\n",
       "      <td>&lt;NA&gt;</td>\n",
       "    </tr>\n",
       "    <tr>\n",
       "      <th>max</th>\n",
       "      <td>6.195078e+05</td>\n",
       "      <td>3.599999e+02</td>\n",
       "      <td>8.779300e+00</td>\n",
       "      <td>9.653600e-01</td>\n",
       "      <td>4.603227e+05</td>\n",
       "      <td>270446.0</td>\n",
       "      <td>99999.0</td>\n",
       "      <td>3.600000e+02</td>\n",
       "      <td>5.180281e+04</td>\n",
       "      <td>3.072422e+05</td>\n",
       "      <td>1.000000e+00</td>\n",
       "      <td>4.809900e-01</td>\n",
       "      <td>1.658850e+01</td>\n",
       "      <td>3.599999e+02</td>\n",
       "      <td>1.537180e+02</td>\n",
       "      <td>65077.0</td>\n",
       "      <td>&lt;NA&gt;</td>\n",
       "    </tr>\n",
       "  </tbody>\n",
       "</table>\n",
       "</div>"
      ],
      "text/plain": [
       "             apogee  argOfPerigee         bStar  eccentricity  semiMajorAxis  \\\n",
       "count  9.451381e+06  9.578380e+06  9.369962e+06  9.578380e+06   9.451381e+06   \n",
       "mean   1.109690e+04  1.709633e+02  6.468430e-04  3.024010e-02   1.048484e+04   \n",
       "std    1.127883e+04  9.952165e+01  1.174821e-02  1.225286e-01   9.858333e+03   \n",
       "min    6.495761e+03  1.000000e-04 -2.325100e+00  2.000000e-07   6.494273e+03   \n",
       "25%    6.918725e+03  8.707820e+01  2.042600e-05  1.581000e-04   6.917828e+03   \n",
       "50%    7.081625e+03  1.558434e+02  1.881800e-04  8.113000e-04   7.053628e+03   \n",
       "75%    7.561168e+03  2.667121e+02  7.537500e-04  4.997800e-03   7.446971e+03   \n",
       "max    6.195078e+05  3.599999e+02  8.779300e+00  9.653600e-01   4.603227e+05   \n",
       "\n",
       "              satNo         revNo          raan        period       perigee  \\\n",
       "count     9553578.0     9451381.0  9.578380e+06  9.285763e+06  9.451381e+06   \n",
       "mean   42400.170961  26247.793648  1.780623e+02  2.028265e+02  9.872779e+03   \n",
       "std    21044.067887  27795.881449  1.051278e+02  3.492763e+02  9.346872e+03   \n",
       "min             5.0           0.0  1.000000e-04  8.680700e+01  4.901396e+03   \n",
       "25%         27870.0        6194.0  8.532500e+01  9.537800e+01  6.876489e+03   \n",
       "50%         47355.0       14580.0  1.744314e+02  9.786100e+01  6.961722e+03   \n",
       "75%         57474.0       36095.0  2.711343e+02  1.054320e+02  7.274220e+03   \n",
       "max        270446.0       99999.0  3.600000e+02  5.180281e+04  3.072422e+05   \n",
       "\n",
       "       meanMotionDot  meanMotionDDot    meanMotion   meanAnomaly  \\\n",
       "count   9.289143e+06    9.289143e+06  9.578380e+06  9.578380e+06   \n",
       "mean    7.817271e-05    5.996552e-06  1.294574e+01  1.897551e+02   \n",
       "std     2.914913e-03    8.259428e-04  4.332653e+00  1.013773e+02   \n",
       "min    -5.238787e-01   -5.555500e-05  2.779772e-02  1.000000e-04   \n",
       "25%     1.900000e-07    0.000000e+00  1.347193e+01  9.300570e+01   \n",
       "50%     7.580000e-06    0.000000e+00  1.464631e+01  2.073347e+02   \n",
       "75%     5.669000e-05    0.000000e+00  1.508854e+01  2.736609e+02   \n",
       "max     1.000000e+00    4.809900e-01  1.658850e+01  3.599999e+02   \n",
       "\n",
       "        inclination     idOnOrbit  idElset  \n",
       "count  9.578380e+06     9510016.0      0.0  \n",
       "mean   6.667234e+01  41804.824649     <NA>  \n",
       "std    2.924943e+01  18105.358685     <NA>  \n",
       "min    1.000000e-04           5.0     <NA>  \n",
       "25%    4.997220e+01       27819.0     <NA>  \n",
       "50%    7.000020e+01       47261.0     <NA>  \n",
       "75%    9.742150e+01       57386.0     <NA>  \n",
       "max    1.537180e+02       65077.0     <NA>  "
      ]
     },
     "execution_count": 68,
     "metadata": {},
     "output_type": "execute_result"
    }
   ],
   "source": [
    "df_all.describe()"
   ]
  },
  {
   "cell_type": "markdown",
   "id": "858a0446",
   "metadata": {},
   "source": [
    "## Satellite Catelog"
   ]
  },
  {
   "cell_type": "code",
   "execution_count": 69,
   "id": "c4e10880",
   "metadata": {},
   "outputs": [
    {
     "data": {
      "application/vnd.microsoft.datawrangler.viewer.v0+json": {
       "columns": [
        {
         "name": "index",
         "rawType": "int64",
         "type": "integer"
        },
        {
         "name": "INTLDES",
         "rawType": "object",
         "type": "string"
        },
        {
         "name": "NORAD_CAT_ID",
         "rawType": "int64",
         "type": "integer"
        },
        {
         "name": "OBJECT_TYPE",
         "rawType": "object",
         "type": "string"
        },
        {
         "name": "SATNAME",
         "rawType": "object",
         "type": "string"
        },
        {
         "name": "COUNTRY",
         "rawType": "object",
         "type": "string"
        },
        {
         "name": "LAUNCH",
         "rawType": "object",
         "type": "string"
        },
        {
         "name": "SITE",
         "rawType": "object",
         "type": "string"
        },
        {
         "name": "DECAY",
         "rawType": "object",
         "type": "unknown"
        },
        {
         "name": "PERIOD",
         "rawType": "float64",
         "type": "float"
        },
        {
         "name": "INCLINATION",
         "rawType": "float64",
         "type": "float"
        },
        {
         "name": "APOGEE",
         "rawType": "float64",
         "type": "float"
        },
        {
         "name": "PERIGEE",
         "rawType": "float64",
         "type": "float"
        },
        {
         "name": "COMMENT",
         "rawType": "object",
         "type": "unknown"
        },
        {
         "name": "COMMENTCODE",
         "rawType": "float64",
         "type": "float"
        },
        {
         "name": "RCSVALUE",
         "rawType": "int64",
         "type": "integer"
        },
        {
         "name": "RCS_SIZE",
         "rawType": "object",
         "type": "unknown"
        },
        {
         "name": "FILE",
         "rawType": "int64",
         "type": "integer"
        },
        {
         "name": "LAUNCH_YEAR",
         "rawType": "int64",
         "type": "integer"
        },
        {
         "name": "LAUNCH_NUM",
         "rawType": "int64",
         "type": "integer"
        },
        {
         "name": "LAUNCH_PIECE",
         "rawType": "object",
         "type": "string"
        },
        {
         "name": "CURRENT",
         "rawType": "object",
         "type": "string"
        },
        {
         "name": "OBJECT_NAME",
         "rawType": "object",
         "type": "string"
        },
        {
         "name": "OBJECT_ID",
         "rawType": "object",
         "type": "string"
        },
        {
         "name": "OBJECT_NUMBER",
         "rawType": "int64",
         "type": "integer"
        }
       ],
       "ref": "9bcf1b09-b97a-422e-adf9-29d747ad0c64",
       "rows": [
        [
         "0",
         "1957-001A",
         "1",
         "ROCKET BODY",
         "SL-1 R/B",
         "CIS",
         "1957-10-04",
         "TTMTR",
         "1957-12-01",
         "96.19",
         "65.1",
         "938.0",
         "214.0",
         null,
         "4.0",
         "0",
         "LARGE",
         "1",
         "1957",
         "1",
         "A",
         "Y",
         "SL-1 R/B",
         "1957-001A",
         "1"
        ],
        [
         "1",
         "1957-001B",
         "2",
         "PAYLOAD",
         "SPUTNIK 1",
         "CIS",
         "1957-10-04",
         "TTMTR",
         "1958-01-03",
         "96.1",
         "65.0",
         "1080.0",
         "64.0",
         null,
         null,
         "0",
         null,
         "7179",
         "1957",
         "1",
         "B",
         "Y",
         "SPUTNIK 1",
         "1957-001B",
         "2"
        ],
        [
         "2",
         "1957-002A",
         "3",
         "PAYLOAD",
         "SPUTNIK 2",
         "CIS",
         "1957-11-03",
         "TTMTR",
         "1958-04-14",
         "103.74",
         "65.33",
         "1659.0",
         "211.0",
         null,
         null,
         "0",
         "SMALL",
         "9221",
         "1957",
         "2",
         "A",
         "Y",
         "SPUTNIK 2",
         "1957-002A",
         "3"
        ],
        [
         "3",
         "1958-001A",
         "4",
         "PAYLOAD",
         "EXPLORER 1",
         "US",
         "1958-02-01",
         "AFETR",
         "1970-03-31",
         "88.48",
         "33.15",
         "215.0",
         "183.0",
         null,
         null,
         "0",
         null,
         "1",
         "1958",
         "1",
         "A",
         "Y",
         "EXPLORER 1",
         "1958-001A",
         "4"
        ],
        [
         "4",
         "1958-002B",
         "5",
         "PAYLOAD",
         "VANGUARD 1",
         "US",
         "1958-03-17",
         "AFETR",
         null,
         "132.61",
         "34.26",
         "3823.0",
         "649.0",
         null,
         null,
         "0",
         "SMALL",
         "9235",
         "1958",
         "2",
         "B",
         "Y",
         "VANGUARD 1",
         "1958-002B",
         "5"
        ]
       ],
       "shape": {
        "columns": 24,
        "rows": 5
       }
      },
      "text/html": [
       "<div>\n",
       "<style scoped>\n",
       "    .dataframe tbody tr th:only-of-type {\n",
       "        vertical-align: middle;\n",
       "    }\n",
       "\n",
       "    .dataframe tbody tr th {\n",
       "        vertical-align: top;\n",
       "    }\n",
       "\n",
       "    .dataframe thead th {\n",
       "        text-align: right;\n",
       "    }\n",
       "</style>\n",
       "<table border=\"1\" class=\"dataframe\">\n",
       "  <thead>\n",
       "    <tr style=\"text-align: right;\">\n",
       "      <th></th>\n",
       "      <th>INTLDES</th>\n",
       "      <th>NORAD_CAT_ID</th>\n",
       "      <th>OBJECT_TYPE</th>\n",
       "      <th>SATNAME</th>\n",
       "      <th>COUNTRY</th>\n",
       "      <th>LAUNCH</th>\n",
       "      <th>SITE</th>\n",
       "      <th>DECAY</th>\n",
       "      <th>PERIOD</th>\n",
       "      <th>INCLINATION</th>\n",
       "      <th>APOGEE</th>\n",
       "      <th>PERIGEE</th>\n",
       "      <th>COMMENT</th>\n",
       "      <th>COMMENTCODE</th>\n",
       "      <th>RCSVALUE</th>\n",
       "      <th>RCS_SIZE</th>\n",
       "      <th>FILE</th>\n",
       "      <th>LAUNCH_YEAR</th>\n",
       "      <th>LAUNCH_NUM</th>\n",
       "      <th>LAUNCH_PIECE</th>\n",
       "      <th>CURRENT</th>\n",
       "      <th>OBJECT_NAME</th>\n",
       "      <th>OBJECT_ID</th>\n",
       "      <th>OBJECT_NUMBER</th>\n",
       "    </tr>\n",
       "  </thead>\n",
       "  <tbody>\n",
       "    <tr>\n",
       "      <th>0</th>\n",
       "      <td>1957-001A</td>\n",
       "      <td>1</td>\n",
       "      <td>ROCKET BODY</td>\n",
       "      <td>SL-1 R/B</td>\n",
       "      <td>CIS</td>\n",
       "      <td>1957-10-04</td>\n",
       "      <td>TTMTR</td>\n",
       "      <td>1957-12-01</td>\n",
       "      <td>96.19</td>\n",
       "      <td>65.10</td>\n",
       "      <td>938.0</td>\n",
       "      <td>214.0</td>\n",
       "      <td>NaN</td>\n",
       "      <td>4.0</td>\n",
       "      <td>0</td>\n",
       "      <td>LARGE</td>\n",
       "      <td>1</td>\n",
       "      <td>1957</td>\n",
       "      <td>1</td>\n",
       "      <td>A</td>\n",
       "      <td>Y</td>\n",
       "      <td>SL-1 R/B</td>\n",
       "      <td>1957-001A</td>\n",
       "      <td>1</td>\n",
       "    </tr>\n",
       "    <tr>\n",
       "      <th>1</th>\n",
       "      <td>1957-001B</td>\n",
       "      <td>2</td>\n",
       "      <td>PAYLOAD</td>\n",
       "      <td>SPUTNIK 1</td>\n",
       "      <td>CIS</td>\n",
       "      <td>1957-10-04</td>\n",
       "      <td>TTMTR</td>\n",
       "      <td>1958-01-03</td>\n",
       "      <td>96.10</td>\n",
       "      <td>65.00</td>\n",
       "      <td>1080.0</td>\n",
       "      <td>64.0</td>\n",
       "      <td>NaN</td>\n",
       "      <td>NaN</td>\n",
       "      <td>0</td>\n",
       "      <td>NaN</td>\n",
       "      <td>7179</td>\n",
       "      <td>1957</td>\n",
       "      <td>1</td>\n",
       "      <td>B</td>\n",
       "      <td>Y</td>\n",
       "      <td>SPUTNIK 1</td>\n",
       "      <td>1957-001B</td>\n",
       "      <td>2</td>\n",
       "    </tr>\n",
       "    <tr>\n",
       "      <th>2</th>\n",
       "      <td>1957-002A</td>\n",
       "      <td>3</td>\n",
       "      <td>PAYLOAD</td>\n",
       "      <td>SPUTNIK 2</td>\n",
       "      <td>CIS</td>\n",
       "      <td>1957-11-03</td>\n",
       "      <td>TTMTR</td>\n",
       "      <td>1958-04-14</td>\n",
       "      <td>103.74</td>\n",
       "      <td>65.33</td>\n",
       "      <td>1659.0</td>\n",
       "      <td>211.0</td>\n",
       "      <td>NaN</td>\n",
       "      <td>NaN</td>\n",
       "      <td>0</td>\n",
       "      <td>SMALL</td>\n",
       "      <td>9221</td>\n",
       "      <td>1957</td>\n",
       "      <td>2</td>\n",
       "      <td>A</td>\n",
       "      <td>Y</td>\n",
       "      <td>SPUTNIK 2</td>\n",
       "      <td>1957-002A</td>\n",
       "      <td>3</td>\n",
       "    </tr>\n",
       "    <tr>\n",
       "      <th>3</th>\n",
       "      <td>1958-001A</td>\n",
       "      <td>4</td>\n",
       "      <td>PAYLOAD</td>\n",
       "      <td>EXPLORER 1</td>\n",
       "      <td>US</td>\n",
       "      <td>1958-02-01</td>\n",
       "      <td>AFETR</td>\n",
       "      <td>1970-03-31</td>\n",
       "      <td>88.48</td>\n",
       "      <td>33.15</td>\n",
       "      <td>215.0</td>\n",
       "      <td>183.0</td>\n",
       "      <td>NaN</td>\n",
       "      <td>NaN</td>\n",
       "      <td>0</td>\n",
       "      <td>NaN</td>\n",
       "      <td>1</td>\n",
       "      <td>1958</td>\n",
       "      <td>1</td>\n",
       "      <td>A</td>\n",
       "      <td>Y</td>\n",
       "      <td>EXPLORER 1</td>\n",
       "      <td>1958-001A</td>\n",
       "      <td>4</td>\n",
       "    </tr>\n",
       "    <tr>\n",
       "      <th>4</th>\n",
       "      <td>1958-002B</td>\n",
       "      <td>5</td>\n",
       "      <td>PAYLOAD</td>\n",
       "      <td>VANGUARD 1</td>\n",
       "      <td>US</td>\n",
       "      <td>1958-03-17</td>\n",
       "      <td>AFETR</td>\n",
       "      <td>NaN</td>\n",
       "      <td>132.61</td>\n",
       "      <td>34.26</td>\n",
       "      <td>3823.0</td>\n",
       "      <td>649.0</td>\n",
       "      <td>NaN</td>\n",
       "      <td>NaN</td>\n",
       "      <td>0</td>\n",
       "      <td>SMALL</td>\n",
       "      <td>9235</td>\n",
       "      <td>1958</td>\n",
       "      <td>2</td>\n",
       "      <td>B</td>\n",
       "      <td>Y</td>\n",
       "      <td>VANGUARD 1</td>\n",
       "      <td>1958-002B</td>\n",
       "      <td>5</td>\n",
       "    </tr>\n",
       "  </tbody>\n",
       "</table>\n",
       "</div>"
      ],
      "text/plain": [
       "     INTLDES  NORAD_CAT_ID  OBJECT_TYPE     SATNAME COUNTRY      LAUNCH  \\\n",
       "0  1957-001A             1  ROCKET BODY    SL-1 R/B     CIS  1957-10-04   \n",
       "1  1957-001B             2      PAYLOAD   SPUTNIK 1     CIS  1957-10-04   \n",
       "2  1957-002A             3      PAYLOAD   SPUTNIK 2     CIS  1957-11-03   \n",
       "3  1958-001A             4      PAYLOAD  EXPLORER 1      US  1958-02-01   \n",
       "4  1958-002B             5      PAYLOAD  VANGUARD 1      US  1958-03-17   \n",
       "\n",
       "    SITE       DECAY  PERIOD  INCLINATION  APOGEE  PERIGEE COMMENT  \\\n",
       "0  TTMTR  1957-12-01   96.19        65.10   938.0    214.0     NaN   \n",
       "1  TTMTR  1958-01-03   96.10        65.00  1080.0     64.0     NaN   \n",
       "2  TTMTR  1958-04-14  103.74        65.33  1659.0    211.0     NaN   \n",
       "3  AFETR  1970-03-31   88.48        33.15   215.0    183.0     NaN   \n",
       "4  AFETR         NaN  132.61        34.26  3823.0    649.0     NaN   \n",
       "\n",
       "   COMMENTCODE  RCSVALUE RCS_SIZE  FILE  LAUNCH_YEAR  LAUNCH_NUM LAUNCH_PIECE  \\\n",
       "0          4.0         0    LARGE     1         1957           1            A   \n",
       "1          NaN         0      NaN  7179         1957           1            B   \n",
       "2          NaN         0    SMALL  9221         1957           2            A   \n",
       "3          NaN         0      NaN     1         1958           1            A   \n",
       "4          NaN         0    SMALL  9235         1958           2            B   \n",
       "\n",
       "  CURRENT OBJECT_NAME  OBJECT_ID  OBJECT_NUMBER  \n",
       "0       Y    SL-1 R/B  1957-001A              1  \n",
       "1       Y   SPUTNIK 1  1957-001B              2  \n",
       "2       Y   SPUTNIK 2  1957-002A              3  \n",
       "3       Y  EXPLORER 1  1958-001A              4  \n",
       "4       Y  VANGUARD 1  1958-002B              5  "
      ]
     },
     "execution_count": 69,
     "metadata": {},
     "output_type": "execute_result"
    }
   ],
   "source": [
    "satcat = pd.read_csv(RAW_DIR / \"satcat.csv\")\n",
    "satcat.head()"
   ]
  },
  {
   "cell_type": "code",
   "execution_count": 70,
   "id": "33f48123",
   "metadata": {},
   "outputs": [
    {
     "data": {
      "text/plain": [
       "Index(['INTLDES', 'NORAD_CAT_ID', 'OBJECT_TYPE', 'SATNAME', 'COUNTRY',\n",
       "       'LAUNCH', 'SITE', 'DECAY', 'PERIOD', 'INCLINATION', 'APOGEE', 'PERIGEE',\n",
       "       'COMMENT', 'COMMENTCODE', 'RCSVALUE', 'RCS_SIZE', 'FILE', 'LAUNCH_YEAR',\n",
       "       'LAUNCH_NUM', 'LAUNCH_PIECE', 'CURRENT', 'OBJECT_NAME', 'OBJECT_ID',\n",
       "       'OBJECT_NUMBER'],\n",
       "      dtype='object')"
      ]
     },
     "execution_count": 70,
     "metadata": {},
     "output_type": "execute_result"
    }
   ],
   "source": [
    "satcat.columns"
   ]
  },
  {
   "cell_type": "code",
   "execution_count": 71,
   "id": "ab924fe8",
   "metadata": {},
   "outputs": [
    {
     "name": "stdout",
     "output_type": "stream",
     "text": [
      "<class 'pandas.core.frame.DataFrame'>\n",
      "RangeIndex: 65265 entries, 0 to 65264\n",
      "Data columns (total 24 columns):\n",
      " #   Column         Non-Null Count  Dtype  \n",
      "---  ------         --------------  -----  \n",
      " 0   INTLDES        65265 non-null  object \n",
      " 1   NORAD_CAT_ID   65265 non-null  int64  \n",
      " 2   OBJECT_TYPE    65265 non-null  object \n",
      " 3   SATNAME        65265 non-null  object \n",
      " 4   COUNTRY        65265 non-null  object \n",
      " 5   LAUNCH         65265 non-null  object \n",
      " 6   SITE           65265 non-null  object \n",
      " 7   DECAY          33988 non-null  object \n",
      " 8   PERIOD         64273 non-null  float64\n",
      " 9   INCLINATION    64273 non-null  float64\n",
      " 10  APOGEE         64273 non-null  float64\n",
      " 11  PERIGEE        64273 non-null  float64\n",
      " 12  COMMENT        965 non-null    object \n",
      " 13  COMMENTCODE    3670 non-null   float64\n",
      " 14  RCSVALUE       65265 non-null  int64  \n",
      " 15  RCS_SIZE       54449 non-null  object \n",
      " 16  FILE           65265 non-null  int64  \n",
      " 17  LAUNCH_YEAR    65265 non-null  int64  \n",
      " 18  LAUNCH_NUM     65265 non-null  int64  \n",
      " 19  LAUNCH_PIECE   65246 non-null  object \n",
      " 20  CURRENT        65265 non-null  object \n",
      " 21  OBJECT_NAME    65265 non-null  object \n",
      " 22  OBJECT_ID      65265 non-null  object \n",
      " 23  OBJECT_NUMBER  65265 non-null  int64  \n",
      "dtypes: float64(5), int64(6), object(13)\n",
      "memory usage: 12.0+ MB\n"
     ]
    }
   ],
   "source": [
    "satcat.info()"
   ]
  },
  {
   "cell_type": "code",
   "execution_count": 72,
   "id": "73638ba3",
   "metadata": {},
   "outputs": [
    {
     "data": {
      "text/plain": [
       "Index(['intldes', 'norad_cat_id', 'object_type', 'satname', 'country',\n",
       "       'launch', 'site', 'decay', 'period', 'inclination', 'apogee', 'perigee',\n",
       "       'comment', 'commentcode', 'rcsvalue', 'rcs_size', 'file', 'launch_year',\n",
       "       'launch_num', 'launch_piece', 'current', 'object_name', 'object_id',\n",
       "       'object_number'],\n",
       "      dtype='object')"
      ]
     },
     "execution_count": 72,
     "metadata": {},
     "output_type": "execute_result"
    }
   ],
   "source": [
    "satcat.columns = satcat.columns.str.strip().str.lower()\n",
    "satcat.columns"
   ]
  },
  {
   "cell_type": "code",
   "execution_count": 73,
   "id": "ce37b805",
   "metadata": {},
   "outputs": [
    {
     "name": "stdout",
     "output_type": "stream",
     "text": [
      "<class 'pandas.core.frame.DataFrame'>\n",
      "RangeIndex: 65265 entries, 0 to 65264\n",
      "Data columns (total 24 columns):\n",
      " #   Column         Non-Null Count  Dtype  \n",
      "---  ------         --------------  -----  \n",
      " 0   intldes        65265 non-null  object \n",
      " 1   norad_cat_id   65265 non-null  int64  \n",
      " 2   object_type    65265 non-null  object \n",
      " 3   satname        65265 non-null  object \n",
      " 4   country        65265 non-null  object \n",
      " 5   launch         65265 non-null  object \n",
      " 6   site           65265 non-null  object \n",
      " 7   decay          33988 non-null  object \n",
      " 8   period         64273 non-null  float64\n",
      " 9   inclination    64273 non-null  float64\n",
      " 10  apogee         64273 non-null  float64\n",
      " 11  perigee        64273 non-null  float64\n",
      " 12  comment        965 non-null    object \n",
      " 13  commentcode    3670 non-null   float64\n",
      " 14  rcsvalue       65265 non-null  int64  \n",
      " 15  rcs_size       54449 non-null  object \n",
      " 16  file           65265 non-null  int64  \n",
      " 17  launch_year    65265 non-null  int64  \n",
      " 18  launch_num     65265 non-null  int64  \n",
      " 19  launch_piece   65246 non-null  object \n",
      " 20  current        65265 non-null  object \n",
      " 21  object_name    65265 non-null  object \n",
      " 22  object_id      65265 non-null  object \n",
      " 23  object_number  65265 non-null  int64  \n",
      "dtypes: float64(5), int64(6), object(13)\n",
      "memory usage: 12.0+ MB\n"
     ]
    }
   ],
   "source": [
    "satcat.info()"
   ]
  },
  {
   "cell_type": "code",
   "execution_count": 74,
   "id": "87db7473",
   "metadata": {},
   "outputs": [
    {
     "data": {
      "application/vnd.microsoft.datawrangler.viewer.v0+json": {
       "columns": [
        {
         "name": "index",
         "rawType": "object",
         "type": "string"
        },
        {
         "name": "norad_cat_id",
         "rawType": "float64",
         "type": "float"
        },
        {
         "name": "period",
         "rawType": "float64",
         "type": "float"
        },
        {
         "name": "inclination",
         "rawType": "float64",
         "type": "float"
        },
        {
         "name": "apogee",
         "rawType": "float64",
         "type": "float"
        },
        {
         "name": "perigee",
         "rawType": "float64",
         "type": "float"
        },
        {
         "name": "commentcode",
         "rawType": "float64",
         "type": "float"
        },
        {
         "name": "rcsvalue",
         "rawType": "float64",
         "type": "float"
        },
        {
         "name": "file",
         "rawType": "float64",
         "type": "float"
        },
        {
         "name": "launch_year",
         "rawType": "float64",
         "type": "float"
        },
        {
         "name": "launch_num",
         "rawType": "float64",
         "type": "float"
        },
        {
         "name": "object_number",
         "rawType": "float64",
         "type": "float"
        }
       ],
       "ref": "65ed9905-6d76-4b7e-bd30-875017169937",
       "rows": [
        [
         "count",
         "65265.0",
         "64273.0",
         "64273.0",
         "64273.0",
         "64273.0",
         "3670.0",
         "65265.0",
         "65265.0",
         "65265.0",
         "65265.0",
         "65265.0"
        ],
        [
         "mean",
         "32643.22304451084",
         "177.08633796461967",
         "68.850223577552",
         "3505.692063541456",
         "1731.5410047765001",
         "3.388555858310627",
         "0.0",
         "7296.484670190761",
         "1997.3275568834752",
         "60.60217574503945",
         "32643.22304451084"
        ],
        [
         "std",
         "18854.76636180024",
         "688.8990729237502",
         "25.017626126851795",
         "13814.289005014336",
         "6648.313714110012",
         "1.3342786931430726",
         "0.0",
         "3213.7012602010873",
         "19.70119220435216",
         "44.09897138202739",
         "18854.76636180024"
        ],
        [
         "min",
         "1.0",
         "0.0",
         "0.0",
         "0.0",
         "0.0",
         "1.0",
         "0.0",
         "1.0",
         "1957.0",
         "0.0",
         "1.0"
        ],
        [
         "25%",
         "16317.0",
         "89.28",
         "53.01",
         "268.0",
         "197.0",
         "3.0",
         "0.0",
         "7337.0",
         "1982.0",
         "25.0",
         "16317.0"
        ],
        [
         "50%",
         "32633.0",
         "94.11",
         "70.0",
         "484.0",
         "419.0",
         "3.0",
         "0.0",
         "9029.0",
         "1997.0",
         "52.0",
         "32633.0"
        ],
        [
         "75%",
         "48949.0",
         "101.04",
         "92.24",
         "872.0",
         "667.0",
         "5.0",
         "0.0",
         "9235.0",
         "2020.0",
         "86.0",
         "48949.0"
        ],
        [
         "max",
         "65322.0",
         "95687.68",
         "150.94",
         "641287.0",
         "314973.0",
         "5.0",
         "0.0",
         "9240.0",
         "2025.0",
         "254.0",
         "65322.0"
        ]
       ],
       "shape": {
        "columns": 11,
        "rows": 8
       }
      },
      "text/html": [
       "<div>\n",
       "<style scoped>\n",
       "    .dataframe tbody tr th:only-of-type {\n",
       "        vertical-align: middle;\n",
       "    }\n",
       "\n",
       "    .dataframe tbody tr th {\n",
       "        vertical-align: top;\n",
       "    }\n",
       "\n",
       "    .dataframe thead th {\n",
       "        text-align: right;\n",
       "    }\n",
       "</style>\n",
       "<table border=\"1\" class=\"dataframe\">\n",
       "  <thead>\n",
       "    <tr style=\"text-align: right;\">\n",
       "      <th></th>\n",
       "      <th>norad_cat_id</th>\n",
       "      <th>period</th>\n",
       "      <th>inclination</th>\n",
       "      <th>apogee</th>\n",
       "      <th>perigee</th>\n",
       "      <th>commentcode</th>\n",
       "      <th>rcsvalue</th>\n",
       "      <th>file</th>\n",
       "      <th>launch_year</th>\n",
       "      <th>launch_num</th>\n",
       "      <th>object_number</th>\n",
       "    </tr>\n",
       "  </thead>\n",
       "  <tbody>\n",
       "    <tr>\n",
       "      <th>count</th>\n",
       "      <td>65265.000000</td>\n",
       "      <td>64273.000000</td>\n",
       "      <td>64273.000000</td>\n",
       "      <td>64273.000000</td>\n",
       "      <td>64273.000000</td>\n",
       "      <td>3670.000000</td>\n",
       "      <td>65265.0</td>\n",
       "      <td>65265.00000</td>\n",
       "      <td>65265.000000</td>\n",
       "      <td>65265.000000</td>\n",
       "      <td>65265.000000</td>\n",
       "    </tr>\n",
       "    <tr>\n",
       "      <th>mean</th>\n",
       "      <td>32643.223045</td>\n",
       "      <td>177.086338</td>\n",
       "      <td>68.850224</td>\n",
       "      <td>3505.692064</td>\n",
       "      <td>1731.541005</td>\n",
       "      <td>3.388556</td>\n",
       "      <td>0.0</td>\n",
       "      <td>7296.48467</td>\n",
       "      <td>1997.327557</td>\n",
       "      <td>60.602176</td>\n",
       "      <td>32643.223045</td>\n",
       "    </tr>\n",
       "    <tr>\n",
       "      <th>std</th>\n",
       "      <td>18854.766362</td>\n",
       "      <td>688.899073</td>\n",
       "      <td>25.017626</td>\n",
       "      <td>13814.289005</td>\n",
       "      <td>6648.313714</td>\n",
       "      <td>1.334279</td>\n",
       "      <td>0.0</td>\n",
       "      <td>3213.70126</td>\n",
       "      <td>19.701192</td>\n",
       "      <td>44.098971</td>\n",
       "      <td>18854.766362</td>\n",
       "    </tr>\n",
       "    <tr>\n",
       "      <th>min</th>\n",
       "      <td>1.000000</td>\n",
       "      <td>0.000000</td>\n",
       "      <td>0.000000</td>\n",
       "      <td>0.000000</td>\n",
       "      <td>0.000000</td>\n",
       "      <td>1.000000</td>\n",
       "      <td>0.0</td>\n",
       "      <td>1.00000</td>\n",
       "      <td>1957.000000</td>\n",
       "      <td>0.000000</td>\n",
       "      <td>1.000000</td>\n",
       "    </tr>\n",
       "    <tr>\n",
       "      <th>25%</th>\n",
       "      <td>16317.000000</td>\n",
       "      <td>89.280000</td>\n",
       "      <td>53.010000</td>\n",
       "      <td>268.000000</td>\n",
       "      <td>197.000000</td>\n",
       "      <td>3.000000</td>\n",
       "      <td>0.0</td>\n",
       "      <td>7337.00000</td>\n",
       "      <td>1982.000000</td>\n",
       "      <td>25.000000</td>\n",
       "      <td>16317.000000</td>\n",
       "    </tr>\n",
       "    <tr>\n",
       "      <th>50%</th>\n",
       "      <td>32633.000000</td>\n",
       "      <td>94.110000</td>\n",
       "      <td>70.000000</td>\n",
       "      <td>484.000000</td>\n",
       "      <td>419.000000</td>\n",
       "      <td>3.000000</td>\n",
       "      <td>0.0</td>\n",
       "      <td>9029.00000</td>\n",
       "      <td>1997.000000</td>\n",
       "      <td>52.000000</td>\n",
       "      <td>32633.000000</td>\n",
       "    </tr>\n",
       "    <tr>\n",
       "      <th>75%</th>\n",
       "      <td>48949.000000</td>\n",
       "      <td>101.040000</td>\n",
       "      <td>92.240000</td>\n",
       "      <td>872.000000</td>\n",
       "      <td>667.000000</td>\n",
       "      <td>5.000000</td>\n",
       "      <td>0.0</td>\n",
       "      <td>9235.00000</td>\n",
       "      <td>2020.000000</td>\n",
       "      <td>86.000000</td>\n",
       "      <td>48949.000000</td>\n",
       "    </tr>\n",
       "    <tr>\n",
       "      <th>max</th>\n",
       "      <td>65322.000000</td>\n",
       "      <td>95687.680000</td>\n",
       "      <td>150.940000</td>\n",
       "      <td>641287.000000</td>\n",
       "      <td>314973.000000</td>\n",
       "      <td>5.000000</td>\n",
       "      <td>0.0</td>\n",
       "      <td>9240.00000</td>\n",
       "      <td>2025.000000</td>\n",
       "      <td>254.000000</td>\n",
       "      <td>65322.000000</td>\n",
       "    </tr>\n",
       "  </tbody>\n",
       "</table>\n",
       "</div>"
      ],
      "text/plain": [
       "       norad_cat_id        period   inclination         apogee        perigee  \\\n",
       "count  65265.000000  64273.000000  64273.000000   64273.000000   64273.000000   \n",
       "mean   32643.223045    177.086338     68.850224    3505.692064    1731.541005   \n",
       "std    18854.766362    688.899073     25.017626   13814.289005    6648.313714   \n",
       "min        1.000000      0.000000      0.000000       0.000000       0.000000   \n",
       "25%    16317.000000     89.280000     53.010000     268.000000     197.000000   \n",
       "50%    32633.000000     94.110000     70.000000     484.000000     419.000000   \n",
       "75%    48949.000000    101.040000     92.240000     872.000000     667.000000   \n",
       "max    65322.000000  95687.680000    150.940000  641287.000000  314973.000000   \n",
       "\n",
       "       commentcode  rcsvalue         file   launch_year    launch_num  \\\n",
       "count  3670.000000   65265.0  65265.00000  65265.000000  65265.000000   \n",
       "mean      3.388556       0.0   7296.48467   1997.327557     60.602176   \n",
       "std       1.334279       0.0   3213.70126     19.701192     44.098971   \n",
       "min       1.000000       0.0      1.00000   1957.000000      0.000000   \n",
       "25%       3.000000       0.0   7337.00000   1982.000000     25.000000   \n",
       "50%       3.000000       0.0   9029.00000   1997.000000     52.000000   \n",
       "75%       5.000000       0.0   9235.00000   2020.000000     86.000000   \n",
       "max       5.000000       0.0   9240.00000   2025.000000    254.000000   \n",
       "\n",
       "       object_number  \n",
       "count   65265.000000  \n",
       "mean    32643.223045  \n",
       "std     18854.766362  \n",
       "min         1.000000  \n",
       "25%     16317.000000  \n",
       "50%     32633.000000  \n",
       "75%     48949.000000  \n",
       "max     65322.000000  "
      ]
     },
     "execution_count": 74,
     "metadata": {},
     "output_type": "execute_result"
    }
   ],
   "source": [
    "satcat.describe()"
   ]
  },
  {
   "cell_type": "code",
   "execution_count": 75,
   "id": "2508e44c",
   "metadata": {},
   "outputs": [
    {
     "data": {
      "application/vnd.microsoft.datawrangler.viewer.v0+json": {
       "columns": [
        {
         "name": "object_type",
         "rawType": "object",
         "type": "string"
        },
        {
         "name": "count",
         "rawType": "int64",
         "type": "integer"
        }
       ],
       "ref": "b47e3094-cd0b-479d-aa1f-7d8e16a06ee8",
       "rows": [
        [
         "DEBRIS",
         "35726"
        ],
        [
         "PAYLOAD",
         "21844"
        ],
        [
         "ROCKET BODY",
         "6743"
        ],
        [
         "UNKNOWN",
         "952"
        ]
       ],
       "shape": {
        "columns": 1,
        "rows": 4
       }
      },
      "text/plain": [
       "object_type\n",
       "DEBRIS         35726\n",
       "PAYLOAD        21844\n",
       "ROCKET BODY     6743\n",
       "UNKNOWN          952\n",
       "Name: count, dtype: int64"
      ]
     },
     "execution_count": 75,
     "metadata": {},
     "output_type": "execute_result"
    }
   ],
   "source": [
    "satcat['object_type'].value_counts()"
   ]
  },
  {
   "cell_type": "code",
   "execution_count": 76,
   "id": "18c25361",
   "metadata": {},
   "outputs": [
    {
     "data": {
      "application/vnd.microsoft.datawrangler.viewer.v0+json": {
       "columns": [
        {
         "name": "country",
         "rawType": "object",
         "type": "string"
        },
        {
         "name": "count",
         "rawType": "int64",
         "type": "integer"
        }
       ],
       "ref": "41fffa83-0543-4500-b3a4-511a4a157e03",
       "rows": [
        [
         "CIS",
         "25033"
        ],
        [
         "US",
         "24961"
        ],
        [
         "PRC",
         "8658"
        ],
        [
         "FR",
         "1471"
        ],
        [
         "JPN",
         "873"
        ],
        [
         "IND",
         "756"
        ],
        [
         "UK",
         "751"
        ],
        [
         "TBD",
         "420"
        ],
        [
         "ESA",
         "173"
        ],
        [
         "ITSO",
         "131"
        ],
        [
         "GER",
         "128"
        ],
        [
         "IT",
         "113"
        ],
        [
         "CA",
         "106"
        ],
        [
         "ISS",
         "106"
        ],
        [
         "ORB",
         "94"
        ],
        [
         "CHBZ",
         "91"
        ],
        [
         "GLOB",
         "86"
        ],
        [
         "SPN",
         "81"
        ],
        [
         "SES",
         "79"
        ],
        [
         "ARGN",
         "69"
        ],
        [
         "AUS",
         "66"
        ],
        [
         "EUTE",
         "62"
        ],
        [
         "SKOR",
         "61"
        ],
        [
         "ISRA",
         "54"
        ],
        [
         "TURK",
         "41"
        ],
        [
         "FIN",
         "38"
        ],
        [
         "SEAL",
         "37"
        ],
        [
         "BRAZ",
         "36"
        ],
        [
         "TWN",
         "30"
        ],
        [
         "IRAN",
         "30"
        ],
        [
         "NOR",
         "26"
        ],
        [
         "NZ",
         "26"
        ],
        [
         "SING",
         "26"
        ],
        [
         "UAE",
         "25"
        ],
        [
         "SWTZ",
         "22"
        ],
        [
         "INDO",
         "22"
        ],
        [
         "O3B",
         "20"
        ],
        [
         "IM",
         "20"
        ],
        [
         "LUXE",
         "19"
        ],
        [
         "EUME",
         "18"
        ],
        [
         "POL",
         "18"
        ],
        [
         "DEN",
         "17"
        ],
        [
         "AB",
         "16"
        ],
        [
         "BEL",
         "15"
        ],
        [
         "NETH",
         "15"
        ],
        [
         "THAI",
         "15"
        ],
        [
         "SAUD",
         "15"
        ],
        [
         "SWED",
         "14"
        ],
        [
         "EGYP",
         "14"
        ],
        [
         "LTU",
         "14"
        ]
       ],
       "shape": {
        "columns": 1,
        "rows": 121
       }
      },
      "text/plain": [
       "country\n",
       "CIS     25033\n",
       "US      24961\n",
       "PRC      8658\n",
       "FR       1471\n",
       "JPN       873\n",
       "        ...  \n",
       "MNG         1\n",
       "GHA         1\n",
       "NICO        1\n",
       "SVK         1\n",
       "BHR         1\n",
       "Name: count, Length: 121, dtype: int64"
      ]
     },
     "execution_count": 76,
     "metadata": {},
     "output_type": "execute_result"
    }
   ],
   "source": [
    "satcat['country'].value_counts()"
   ]
  },
  {
   "cell_type": "code",
   "execution_count": 77,
   "id": "a0dce811",
   "metadata": {},
   "outputs": [
    {
     "data": {
      "text/plain": [
       "121"
      ]
     },
     "execution_count": 77,
     "metadata": {},
     "output_type": "execute_result"
    }
   ],
   "source": [
    "satcat['country'].nunique()"
   ]
  },
  {
   "cell_type": "markdown",
   "id": "ed401c5c",
   "metadata": {},
   "source": [
    "## Understand Orbital Placement of Objects"
   ]
  },
  {
   "cell_type": "markdown",
   "id": "ed511181",
   "metadata": {},
   "source": [
    "- LEO (<2,000 km perigee)\n",
    "- MEO (2,000–35,000 km)\n",
    "- GEO (near 35,786 km ± 200 km)\n",
    "- HEO (eccentric >0.1, apogee > GEO)"
   ]
  },
  {
   "cell_type": "code",
   "execution_count": 78,
   "id": "4d5bc348",
   "metadata": {},
   "outputs": [
    {
     "data": {
      "text/plain": [
       "29715"
      ]
     },
     "execution_count": 78,
     "metadata": {},
     "output_type": "execute_result"
    }
   ],
   "source": [
    "df_all['satNo'].nunique()"
   ]
  },
  {
   "cell_type": "code",
   "execution_count": 79,
   "id": "786912e7",
   "metadata": {},
   "outputs": [
    {
     "data": {
      "text/plain": [
       "65265"
      ]
     },
     "execution_count": 79,
     "metadata": {},
     "output_type": "execute_result"
    }
   ],
   "source": [
    "satcat['norad_cat_id'].nunique()"
   ]
  },
  {
   "cell_type": "code",
   "execution_count": 80,
   "id": "6d5c69b0",
   "metadata": {},
   "outputs": [
    {
     "data": {
      "application/vnd.microsoft.datawrangler.viewer.v0+json": {
       "columns": [
        {
         "name": "_merge",
         "rawType": "category",
         "type": "unknown"
        },
        {
         "name": "count",
         "rawType": "int64",
         "type": "integer"
        }
       ],
       "ref": "ae0f35e1-a860-4a76-a2c0-7c4176f185f9",
       "rows": [
        [
         "right_only",
         "36125"
        ],
        [
         "both",
         "29140"
        ],
        [
         "left_only",
         "576"
        ]
       ],
       "shape": {
        "columns": 1,
        "rows": 3
       }
      },
      "text/plain": [
       "_merge\n",
       "right_only    36125\n",
       "both          29140\n",
       "left_only       576\n",
       "Name: count, dtype: int64"
      ]
     },
     "execution_count": 80,
     "metadata": {},
     "output_type": "execute_result"
    }
   ],
   "source": [
    "sat_list = satcat[['norad_cat_id']].drop_duplicates().rename(columns={'norad_cat_id': 'satNo'})\n",
    "sat_no_list = df_all[['satNo']].drop_duplicates()\n",
    "merged = sat_no_list[['satNo']].merge(sat_list, on='satNo', how='outer', indicator=True)\n",
    "merged['_merge'].value_counts()"
   ]
  },
  {
   "cell_type": "markdown",
   "id": "6012c9a2",
   "metadata": {},
   "source": [
    "## Only keep rows in both datasets"
   ]
  },
  {
   "cell_type": "code",
   "execution_count": 81,
   "id": "18746455",
   "metadata": {},
   "outputs": [
    {
     "data": {
      "text/plain": [
       "(9510016, 49)"
      ]
     },
     "execution_count": 81,
     "metadata": {},
     "output_type": "execute_result"
    }
   ],
   "source": [
    "merged = df_all.merge(satcat, left_on='satNo', right_on='norad_cat_id', how='inner')\n",
    "merged.shape"
   ]
  },
  {
   "cell_type": "code",
   "execution_count": 107,
   "id": "e970528e",
   "metadata": {},
   "outputs": [
    {
     "name": "stderr",
     "output_type": "stream",
     "text": [
      "/var/folders/b2/nkpmrw0s42q_zm32rwshljyr0000gn/T/ipykernel_31514/1163593556.py:2: SettingWithCopyWarning: \n",
      "A value is trying to be set on a copy of a slice from a DataFrame.\n",
      "Try using .loc[row_indexer,col_indexer] = value instead\n",
      "\n",
      "See the caveats in the documentation: https://pandas.pydata.org/pandas-docs/stable/user_guide/indexing.html#returning-a-view-versus-a-copy\n",
      "  stats_check['apogee_diff'] = stats_check['apogee_x'] - stats_check['apogee_y']\n",
      "/var/folders/b2/nkpmrw0s42q_zm32rwshljyr0000gn/T/ipykernel_31514/1163593556.py:3: SettingWithCopyWarning: \n",
      "A value is trying to be set on a copy of a slice from a DataFrame.\n",
      "Try using .loc[row_indexer,col_indexer] = value instead\n",
      "\n",
      "See the caveats in the documentation: https://pandas.pydata.org/pandas-docs/stable/user_guide/indexing.html#returning-a-view-versus-a-copy\n",
      "  stats_check['perigee_diff'] = stats_check['perigee_x'] - stats_check['perigee_y']\n",
      "/var/folders/b2/nkpmrw0s42q_zm32rwshljyr0000gn/T/ipykernel_31514/1163593556.py:4: SettingWithCopyWarning: \n",
      "A value is trying to be set on a copy of a slice from a DataFrame.\n",
      "Try using .loc[row_indexer,col_indexer] = value instead\n",
      "\n",
      "See the caveats in the documentation: https://pandas.pydata.org/pandas-docs/stable/user_guide/indexing.html#returning-a-view-versus-a-copy\n",
      "  stats_check['period_diff'] = stats_check['period_x'] - stats_check['period_y']\n"
     ]
    },
    {
     "data": {
      "application/vnd.microsoft.datawrangler.viewer.v0+json": {
       "columns": [
        {
         "name": "index",
         "rawType": "int64",
         "type": "integer"
        },
        {
         "name": "apogee_x",
         "rawType": "float64",
         "type": "float"
        },
        {
         "name": "apogee_y",
         "rawType": "float64",
         "type": "float"
        },
        {
         "name": "perigee_x",
         "rawType": "float64",
         "type": "float"
        },
        {
         "name": "perigee_y",
         "rawType": "float64",
         "type": "float"
        },
        {
         "name": "period_x",
         "rawType": "float64",
         "type": "float"
        },
        {
         "name": "period_y",
         "rawType": "float64",
         "type": "float"
        },
        {
         "name": "apogee_diff",
         "rawType": "float64",
         "type": "float"
        },
        {
         "name": "perigee_diff",
         "rawType": "float64",
         "type": "float"
        },
        {
         "name": "period_diff",
         "rawType": "float64",
         "type": "float"
        }
       ],
       "ref": "fa672c34-90b5-4e48-ba17-1008ebcfb562",
       "rows": [
        [
         "0",
         "10202.213",
         "3823.0",
         "7026.636",
         "649.0",
         "132.617",
         "132.61",
         "6379.213",
         "6377.636",
         "0.0069999999999765805"
        ],
        [
         "1",
         "10202.217",
         "3823.0",
         "7026.617",
         "649.0",
         "132.617",
         "132.61",
         "6379.217000000001",
         "6377.617",
         "0.0069999999999765805"
        ],
        [
         "2",
         "9286.717",
         "2900.0",
         "6930.269",
         "552.0",
         "121.107",
         "121.01",
         "6386.717000000001",
         "6378.269",
         "0.0969999999999942"
        ],
        [
         "3",
         "9673.868",
         "3290.0",
         "6931.950000000001",
         "556.0",
         "125.489",
         "125.45",
         "6383.868",
         "6375.950000000001",
         "0.03900000000000148"
        ],
        [
         "4",
         "10594.496",
         "4217.0",
         "7029.527",
         "650.0",
         "137.206",
         "137.2",
         "6377.495999999999",
         "6379.527",
         "0.006000000000000227"
        ],
        [
         "5",
         "9597.348",
         "3213.0",
         "6886.204000000001",
         "509.0",
         "124.105",
         "124.04",
         "6384.348",
         "6377.204000000001",
         "0.06499999999999773"
        ],
        [
         "6",
         "9597.322",
         "3213.0",
         "6886.212",
         "509.0",
         "124.105",
         "124.04",
         "6384.322",
         "6377.212",
         "0.06499999999999773"
        ],
        [
         "7",
         "6972.1990000000005",
         "565.0",
         "6832.162",
         "443.0",
         "95.113",
         "94.7",
         "6407.1990000000005",
         "6389.162",
         "0.4129999999999967"
        ],
        [
         "8",
         "6972.024",
         "565.0",
         "6832.128000000001",
         "443.0",
         "95.111",
         "94.7",
         "6407.024",
         "6389.128000000001",
         "0.41100000000000136"
        ],
        [
         "9",
         "7031.0",
         "651.0",
         "7000.1230000000005",
         "620.0",
         "97.466",
         "97.42",
         "6380.0",
         "6380.1230000000005",
         "0.04599999999999227"
        ]
       ],
       "shape": {
        "columns": 9,
        "rows": 10
       }
      },
      "text/html": [
       "<div>\n",
       "<style scoped>\n",
       "    .dataframe tbody tr th:only-of-type {\n",
       "        vertical-align: middle;\n",
       "    }\n",
       "\n",
       "    .dataframe tbody tr th {\n",
       "        vertical-align: top;\n",
       "    }\n",
       "\n",
       "    .dataframe thead th {\n",
       "        text-align: right;\n",
       "    }\n",
       "</style>\n",
       "<table border=\"1\" class=\"dataframe\">\n",
       "  <thead>\n",
       "    <tr style=\"text-align: right;\">\n",
       "      <th></th>\n",
       "      <th>apogee_x</th>\n",
       "      <th>apogee_y</th>\n",
       "      <th>perigee_x</th>\n",
       "      <th>perigee_y</th>\n",
       "      <th>period_x</th>\n",
       "      <th>period_y</th>\n",
       "      <th>apogee_diff</th>\n",
       "      <th>perigee_diff</th>\n",
       "      <th>period_diff</th>\n",
       "    </tr>\n",
       "  </thead>\n",
       "  <tbody>\n",
       "    <tr>\n",
       "      <th>0</th>\n",
       "      <td>10202.213</td>\n",
       "      <td>3823.0</td>\n",
       "      <td>7026.636</td>\n",
       "      <td>649.0</td>\n",
       "      <td>132.617</td>\n",
       "      <td>132.61</td>\n",
       "      <td>6379.213</td>\n",
       "      <td>6377.636</td>\n",
       "      <td>0.007</td>\n",
       "    </tr>\n",
       "    <tr>\n",
       "      <th>1</th>\n",
       "      <td>10202.217</td>\n",
       "      <td>3823.0</td>\n",
       "      <td>7026.617</td>\n",
       "      <td>649.0</td>\n",
       "      <td>132.617</td>\n",
       "      <td>132.61</td>\n",
       "      <td>6379.217</td>\n",
       "      <td>6377.617</td>\n",
       "      <td>0.007</td>\n",
       "    </tr>\n",
       "    <tr>\n",
       "      <th>2</th>\n",
       "      <td>9286.717</td>\n",
       "      <td>2900.0</td>\n",
       "      <td>6930.269</td>\n",
       "      <td>552.0</td>\n",
       "      <td>121.107</td>\n",
       "      <td>121.01</td>\n",
       "      <td>6386.717</td>\n",
       "      <td>6378.269</td>\n",
       "      <td>0.097</td>\n",
       "    </tr>\n",
       "    <tr>\n",
       "      <th>3</th>\n",
       "      <td>9673.868</td>\n",
       "      <td>3290.0</td>\n",
       "      <td>6931.950</td>\n",
       "      <td>556.0</td>\n",
       "      <td>125.489</td>\n",
       "      <td>125.45</td>\n",
       "      <td>6383.868</td>\n",
       "      <td>6375.950</td>\n",
       "      <td>0.039</td>\n",
       "    </tr>\n",
       "    <tr>\n",
       "      <th>4</th>\n",
       "      <td>10594.496</td>\n",
       "      <td>4217.0</td>\n",
       "      <td>7029.527</td>\n",
       "      <td>650.0</td>\n",
       "      <td>137.206</td>\n",
       "      <td>137.20</td>\n",
       "      <td>6377.496</td>\n",
       "      <td>6379.527</td>\n",
       "      <td>0.006</td>\n",
       "    </tr>\n",
       "    <tr>\n",
       "      <th>5</th>\n",
       "      <td>9597.348</td>\n",
       "      <td>3213.0</td>\n",
       "      <td>6886.204</td>\n",
       "      <td>509.0</td>\n",
       "      <td>124.105</td>\n",
       "      <td>124.04</td>\n",
       "      <td>6384.348</td>\n",
       "      <td>6377.204</td>\n",
       "      <td>0.065</td>\n",
       "    </tr>\n",
       "    <tr>\n",
       "      <th>6</th>\n",
       "      <td>9597.322</td>\n",
       "      <td>3213.0</td>\n",
       "      <td>6886.212</td>\n",
       "      <td>509.0</td>\n",
       "      <td>124.105</td>\n",
       "      <td>124.04</td>\n",
       "      <td>6384.322</td>\n",
       "      <td>6377.212</td>\n",
       "      <td>0.065</td>\n",
       "    </tr>\n",
       "    <tr>\n",
       "      <th>7</th>\n",
       "      <td>6972.199</td>\n",
       "      <td>565.0</td>\n",
       "      <td>6832.162</td>\n",
       "      <td>443.0</td>\n",
       "      <td>95.113</td>\n",
       "      <td>94.70</td>\n",
       "      <td>6407.199</td>\n",
       "      <td>6389.162</td>\n",
       "      <td>0.413</td>\n",
       "    </tr>\n",
       "    <tr>\n",
       "      <th>8</th>\n",
       "      <td>6972.024</td>\n",
       "      <td>565.0</td>\n",
       "      <td>6832.128</td>\n",
       "      <td>443.0</td>\n",
       "      <td>95.111</td>\n",
       "      <td>94.70</td>\n",
       "      <td>6407.024</td>\n",
       "      <td>6389.128</td>\n",
       "      <td>0.411</td>\n",
       "    </tr>\n",
       "    <tr>\n",
       "      <th>9</th>\n",
       "      <td>7031.000</td>\n",
       "      <td>651.0</td>\n",
       "      <td>7000.123</td>\n",
       "      <td>620.0</td>\n",
       "      <td>97.466</td>\n",
       "      <td>97.42</td>\n",
       "      <td>6380.000</td>\n",
       "      <td>6380.123</td>\n",
       "      <td>0.046</td>\n",
       "    </tr>\n",
       "  </tbody>\n",
       "</table>\n",
       "</div>"
      ],
      "text/plain": [
       "    apogee_x  apogee_y  perigee_x  perigee_y  period_x  period_y  apogee_diff  \\\n",
       "0  10202.213    3823.0   7026.636      649.0   132.617    132.61     6379.213   \n",
       "1  10202.217    3823.0   7026.617      649.0   132.617    132.61     6379.217   \n",
       "2   9286.717    2900.0   6930.269      552.0   121.107    121.01     6386.717   \n",
       "3   9673.868    3290.0   6931.950      556.0   125.489    125.45     6383.868   \n",
       "4  10594.496    4217.0   7029.527      650.0   137.206    137.20     6377.496   \n",
       "5   9597.348    3213.0   6886.204      509.0   124.105    124.04     6384.348   \n",
       "6   9597.322    3213.0   6886.212      509.0   124.105    124.04     6384.322   \n",
       "7   6972.199     565.0   6832.162      443.0    95.113     94.70     6407.199   \n",
       "8   6972.024     565.0   6832.128      443.0    95.111     94.70     6407.024   \n",
       "9   7031.000     651.0   7000.123      620.0    97.466     97.42     6380.000   \n",
       "\n",
       "   perigee_diff  period_diff  \n",
       "0      6377.636        0.007  \n",
       "1      6377.617        0.007  \n",
       "2      6378.269        0.097  \n",
       "3      6375.950        0.039  \n",
       "4      6379.527        0.006  \n",
       "5      6377.204        0.065  \n",
       "6      6377.212        0.065  \n",
       "7      6389.162        0.413  \n",
       "8      6389.128        0.411  \n",
       "9      6380.123        0.046  "
      ]
     },
     "execution_count": 107,
     "metadata": {},
     "output_type": "execute_result"
    }
   ],
   "source": [
    "stats_check = merged[['apogee_x', 'apogee_y', 'perigee_x', 'perigee_y', 'period_x', 'period_y']]\n",
    "stats_check['apogee_diff'] = stats_check['apogee_x'] - stats_check['apogee_y']\n",
    "stats_check['perigee_diff'] = stats_check['perigee_x'] - stats_check['perigee_y']\n",
    "stats_check['period_diff'] = stats_check['period_x'] - stats_check['period_y']\n",
    "stats_check.head(10)"
   ]
  },
  {
   "cell_type": "code",
   "execution_count": 108,
   "id": "69f26b16",
   "metadata": {},
   "outputs": [
    {
     "data": {
      "application/vnd.microsoft.datawrangler.viewer.v0+json": {
       "columns": [
        {
         "name": "index",
         "rawType": "object",
         "type": "string"
        },
        {
         "name": "apogee_x",
         "rawType": "float64",
         "type": "float"
        },
        {
         "name": "apogee_y",
         "rawType": "float64",
         "type": "float"
        },
        {
         "name": "perigee_x",
         "rawType": "float64",
         "type": "float"
        },
        {
         "name": "perigee_y",
         "rawType": "float64",
         "type": "float"
        },
        {
         "name": "period_x",
         "rawType": "float64",
         "type": "float"
        },
        {
         "name": "period_y",
         "rawType": "float64",
         "type": "float"
        },
        {
         "name": "apogee_diff",
         "rawType": "float64",
         "type": "float"
        },
        {
         "name": "perigee_diff",
         "rawType": "float64",
         "type": "float"
        },
        {
         "name": "period_diff",
         "rawType": "float64",
         "type": "float"
        }
       ],
       "ref": "6a17c4df-076e-4b91-9c8f-3585d740a8d7",
       "rows": [
        [
         "count",
         "9400128.0",
         "9509384.0",
         "9400128.0",
         "9509384.0",
         "9242801.0",
         "9509384.0",
         "9399509.0",
         "9399509.0",
         "9242182.0"
        ],
        [
         "mean",
         "11079.262311197303",
         "4738.493401360172",
         "9857.154600836193",
         "3516.2058117539473",
         "203.1563406966715",
         "224.70502900503334",
         "6395.981820902292",
         "6382.508651960664",
         "0.2615756869466383"
        ],
        [
         "std",
         "11261.23459304215",
         "11320.444078114828",
         "9324.520142799222",
         "9394.080081814525",
         "349.90885322261636",
         "384.18055333950895",
         "438.87925020610584",
         "281.522319482496",
         "27.178092396272227"
        ],
        [
         "min",
         "6495.761",
         "95.0",
         "4901.396000000001",
         "0.0",
         "86.807",
         "86.3",
         "-244223.017",
         "-173897.334",
         "-28969.435"
        ],
        [
         "25%",
         "6918.712",
         "538.0",
         "6875.817",
         "490.0",
         "95.349",
         "95.1",
         "6377.7970000000005",
         "6377.737",
         "-0.0020000000000095497"
        ],
        [
         "50%",
         "7078.3460000000005",
         "696.0",
         "6959.703",
         "577.0",
         "97.802",
         "98.05",
         "6378.457",
         "6378.4800000000005",
         "0.003999999999990678"
        ],
        [
         "75%",
         "7557.43",
         "1183.0",
         "7271.018",
         "897.0",
         "105.316",
         "106.59",
         "6382.093",
         "6381.032",
         "0.05100000000000193"
        ],
        [
         "max",
         "619507.755",
         "638523.0",
         "307242.201",
         "314973.0",
         "51802.81",
         "55699.45",
         "72795.29600000003",
         "157210.27000000002",
         "16052.516"
        ]
       ],
       "shape": {
        "columns": 9,
        "rows": 8
       }
      },
      "text/html": [
       "<div>\n",
       "<style scoped>\n",
       "    .dataframe tbody tr th:only-of-type {\n",
       "        vertical-align: middle;\n",
       "    }\n",
       "\n",
       "    .dataframe tbody tr th {\n",
       "        vertical-align: top;\n",
       "    }\n",
       "\n",
       "    .dataframe thead th {\n",
       "        text-align: right;\n",
       "    }\n",
       "</style>\n",
       "<table border=\"1\" class=\"dataframe\">\n",
       "  <thead>\n",
       "    <tr style=\"text-align: right;\">\n",
       "      <th></th>\n",
       "      <th>apogee_x</th>\n",
       "      <th>apogee_y</th>\n",
       "      <th>perigee_x</th>\n",
       "      <th>perigee_y</th>\n",
       "      <th>period_x</th>\n",
       "      <th>period_y</th>\n",
       "      <th>apogee_diff</th>\n",
       "      <th>perigee_diff</th>\n",
       "      <th>period_diff</th>\n",
       "    </tr>\n",
       "  </thead>\n",
       "  <tbody>\n",
       "    <tr>\n",
       "      <th>count</th>\n",
       "      <td>9.400128e+06</td>\n",
       "      <td>9.509384e+06</td>\n",
       "      <td>9.400128e+06</td>\n",
       "      <td>9.509384e+06</td>\n",
       "      <td>9.242801e+06</td>\n",
       "      <td>9.509384e+06</td>\n",
       "      <td>9.399509e+06</td>\n",
       "      <td>9.399509e+06</td>\n",
       "      <td>9.242182e+06</td>\n",
       "    </tr>\n",
       "    <tr>\n",
       "      <th>mean</th>\n",
       "      <td>1.107926e+04</td>\n",
       "      <td>4.738493e+03</td>\n",
       "      <td>9.857155e+03</td>\n",
       "      <td>3.516206e+03</td>\n",
       "      <td>2.031563e+02</td>\n",
       "      <td>2.247050e+02</td>\n",
       "      <td>6.395982e+03</td>\n",
       "      <td>6.382509e+03</td>\n",
       "      <td>2.615757e-01</td>\n",
       "    </tr>\n",
       "    <tr>\n",
       "      <th>std</th>\n",
       "      <td>1.126123e+04</td>\n",
       "      <td>1.132044e+04</td>\n",
       "      <td>9.324520e+03</td>\n",
       "      <td>9.394080e+03</td>\n",
       "      <td>3.499089e+02</td>\n",
       "      <td>3.841806e+02</td>\n",
       "      <td>4.388793e+02</td>\n",
       "      <td>2.815223e+02</td>\n",
       "      <td>2.717809e+01</td>\n",
       "    </tr>\n",
       "    <tr>\n",
       "      <th>min</th>\n",
       "      <td>6.495761e+03</td>\n",
       "      <td>9.500000e+01</td>\n",
       "      <td>4.901396e+03</td>\n",
       "      <td>0.000000e+00</td>\n",
       "      <td>8.680700e+01</td>\n",
       "      <td>8.630000e+01</td>\n",
       "      <td>-2.442230e+05</td>\n",
       "      <td>-1.738973e+05</td>\n",
       "      <td>-2.896944e+04</td>\n",
       "    </tr>\n",
       "    <tr>\n",
       "      <th>25%</th>\n",
       "      <td>6.918712e+03</td>\n",
       "      <td>5.380000e+02</td>\n",
       "      <td>6.875817e+03</td>\n",
       "      <td>4.900000e+02</td>\n",
       "      <td>9.534900e+01</td>\n",
       "      <td>9.510000e+01</td>\n",
       "      <td>6.377797e+03</td>\n",
       "      <td>6.377737e+03</td>\n",
       "      <td>-2.000000e-03</td>\n",
       "    </tr>\n",
       "    <tr>\n",
       "      <th>50%</th>\n",
       "      <td>7.078346e+03</td>\n",
       "      <td>6.960000e+02</td>\n",
       "      <td>6.959703e+03</td>\n",
       "      <td>5.770000e+02</td>\n",
       "      <td>9.780200e+01</td>\n",
       "      <td>9.805000e+01</td>\n",
       "      <td>6.378457e+03</td>\n",
       "      <td>6.378480e+03</td>\n",
       "      <td>4.000000e-03</td>\n",
       "    </tr>\n",
       "    <tr>\n",
       "      <th>75%</th>\n",
       "      <td>7.557430e+03</td>\n",
       "      <td>1.183000e+03</td>\n",
       "      <td>7.271018e+03</td>\n",
       "      <td>8.970000e+02</td>\n",
       "      <td>1.053160e+02</td>\n",
       "      <td>1.065900e+02</td>\n",
       "      <td>6.382093e+03</td>\n",
       "      <td>6.381032e+03</td>\n",
       "      <td>5.100000e-02</td>\n",
       "    </tr>\n",
       "    <tr>\n",
       "      <th>max</th>\n",
       "      <td>6.195078e+05</td>\n",
       "      <td>6.385230e+05</td>\n",
       "      <td>3.072422e+05</td>\n",
       "      <td>3.149730e+05</td>\n",
       "      <td>5.180281e+04</td>\n",
       "      <td>5.569945e+04</td>\n",
       "      <td>7.279530e+04</td>\n",
       "      <td>1.572103e+05</td>\n",
       "      <td>1.605252e+04</td>\n",
       "    </tr>\n",
       "  </tbody>\n",
       "</table>\n",
       "</div>"
      ],
      "text/plain": [
       "           apogee_x      apogee_y     perigee_x     perigee_y      period_x  \\\n",
       "count  9.400128e+06  9.509384e+06  9.400128e+06  9.509384e+06  9.242801e+06   \n",
       "mean   1.107926e+04  4.738493e+03  9.857155e+03  3.516206e+03  2.031563e+02   \n",
       "std    1.126123e+04  1.132044e+04  9.324520e+03  9.394080e+03  3.499089e+02   \n",
       "min    6.495761e+03  9.500000e+01  4.901396e+03  0.000000e+00  8.680700e+01   \n",
       "25%    6.918712e+03  5.380000e+02  6.875817e+03  4.900000e+02  9.534900e+01   \n",
       "50%    7.078346e+03  6.960000e+02  6.959703e+03  5.770000e+02  9.780200e+01   \n",
       "75%    7.557430e+03  1.183000e+03  7.271018e+03  8.970000e+02  1.053160e+02   \n",
       "max    6.195078e+05  6.385230e+05  3.072422e+05  3.149730e+05  5.180281e+04   \n",
       "\n",
       "           period_y   apogee_diff  perigee_diff   period_diff  \n",
       "count  9.509384e+06  9.399509e+06  9.399509e+06  9.242182e+06  \n",
       "mean   2.247050e+02  6.395982e+03  6.382509e+03  2.615757e-01  \n",
       "std    3.841806e+02  4.388793e+02  2.815223e+02  2.717809e+01  \n",
       "min    8.630000e+01 -2.442230e+05 -1.738973e+05 -2.896944e+04  \n",
       "25%    9.510000e+01  6.377797e+03  6.377737e+03 -2.000000e-03  \n",
       "50%    9.805000e+01  6.378457e+03  6.378480e+03  4.000000e-03  \n",
       "75%    1.065900e+02  6.382093e+03  6.381032e+03  5.100000e-02  \n",
       "max    5.569945e+04  7.279530e+04  1.572103e+05  1.605252e+04  "
      ]
     },
     "execution_count": 108,
     "metadata": {},
     "output_type": "execute_result"
    }
   ],
   "source": [
    "stats_check.describe()"
   ]
  },
  {
   "cell_type": "code",
   "execution_count": 88,
   "id": "6e40251d",
   "metadata": {},
   "outputs": [
    {
     "data": {
      "text/plain": [
       "(29140, 49)"
      ]
     },
     "execution_count": 88,
     "metadata": {},
     "output_type": "execute_result"
    }
   ],
   "source": [
    "df_latest = (merged.sort_values(\"epoch\")\n",
    "                      .groupby(\"satNo\")\n",
    "                      .tail(1))\n",
    "df_latest.shape"
   ]
  },
  {
   "cell_type": "code",
   "execution_count": 89,
   "id": "7ab857ad",
   "metadata": {},
   "outputs": [
    {
     "data": {
      "application/vnd.microsoft.datawrangler.viewer.v0+json": {
       "columns": [
        {
         "name": "index",
         "rawType": "int64",
         "type": "integer"
        },
        {
         "name": "algorithm",
         "rawType": "object",
         "type": "string"
        },
        {
         "name": "apogee_x",
         "rawType": "float64",
         "type": "float"
        },
        {
         "name": "argOfPerigee",
         "rawType": "float64",
         "type": "float"
        },
        {
         "name": "bStar",
         "rawType": "float64",
         "type": "float"
        },
        {
         "name": "classificationMarking",
         "rawType": "string",
         "type": "string"
        },
        {
         "name": "createdAt",
         "rawType": "datetime64[us, UTC]",
         "type": "unknown"
        },
        {
         "name": "createdBy",
         "rawType": "string",
         "type": "string"
        },
        {
         "name": "eccentricity",
         "rawType": "float64",
         "type": "float"
        },
        {
         "name": "source",
         "rawType": "string",
         "type": "string"
        },
        {
         "name": "semiMajorAxis",
         "rawType": "float64",
         "type": "float"
        },
        {
         "name": "satNo",
         "rawType": "Int64",
         "type": "integer"
        },
        {
         "name": "revNo",
         "rawType": "Int64",
         "type": "integer"
        },
        {
         "name": "raan",
         "rawType": "float64",
         "type": "float"
        },
        {
         "name": "period_x",
         "rawType": "float64",
         "type": "float"
        },
        {
         "name": "perigee_x",
         "rawType": "float64",
         "type": "float"
        },
        {
         "name": "origNetwork",
         "rawType": "object",
         "type": "string"
        },
        {
         "name": "meanMotionDot",
         "rawType": "float64",
         "type": "float"
        },
        {
         "name": "meanMotionDDot",
         "rawType": "float64",
         "type": "float"
        },
        {
         "name": "meanMotion",
         "rawType": "float64",
         "type": "float"
        },
        {
         "name": "meanAnomaly",
         "rawType": "float64",
         "type": "float"
        },
        {
         "name": "inclination_x",
         "rawType": "float64",
         "type": "float"
        },
        {
         "name": "idOnOrbit",
         "rawType": "Int64",
         "type": "integer"
        },
        {
         "name": "idElset",
         "rawType": "Int64",
         "type": "integer"
        },
        {
         "name": "epoch",
         "rawType": "datetime64[us, UTC]",
         "type": "unknown"
        },
        {
         "name": "epoch_date",
         "rawType": "category",
         "type": "unknown"
        },
        {
         "name": "intldes",
         "rawType": "object",
         "type": "string"
        },
        {
         "name": "norad_cat_id",
         "rawType": "int64",
         "type": "integer"
        },
        {
         "name": "object_type",
         "rawType": "object",
         "type": "string"
        },
        {
         "name": "satname",
         "rawType": "object",
         "type": "string"
        },
        {
         "name": "country",
         "rawType": "object",
         "type": "string"
        },
        {
         "name": "launch",
         "rawType": "object",
         "type": "string"
        },
        {
         "name": "site",
         "rawType": "object",
         "type": "string"
        },
        {
         "name": "decay",
         "rawType": "object",
         "type": "unknown"
        },
        {
         "name": "period_y",
         "rawType": "float64",
         "type": "float"
        },
        {
         "name": "inclination_y",
         "rawType": "float64",
         "type": "float"
        },
        {
         "name": "apogee_y",
         "rawType": "float64",
         "type": "float"
        },
        {
         "name": "perigee_y",
         "rawType": "float64",
         "type": "float"
        },
        {
         "name": "comment",
         "rawType": "object",
         "type": "unknown"
        },
        {
         "name": "commentcode",
         "rawType": "float64",
         "type": "float"
        },
        {
         "name": "rcsvalue",
         "rawType": "int64",
         "type": "integer"
        },
        {
         "name": "rcs_size",
         "rawType": "object",
         "type": "string"
        },
        {
         "name": "file",
         "rawType": "int64",
         "type": "integer"
        },
        {
         "name": "launch_year",
         "rawType": "int64",
         "type": "integer"
        },
        {
         "name": "launch_num",
         "rawType": "int64",
         "type": "integer"
        },
        {
         "name": "launch_piece",
         "rawType": "object",
         "type": "string"
        },
        {
         "name": "current",
         "rawType": "object",
         "type": "string"
        },
        {
         "name": "object_name",
         "rawType": "object",
         "type": "string"
        },
        {
         "name": "object_id",
         "rawType": "object",
         "type": "string"
        },
        {
         "name": "object_number",
         "rawType": "int64",
         "type": "integer"
        }
       ],
       "ref": "ea2a92ed-56a5-4f93-8dfe-b0dafac701ff",
       "rows": [
        [
         "31636",
         "SGP4",
         "6713.22",
         "158.0519",
         "0.071972",
         "U",
         "2025-01-01 16:05:13.461000+00:00",
         "system.ob-ingest",
         "0.0028071",
         "18th SPCS",
         "6694.428",
         "60773",
         "2104",
         "332.9594",
         "90.851",
         "6675.636",
         "OPS1",
         "0.12335594",
         "0.274",
         "15.85011945",
         "202.1971",
         "88.9702",
         "60773",
         null,
         "2025-01-01 05:40:21.204192+00:00",
         "2025-01-01",
         "2024-140EY",
         "60773",
         "DEBRIS",
         "CZ-6A DEB",
         "PRC",
         "2024-08-06",
         "TSC",
         "2025-01-06",
         "90.85",
         "88.97",
         "335.0",
         "298.0",
         null,
         null,
         "0",
         "SMALL",
         "9003",
         "2024",
         "140",
         "EY",
         "Y",
         "CZ-6A DEB",
         "2024-140EY",
         "60773"
        ],
        [
         "25359",
         "SGP4",
         "6572.676",
         "274.5234",
         "0.00026621",
         "U",
         "2025-01-02 00:05:13.604000+00:00",
         "system.ob-ingest",
         "0.0002834",
         "18th SPCS",
         "6570.814",
         "56091",
         "10246",
         "70.4408",
         "88.346",
         "6568.951",
         "OPS1",
         "0.01146446",
         "1.8461e-06",
         "16.29949092",
         "131.9252",
         "96.3242",
         "56091",
         null,
         "2025-01-01 06:26:51.037728+00:00",
         "2025-01-01",
         "2023-045A",
         "56091",
         "PAYLOAD",
         "COSMOS 2568",
         "CIS",
         "2023-03-29",
         "PKMTR",
         "2025-01-03",
         "87.19",
         "96.33",
         "141.0",
         "130.0",
         null,
         null,
         "0",
         "LARGE",
         "9000",
         "2023",
         "45",
         "A",
         "Y",
         "COSMOS 2568",
         "2023-045A",
         "56091"
        ],
        [
         "11943",
         "SGP4",
         "6689.589",
         "333.9987",
         "0.01516",
         "U",
         "2025-01-01 15:05:11.434000+00:00",
         "system.ob-ingest",
         "0.0021773",
         "18th SPCS",
         "6675.056",
         "33989",
         "84795",
         "57.0027",
         "90.457",
         "6660.522",
         "OPS1",
         "0.04151111",
         "0.022317",
         "15.91917055",
         "26.0151",
         "73.9751",
         "33989",
         null,
         "2025-01-01 09:48:54.658944+00:00",
         "2025-01-01",
         "1993-036FY",
         "33989",
         "DEBRIS",
         "COSMOS 2251 DEB",
         "CIS",
         "1993-06-16",
         "PKMTR",
         "2025-01-06",
         "90.46",
         "73.98",
         "311.0",
         "282.0",
         null,
         null,
         "0",
         "SMALL",
         "9003",
         "1993",
         "36",
         "FY",
         "Y",
         "COSMOS 2251 DEB",
         "1993-036FY",
         "33989"
        ],
        [
         "22797",
         "SGP4",
         "6525.653",
         "212.6438",
         "0.00029573",
         "U",
         "2025-01-01 12:05:11.766000+00:00",
         "system.ob-ingest",
         "0.0002283",
         "18th SPCS",
         "6524.163",
         "53714",
         "12937",
         "346.7018",
         "87.407",
         "6522.674",
         "OPS1",
         "0.15817723",
         "1.2522e-05",
         "16.47462503",
         "285.8411",
         "53.201",
         "53714",
         null,
         "2025-01-01 10:32:12.338880+00:00",
         "2025-01-01",
         "2022-107Q",
         "53714",
         "PAYLOAD",
         "STARLINK-4688",
         "US",
         "2022-09-05",
         "AFETR",
         "2025-01-01",
         "87.41",
         "53.2",
         "148.0",
         "145.0",
         null,
         null,
         "0",
         "LARGE",
         "9000",
         "2022",
         "107",
         "Q",
         "Y",
         "STARLINK-4688",
         "2022-107Q",
         "53714"
        ],
        [
         "13338",
         "SGP4",
         "7100.459",
         "59.2819",
         "0.018898",
         "U",
         "2025-01-01 23:05:11.521000+00:00",
         "system.ob-ingest",
         "0.0014977",
         "18th SPCS",
         "7089.84",
         "38275",
         "74271",
         "262.7376",
         "99.018",
         "7079.222",
         "OPS1",
         "0.00081184",
         "0.0",
         "14.54280126",
         "300.9849",
         "81.1576",
         "38275",
         null,
         "2025-01-01 10:44:23.122176+00:00",
         "2025-01-01",
         "1979-095BV",
         "38275",
         "DEBRIS",
         "METEOR 2-5 DEB",
         "CIS",
         "1979-10-31",
         "PKMTR",
         null,
         "99.02",
         "81.16",
         "722.0",
         "701.0",
         null,
         "1.0",
         "0",
         "SMALL",
         "9029",
         "1979",
         "95",
         "BV",
         "Y",
         "METEOR 2-5 DEB",
         "1979-095BV",
         "38275"
        ]
       ],
       "shape": {
        "columns": 49,
        "rows": 5
       }
      },
      "text/html": [
       "<div>\n",
       "<style scoped>\n",
       "    .dataframe tbody tr th:only-of-type {\n",
       "        vertical-align: middle;\n",
       "    }\n",
       "\n",
       "    .dataframe tbody tr th {\n",
       "        vertical-align: top;\n",
       "    }\n",
       "\n",
       "    .dataframe thead th {\n",
       "        text-align: right;\n",
       "    }\n",
       "</style>\n",
       "<table border=\"1\" class=\"dataframe\">\n",
       "  <thead>\n",
       "    <tr style=\"text-align: right;\">\n",
       "      <th></th>\n",
       "      <th>algorithm</th>\n",
       "      <th>apogee_x</th>\n",
       "      <th>argOfPerigee</th>\n",
       "      <th>bStar</th>\n",
       "      <th>classificationMarking</th>\n",
       "      <th>createdAt</th>\n",
       "      <th>createdBy</th>\n",
       "      <th>eccentricity</th>\n",
       "      <th>source</th>\n",
       "      <th>semiMajorAxis</th>\n",
       "      <th>satNo</th>\n",
       "      <th>revNo</th>\n",
       "      <th>raan</th>\n",
       "      <th>period_x</th>\n",
       "      <th>perigee_x</th>\n",
       "      <th>origNetwork</th>\n",
       "      <th>meanMotionDot</th>\n",
       "      <th>meanMotionDDot</th>\n",
       "      <th>meanMotion</th>\n",
       "      <th>meanAnomaly</th>\n",
       "      <th>inclination_x</th>\n",
       "      <th>idOnOrbit</th>\n",
       "      <th>idElset</th>\n",
       "      <th>epoch</th>\n",
       "      <th>epoch_date</th>\n",
       "      <th>intldes</th>\n",
       "      <th>norad_cat_id</th>\n",
       "      <th>object_type</th>\n",
       "      <th>satname</th>\n",
       "      <th>country</th>\n",
       "      <th>launch</th>\n",
       "      <th>site</th>\n",
       "      <th>decay</th>\n",
       "      <th>period_y</th>\n",
       "      <th>inclination_y</th>\n",
       "      <th>apogee_y</th>\n",
       "      <th>perigee_y</th>\n",
       "      <th>comment</th>\n",
       "      <th>commentcode</th>\n",
       "      <th>rcsvalue</th>\n",
       "      <th>rcs_size</th>\n",
       "      <th>file</th>\n",
       "      <th>launch_year</th>\n",
       "      <th>launch_num</th>\n",
       "      <th>launch_piece</th>\n",
       "      <th>current</th>\n",
       "      <th>object_name</th>\n",
       "      <th>object_id</th>\n",
       "      <th>object_number</th>\n",
       "    </tr>\n",
       "  </thead>\n",
       "  <tbody>\n",
       "    <tr>\n",
       "      <th>31636</th>\n",
       "      <td>SGP4</td>\n",
       "      <td>6713.220</td>\n",
       "      <td>158.0519</td>\n",
       "      <td>0.071972</td>\n",
       "      <td>U</td>\n",
       "      <td>2025-01-01 16:05:13.461000+00:00</td>\n",
       "      <td>system.ob-ingest</td>\n",
       "      <td>0.002807</td>\n",
       "      <td>18th SPCS</td>\n",
       "      <td>6694.428</td>\n",
       "      <td>60773</td>\n",
       "      <td>2104</td>\n",
       "      <td>332.9594</td>\n",
       "      <td>90.851</td>\n",
       "      <td>6675.636</td>\n",
       "      <td>OPS1</td>\n",
       "      <td>0.123356</td>\n",
       "      <td>0.274000</td>\n",
       "      <td>15.850119</td>\n",
       "      <td>202.1971</td>\n",
       "      <td>88.9702</td>\n",
       "      <td>60773</td>\n",
       "      <td>&lt;NA&gt;</td>\n",
       "      <td>2025-01-01 05:40:21.204192+00:00</td>\n",
       "      <td>2025-01-01</td>\n",
       "      <td>2024-140EY</td>\n",
       "      <td>60773</td>\n",
       "      <td>DEBRIS</td>\n",
       "      <td>CZ-6A DEB</td>\n",
       "      <td>PRC</td>\n",
       "      <td>2024-08-06</td>\n",
       "      <td>TSC</td>\n",
       "      <td>2025-01-06</td>\n",
       "      <td>90.85</td>\n",
       "      <td>88.97</td>\n",
       "      <td>335.0</td>\n",
       "      <td>298.0</td>\n",
       "      <td>NaN</td>\n",
       "      <td>NaN</td>\n",
       "      <td>0</td>\n",
       "      <td>SMALL</td>\n",
       "      <td>9003</td>\n",
       "      <td>2024</td>\n",
       "      <td>140</td>\n",
       "      <td>EY</td>\n",
       "      <td>Y</td>\n",
       "      <td>CZ-6A DEB</td>\n",
       "      <td>2024-140EY</td>\n",
       "      <td>60773</td>\n",
       "    </tr>\n",
       "    <tr>\n",
       "      <th>25359</th>\n",
       "      <td>SGP4</td>\n",
       "      <td>6572.676</td>\n",
       "      <td>274.5234</td>\n",
       "      <td>0.000266</td>\n",
       "      <td>U</td>\n",
       "      <td>2025-01-02 00:05:13.604000+00:00</td>\n",
       "      <td>system.ob-ingest</td>\n",
       "      <td>0.000283</td>\n",
       "      <td>18th SPCS</td>\n",
       "      <td>6570.814</td>\n",
       "      <td>56091</td>\n",
       "      <td>10246</td>\n",
       "      <td>70.4408</td>\n",
       "      <td>88.346</td>\n",
       "      <td>6568.951</td>\n",
       "      <td>OPS1</td>\n",
       "      <td>0.011464</td>\n",
       "      <td>0.000002</td>\n",
       "      <td>16.299491</td>\n",
       "      <td>131.9252</td>\n",
       "      <td>96.3242</td>\n",
       "      <td>56091</td>\n",
       "      <td>&lt;NA&gt;</td>\n",
       "      <td>2025-01-01 06:26:51.037728+00:00</td>\n",
       "      <td>2025-01-01</td>\n",
       "      <td>2023-045A</td>\n",
       "      <td>56091</td>\n",
       "      <td>PAYLOAD</td>\n",
       "      <td>COSMOS 2568</td>\n",
       "      <td>CIS</td>\n",
       "      <td>2023-03-29</td>\n",
       "      <td>PKMTR</td>\n",
       "      <td>2025-01-03</td>\n",
       "      <td>87.19</td>\n",
       "      <td>96.33</td>\n",
       "      <td>141.0</td>\n",
       "      <td>130.0</td>\n",
       "      <td>NaN</td>\n",
       "      <td>NaN</td>\n",
       "      <td>0</td>\n",
       "      <td>LARGE</td>\n",
       "      <td>9000</td>\n",
       "      <td>2023</td>\n",
       "      <td>45</td>\n",
       "      <td>A</td>\n",
       "      <td>Y</td>\n",
       "      <td>COSMOS 2568</td>\n",
       "      <td>2023-045A</td>\n",
       "      <td>56091</td>\n",
       "    </tr>\n",
       "    <tr>\n",
       "      <th>11943</th>\n",
       "      <td>SGP4</td>\n",
       "      <td>6689.589</td>\n",
       "      <td>333.9987</td>\n",
       "      <td>0.015160</td>\n",
       "      <td>U</td>\n",
       "      <td>2025-01-01 15:05:11.434000+00:00</td>\n",
       "      <td>system.ob-ingest</td>\n",
       "      <td>0.002177</td>\n",
       "      <td>18th SPCS</td>\n",
       "      <td>6675.056</td>\n",
       "      <td>33989</td>\n",
       "      <td>84795</td>\n",
       "      <td>57.0027</td>\n",
       "      <td>90.457</td>\n",
       "      <td>6660.522</td>\n",
       "      <td>OPS1</td>\n",
       "      <td>0.041511</td>\n",
       "      <td>0.022317</td>\n",
       "      <td>15.919171</td>\n",
       "      <td>26.0151</td>\n",
       "      <td>73.9751</td>\n",
       "      <td>33989</td>\n",
       "      <td>&lt;NA&gt;</td>\n",
       "      <td>2025-01-01 09:48:54.658944+00:00</td>\n",
       "      <td>2025-01-01</td>\n",
       "      <td>1993-036FY</td>\n",
       "      <td>33989</td>\n",
       "      <td>DEBRIS</td>\n",
       "      <td>COSMOS 2251 DEB</td>\n",
       "      <td>CIS</td>\n",
       "      <td>1993-06-16</td>\n",
       "      <td>PKMTR</td>\n",
       "      <td>2025-01-06</td>\n",
       "      <td>90.46</td>\n",
       "      <td>73.98</td>\n",
       "      <td>311.0</td>\n",
       "      <td>282.0</td>\n",
       "      <td>NaN</td>\n",
       "      <td>NaN</td>\n",
       "      <td>0</td>\n",
       "      <td>SMALL</td>\n",
       "      <td>9003</td>\n",
       "      <td>1993</td>\n",
       "      <td>36</td>\n",
       "      <td>FY</td>\n",
       "      <td>Y</td>\n",
       "      <td>COSMOS 2251 DEB</td>\n",
       "      <td>1993-036FY</td>\n",
       "      <td>33989</td>\n",
       "    </tr>\n",
       "    <tr>\n",
       "      <th>22797</th>\n",
       "      <td>SGP4</td>\n",
       "      <td>6525.653</td>\n",
       "      <td>212.6438</td>\n",
       "      <td>0.000296</td>\n",
       "      <td>U</td>\n",
       "      <td>2025-01-01 12:05:11.766000+00:00</td>\n",
       "      <td>system.ob-ingest</td>\n",
       "      <td>0.000228</td>\n",
       "      <td>18th SPCS</td>\n",
       "      <td>6524.163</td>\n",
       "      <td>53714</td>\n",
       "      <td>12937</td>\n",
       "      <td>346.7018</td>\n",
       "      <td>87.407</td>\n",
       "      <td>6522.674</td>\n",
       "      <td>OPS1</td>\n",
       "      <td>0.158177</td>\n",
       "      <td>0.000013</td>\n",
       "      <td>16.474625</td>\n",
       "      <td>285.8411</td>\n",
       "      <td>53.2010</td>\n",
       "      <td>53714</td>\n",
       "      <td>&lt;NA&gt;</td>\n",
       "      <td>2025-01-01 10:32:12.338880+00:00</td>\n",
       "      <td>2025-01-01</td>\n",
       "      <td>2022-107Q</td>\n",
       "      <td>53714</td>\n",
       "      <td>PAYLOAD</td>\n",
       "      <td>STARLINK-4688</td>\n",
       "      <td>US</td>\n",
       "      <td>2022-09-05</td>\n",
       "      <td>AFETR</td>\n",
       "      <td>2025-01-01</td>\n",
       "      <td>87.41</td>\n",
       "      <td>53.20</td>\n",
       "      <td>148.0</td>\n",
       "      <td>145.0</td>\n",
       "      <td>NaN</td>\n",
       "      <td>NaN</td>\n",
       "      <td>0</td>\n",
       "      <td>LARGE</td>\n",
       "      <td>9000</td>\n",
       "      <td>2022</td>\n",
       "      <td>107</td>\n",
       "      <td>Q</td>\n",
       "      <td>Y</td>\n",
       "      <td>STARLINK-4688</td>\n",
       "      <td>2022-107Q</td>\n",
       "      <td>53714</td>\n",
       "    </tr>\n",
       "    <tr>\n",
       "      <th>13338</th>\n",
       "      <td>SGP4</td>\n",
       "      <td>7100.459</td>\n",
       "      <td>59.2819</td>\n",
       "      <td>0.018898</td>\n",
       "      <td>U</td>\n",
       "      <td>2025-01-01 23:05:11.521000+00:00</td>\n",
       "      <td>system.ob-ingest</td>\n",
       "      <td>0.001498</td>\n",
       "      <td>18th SPCS</td>\n",
       "      <td>7089.840</td>\n",
       "      <td>38275</td>\n",
       "      <td>74271</td>\n",
       "      <td>262.7376</td>\n",
       "      <td>99.018</td>\n",
       "      <td>7079.222</td>\n",
       "      <td>OPS1</td>\n",
       "      <td>0.000812</td>\n",
       "      <td>0.000000</td>\n",
       "      <td>14.542801</td>\n",
       "      <td>300.9849</td>\n",
       "      <td>81.1576</td>\n",
       "      <td>38275</td>\n",
       "      <td>&lt;NA&gt;</td>\n",
       "      <td>2025-01-01 10:44:23.122176+00:00</td>\n",
       "      <td>2025-01-01</td>\n",
       "      <td>1979-095BV</td>\n",
       "      <td>38275</td>\n",
       "      <td>DEBRIS</td>\n",
       "      <td>METEOR 2-5 DEB</td>\n",
       "      <td>CIS</td>\n",
       "      <td>1979-10-31</td>\n",
       "      <td>PKMTR</td>\n",
       "      <td>NaN</td>\n",
       "      <td>99.02</td>\n",
       "      <td>81.16</td>\n",
       "      <td>722.0</td>\n",
       "      <td>701.0</td>\n",
       "      <td>NaN</td>\n",
       "      <td>1.0</td>\n",
       "      <td>0</td>\n",
       "      <td>SMALL</td>\n",
       "      <td>9029</td>\n",
       "      <td>1979</td>\n",
       "      <td>95</td>\n",
       "      <td>BV</td>\n",
       "      <td>Y</td>\n",
       "      <td>METEOR 2-5 DEB</td>\n",
       "      <td>1979-095BV</td>\n",
       "      <td>38275</td>\n",
       "    </tr>\n",
       "  </tbody>\n",
       "</table>\n",
       "</div>"
      ],
      "text/plain": [
       "      algorithm  apogee_x  argOfPerigee     bStar classificationMarking  \\\n",
       "31636      SGP4  6713.220      158.0519  0.071972                     U   \n",
       "25359      SGP4  6572.676      274.5234  0.000266                     U   \n",
       "11943      SGP4  6689.589      333.9987  0.015160                     U   \n",
       "22797      SGP4  6525.653      212.6438  0.000296                     U   \n",
       "13338      SGP4  7100.459       59.2819  0.018898                     U   \n",
       "\n",
       "                             createdAt         createdBy  eccentricity  \\\n",
       "31636 2025-01-01 16:05:13.461000+00:00  system.ob-ingest      0.002807   \n",
       "25359 2025-01-02 00:05:13.604000+00:00  system.ob-ingest      0.000283   \n",
       "11943 2025-01-01 15:05:11.434000+00:00  system.ob-ingest      0.002177   \n",
       "22797 2025-01-01 12:05:11.766000+00:00  system.ob-ingest      0.000228   \n",
       "13338 2025-01-01 23:05:11.521000+00:00  system.ob-ingest      0.001498   \n",
       "\n",
       "          source  semiMajorAxis  satNo  revNo      raan  period_x  perigee_x  \\\n",
       "31636  18th SPCS       6694.428  60773   2104  332.9594    90.851   6675.636   \n",
       "25359  18th SPCS       6570.814  56091  10246   70.4408    88.346   6568.951   \n",
       "11943  18th SPCS       6675.056  33989  84795   57.0027    90.457   6660.522   \n",
       "22797  18th SPCS       6524.163  53714  12937  346.7018    87.407   6522.674   \n",
       "13338  18th SPCS       7089.840  38275  74271  262.7376    99.018   7079.222   \n",
       "\n",
       "      origNetwork  meanMotionDot  meanMotionDDot  meanMotion  meanAnomaly  \\\n",
       "31636        OPS1       0.123356        0.274000   15.850119     202.1971   \n",
       "25359        OPS1       0.011464        0.000002   16.299491     131.9252   \n",
       "11943        OPS1       0.041511        0.022317   15.919171      26.0151   \n",
       "22797        OPS1       0.158177        0.000013   16.474625     285.8411   \n",
       "13338        OPS1       0.000812        0.000000   14.542801     300.9849   \n",
       "\n",
       "       inclination_x  idOnOrbit  idElset                            epoch  \\\n",
       "31636        88.9702      60773     <NA> 2025-01-01 05:40:21.204192+00:00   \n",
       "25359        96.3242      56091     <NA> 2025-01-01 06:26:51.037728+00:00   \n",
       "11943        73.9751      33989     <NA> 2025-01-01 09:48:54.658944+00:00   \n",
       "22797        53.2010      53714     <NA> 2025-01-01 10:32:12.338880+00:00   \n",
       "13338        81.1576      38275     <NA> 2025-01-01 10:44:23.122176+00:00   \n",
       "\n",
       "       epoch_date     intldes  norad_cat_id object_type          satname  \\\n",
       "31636  2025-01-01  2024-140EY         60773      DEBRIS        CZ-6A DEB   \n",
       "25359  2025-01-01   2023-045A         56091     PAYLOAD      COSMOS 2568   \n",
       "11943  2025-01-01  1993-036FY         33989      DEBRIS  COSMOS 2251 DEB   \n",
       "22797  2025-01-01   2022-107Q         53714     PAYLOAD    STARLINK-4688   \n",
       "13338  2025-01-01  1979-095BV         38275      DEBRIS   METEOR 2-5 DEB   \n",
       "\n",
       "      country      launch   site       decay  period_y  inclination_y  \\\n",
       "31636     PRC  2024-08-06    TSC  2025-01-06     90.85          88.97   \n",
       "25359     CIS  2023-03-29  PKMTR  2025-01-03     87.19          96.33   \n",
       "11943     CIS  1993-06-16  PKMTR  2025-01-06     90.46          73.98   \n",
       "22797      US  2022-09-05  AFETR  2025-01-01     87.41          53.20   \n",
       "13338     CIS  1979-10-31  PKMTR         NaN     99.02          81.16   \n",
       "\n",
       "       apogee_y  perigee_y comment  commentcode  rcsvalue rcs_size  file  \\\n",
       "31636     335.0      298.0     NaN          NaN         0    SMALL  9003   \n",
       "25359     141.0      130.0     NaN          NaN         0    LARGE  9000   \n",
       "11943     311.0      282.0     NaN          NaN         0    SMALL  9003   \n",
       "22797     148.0      145.0     NaN          NaN         0    LARGE  9000   \n",
       "13338     722.0      701.0     NaN          1.0         0    SMALL  9029   \n",
       "\n",
       "       launch_year  launch_num launch_piece current      object_name  \\\n",
       "31636         2024         140           EY       Y        CZ-6A DEB   \n",
       "25359         2023          45            A       Y      COSMOS 2568   \n",
       "11943         1993          36           FY       Y  COSMOS 2251 DEB   \n",
       "22797         2022         107            Q       Y    STARLINK-4688   \n",
       "13338         1979          95           BV       Y   METEOR 2-5 DEB   \n",
       "\n",
       "        object_id  object_number  \n",
       "31636  2024-140EY          60773  \n",
       "25359   2023-045A          56091  \n",
       "11943  1993-036FY          33989  \n",
       "22797   2022-107Q          53714  \n",
       "13338  1979-095BV          38275  "
      ]
     },
     "execution_count": 89,
     "metadata": {},
     "output_type": "execute_result"
    }
   ],
   "source": [
    "df_latest.head()"
   ]
  },
  {
   "cell_type": "code",
   "execution_count": 91,
   "id": "2f98b7c0",
   "metadata": {},
   "outputs": [],
   "source": [
    "EARTH_RADIUS = 6378.137  # km (WGS84 equatorial radius)\n",
    "df_latest[\"perigee_alt_km\"] = df_latest[\"perigee_x\"] - EARTH_RADIUS\n",
    "df_latest[\"apogee_alt_km\"]  = df_latest[\"apogee_x\"]  - EARTH_RADIUS\n"
   ]
  },
  {
   "cell_type": "code",
   "execution_count": 101,
   "id": "a7b82925",
   "metadata": {},
   "outputs": [
    {
     "data": {
      "application/vnd.microsoft.datawrangler.viewer.v0+json": {
       "columns": [
        {
         "name": "index",
         "rawType": "object",
         "type": "string"
        },
        {
         "name": "apogee_diff",
         "rawType": "float64",
         "type": "float"
        },
        {
         "name": "perigee_diff",
         "rawType": "float64",
         "type": "float"
        }
       ],
       "ref": "cb6541ae-9b5f-46e6-9b67-572498416e4e",
       "rows": [
        [
         "count",
         "29103.0",
         "29103.0"
        ],
        [
         "mean",
         "-1.505659519637618",
         "3.5019919595913303"
        ],
        [
         "std",
         "248.86771332499873",
         "623.3505497867496"
        ],
        [
         "min",
         "-13836.053000000004",
         "-18832.941999999995"
        ],
        [
         "25%",
         "-1.0510000000003856",
         "-0.9610000000002401"
        ],
        [
         "50%",
         "-0.11300000000028376",
         "-0.1720000000004802"
        ],
        [
         "75%",
         "0.40499999999974534",
         "0.4569999999994252"
        ],
        [
         "max",
         "31497.94099999999",
         "102451.75600000001"
        ]
       ],
       "shape": {
        "columns": 2,
        "rows": 8
       }
      },
      "text/html": [
       "<div>\n",
       "<style scoped>\n",
       "    .dataframe tbody tr th:only-of-type {\n",
       "        vertical-align: middle;\n",
       "    }\n",
       "\n",
       "    .dataframe tbody tr th {\n",
       "        vertical-align: top;\n",
       "    }\n",
       "\n",
       "    .dataframe thead th {\n",
       "        text-align: right;\n",
       "    }\n",
       "</style>\n",
       "<table border=\"1\" class=\"dataframe\">\n",
       "  <thead>\n",
       "    <tr style=\"text-align: right;\">\n",
       "      <th></th>\n",
       "      <th>apogee_diff</th>\n",
       "      <th>perigee_diff</th>\n",
       "    </tr>\n",
       "  </thead>\n",
       "  <tbody>\n",
       "    <tr>\n",
       "      <th>count</th>\n",
       "      <td>29103.000000</td>\n",
       "      <td>29103.000000</td>\n",
       "    </tr>\n",
       "    <tr>\n",
       "      <th>mean</th>\n",
       "      <td>-1.505660</td>\n",
       "      <td>3.501992</td>\n",
       "    </tr>\n",
       "    <tr>\n",
       "      <th>std</th>\n",
       "      <td>248.867713</td>\n",
       "      <td>623.350550</td>\n",
       "    </tr>\n",
       "    <tr>\n",
       "      <th>min</th>\n",
       "      <td>-13836.053000</td>\n",
       "      <td>-18832.942000</td>\n",
       "    </tr>\n",
       "    <tr>\n",
       "      <th>25%</th>\n",
       "      <td>-1.051000</td>\n",
       "      <td>-0.961000</td>\n",
       "    </tr>\n",
       "    <tr>\n",
       "      <th>50%</th>\n",
       "      <td>-0.113000</td>\n",
       "      <td>-0.172000</td>\n",
       "    </tr>\n",
       "    <tr>\n",
       "      <th>75%</th>\n",
       "      <td>0.405000</td>\n",
       "      <td>0.457000</td>\n",
       "    </tr>\n",
       "    <tr>\n",
       "      <th>max</th>\n",
       "      <td>31497.941000</td>\n",
       "      <td>102451.756000</td>\n",
       "    </tr>\n",
       "  </tbody>\n",
       "</table>\n",
       "</div>"
      ],
      "text/plain": [
       "        apogee_diff   perigee_diff\n",
       "count  29103.000000   29103.000000\n",
       "mean      -1.505660       3.501992\n",
       "std      248.867713     623.350550\n",
       "min   -13836.053000  -18832.942000\n",
       "25%       -1.051000      -0.961000\n",
       "50%       -0.113000      -0.172000\n",
       "75%        0.405000       0.457000\n",
       "max    31497.941000  102451.756000"
      ]
     },
     "execution_count": 101,
     "metadata": {},
     "output_type": "execute_result"
    }
   ],
   "source": [
    "df_check = df_latest[['satNo', 'perigee_y', 'apogee_y', 'perigee_alt_km', 'apogee_alt_km']].copy()\n",
    "df_check['apogee_diff'] = df_check['apogee_y'] - df_check['apogee_alt_km']\n",
    "df_check['perigee_diff'] = df_check['perigee_y'] - df_check['perigee_alt_km']\n",
    "df_check[['apogee_diff', 'perigee_diff']].describe()"
   ]
  },
  {
   "cell_type": "code",
   "execution_count": 103,
   "id": "ffd8f21e",
   "metadata": {},
   "outputs": [
    {
     "data": {
      "application/vnd.microsoft.datawrangler.viewer.v0+json": {
       "columns": [
        {
         "name": "index",
         "rawType": "int64",
         "type": "integer"
        },
        {
         "name": "satNo",
         "rawType": "Int64",
         "type": "integer"
        },
        {
         "name": "perigee_y",
         "rawType": "float64",
         "type": "float"
        },
        {
         "name": "apogee_y",
         "rawType": "float64",
         "type": "float"
        },
        {
         "name": "perigee_alt_km",
         "rawType": "float64",
         "type": "float"
        },
        {
         "name": "apogee_alt_km",
         "rawType": "float64",
         "type": "float"
        },
        {
         "name": "apogee_diff",
         "rawType": "float64",
         "type": "float"
        },
        {
         "name": "perigee_diff",
         "rawType": "float64",
         "type": "float"
        }
       ],
       "ref": "a0ab380f-c336-4ff8-8d34-2634cdf3733d",
       "rows": [
        [
         "8791844",
         "59228",
         "314973.0",
         "638523.0",
         "300864.064",
         "607025.059",
         "31497.94099999999",
         "14108.935999999987"
        ],
        [
         "9424361",
         "39459",
         "78179.0",
         "460746.0",
         "87904.85599999999",
         "443233.50700000004",
         "17512.49299999996",
         "-9725.855999999985"
        ],
        [
         "9119261",
         "43435",
         "123504.0",
         "335955.0",
         "117918.953",
         "333626.19700000004",
         "2328.8029999999562",
         "5585.047000000006"
        ],
        [
         "9361498",
         "837",
         "49238.0",
         "156751.0",
         "50454.034",
         "155541.132",
         "1209.8679999999877",
         "-1216.0339999999997"
        ],
        [
         "9311024",
         "674",
         "50536.0",
         "167187.0",
         "51631.031",
         "166116.28600000002",
         "1070.7139999999781",
         "-1095.0310000000027"
        ],
        [
         "9451957",
         "13901",
         "38704.0",
         "165584.0",
         "39653.898",
         "164634.22900000002",
         "949.7709999999788",
         "-949.898000000001"
        ],
        [
         "9416907",
         "20413",
         "36199.0",
         "165540.0",
         "37057.399",
         "164652.61700000003",
         "887.3829999999725",
         "-858.3989999999976"
        ],
        [
         "9470234",
         "61989",
         "33063.0",
         "39793.0",
         "33686.475",
         "39170.070999999996",
         "622.9290000000037",
         "-623.4749999999985"
        ],
        [
         "9425745",
         "41929",
         "27840.0",
         "157178.0",
         "28415.930000000004",
         "156605.583",
         "572.4169999999867",
         "-575.9300000000039"
        ],
        [
         "9419484",
         "26464",
         "4139.0",
         "128220.0",
         "4608.97",
         "127752.931",
         "467.06900000000314",
         "-469.97000000000025"
        ],
        [
         "9419464",
         "26410",
         "4127.0",
         "127386.0",
         "4591.893999999999",
         "126932.84199999999",
         "453.15800000001036",
         "-464.8939999999993"
        ],
        [
         "9216097",
         "43452",
         "32277.0",
         "37718.0",
         "32656.761000000002",
         "37335.214",
         "382.78600000000006",
         "-379.76100000000224"
        ],
        [
         "9491020",
         "28542",
         "36132.0",
         "36161.0",
         "35767.415",
         "35805.405",
         "355.59500000000116",
         "364.5849999999991"
        ],
        [
         "9477890",
         "43381",
         "21882.0",
         "25186.0",
         "22173.089000000004",
         "24893.328000000005",
         "292.671999999995",
         "-291.0890000000036"
        ],
        [
         "9461276",
         "48618",
         "35760.0",
         "35811.0",
         "35526.307",
         "35549.746",
         "261.2540000000008",
         "233.6929999999993"
        ],
        [
         "9261837",
         "836",
         "51985.0",
         "154505.0",
         "52241.04",
         "154247.49200000003",
         "257.5079999999725",
         "-256.0400000000009"
        ],
        [
         "2804918",
         "18103",
         "8266.0",
         "32116.0",
         "8488.386999999999",
         "31865.829999999998",
         "250.1700000000019",
         "-222.3869999999988"
        ],
        [
         "3255575",
         "16527",
         "8556.0",
         "31822.0",
         "8762.949",
         "31590.111",
         "231.8889999999992",
         "-206.94900000000052"
        ],
        [
         "8594138",
         "60423",
         "8191.0",
         "43403.0",
         "8409.975000000002",
         "43190.159999999996",
         "212.84000000000378",
         "-218.97500000000218"
        ],
        [
         "9492255",
         "32252",
         "36037.0",
         "36062.0",
         "35849.292",
         "35856.826",
         "205.17399999999907",
         "187.70799999999872"
        ],
        [
         "9509944",
         "64930",
         "447.0",
         "448.0",
         "291.1170000000002",
         "291.9320000000007",
         "156.0679999999993",
         "155.8829999999998"
        ],
        [
         "9509923",
         "64919",
         "447.0",
         "448.0",
         "291.5060000000003",
         "292.1810000000005",
         "155.8189999999995",
         "155.4939999999997"
        ],
        [
         "9509938",
         "64927",
         "447.0",
         "448.0",
         "291.2000000000007",
         "292.20600000000013",
         "155.79399999999987",
         "155.79999999999927"
        ],
        [
         "9509936",
         "64926",
         "446.0",
         "449.0",
         "302.5020000000004",
         "303.3180000000002",
         "145.6819999999998",
         "143.4979999999996"
        ],
        [
         "9509927",
         "64921",
         "446.0",
         "449.0",
         "303.5650000000005",
         "304.35400000000027",
         "144.64599999999973",
         "142.4349999999995"
        ],
        [
         "9509946",
         "64931",
         "447.0",
         "448.0",
         "302.6810000000005",
         "303.38800000000083",
         "144.61199999999917",
         "144.3189999999995"
        ],
        [
         "9509942",
         "64929",
         "447.0",
         "448.0",
         "302.7990000000009",
         "303.51900000000023",
         "144.48099999999977",
         "144.2009999999991"
        ],
        [
         "9509940",
         "64928",
         "447.0",
         "448.0",
         "302.89800000000014",
         "303.6850000000004",
         "144.3149999999996",
         "144.10199999999986"
        ],
        [
         "9509934",
         "64925",
         "447.0",
         "448.0",
         "302.9970000000003",
         "303.83100000000013",
         "144.16899999999987",
         "144.0029999999997"
        ],
        [
         "9509930",
         "64923",
         "446.0",
         "448.0",
         "303.2500000000009",
         "303.8590000000004",
         "144.14099999999962",
         "142.7499999999991"
        ],
        [
         "9509932",
         "64924",
         "447.0",
         "448.0",
         "303.33700000000044",
         "304.08500000000004",
         "143.91499999999996",
         "143.66299999999956"
        ],
        [
         "9509912",
         "64913",
         "446.0",
         "449.0",
         "304.5700000000006",
         "305.22600000000057",
         "143.77399999999943",
         "141.42999999999938"
        ],
        [
         "9509928",
         "64922",
         "447.0",
         "448.0",
         "303.3760000000002",
         "304.28700000000026",
         "143.71299999999974",
         "143.6239999999998"
        ],
        [
         "9509925",
         "64920",
         "446.0",
         "448.0",
         "303.65600000000086",
         "304.5150000000003",
         "143.48499999999967",
         "142.34399999999914"
        ],
        [
         "9509921",
         "64918",
         "447.0",
         "448.0",
         "303.7580000000007",
         "304.6740000000009",
         "143.3259999999991",
         "143.24199999999928"
        ],
        [
         "9509918",
         "64916",
         "446.0",
         "448.0",
         "304.1120000000001",
         "304.8840000000009",
         "143.11599999999908",
         "141.88799999999992"
        ],
        [
         "9509916",
         "64915",
         "447.0",
         "448.0",
         "304.2420000000002",
         "305.0150000000003",
         "142.98499999999967",
         "142.7579999999998"
        ],
        [
         "9509914",
         "64914",
         "447.0",
         "448.0",
         "304.3760000000002",
         "305.1300000000001",
         "142.8699999999999",
         "142.6239999999998"
        ],
        [
         "9509910",
         "64912",
         "446.0",
         "448.0",
         "304.5460000000003",
         "305.52700000000095",
         "142.47299999999905",
         "141.45399999999972"
        ],
        [
         "9509908",
         "64911",
         "446.0",
         "448.0",
         "304.71200000000044",
         "305.6070000000009",
         "142.39299999999912",
         "141.28799999999956"
        ],
        [
         "9509906",
         "64910",
         "447.0",
         "448.0",
         "304.85200000000077",
         "305.7570000000005",
         "142.24299999999948",
         "142.14799999999923"
        ],
        [
         "9509902",
         "64908",
         "447.0",
         "448.0",
         "305.22500000000036",
         "305.9270000000006",
         "142.0729999999994",
         "141.77499999999964"
        ],
        [
         "9509900",
         "64907",
         "447.0",
         "448.0",
         "305.295000000001",
         "306.1330000000007",
         "141.86699999999928",
         "141.70499999999902"
        ],
        [
         "9509898",
         "64906",
         "447.0",
         "448.0",
         "305.3700000000008",
         "306.3160000000007",
         "141.6839999999993",
         "141.6299999999992"
        ],
        [
         "9509897",
         "64905",
         "447.0",
         "448.0",
         "305.6130000000003",
         "306.34700000000066",
         "141.65299999999934",
         "141.38699999999972"
        ],
        [
         "9509896",
         "64904",
         "446.0",
         "448.0",
         "305.58500000000004",
         "306.6340000000009",
         "141.36599999999908",
         "140.41499999999996"
        ],
        [
         "9509920",
         "64917",
         "437.0",
         "442.0",
         "303.9970000000003",
         "304.71400000000085",
         "137.28599999999915",
         "133.0029999999997"
        ],
        [
         "9473532",
         "64949",
         "447.0",
         "449.0",
         "313.53800000000047",
         "315.8870000000006",
         "133.11299999999937",
         "133.46199999999953"
        ],
        [
         "9509957",
         "64942",
         "445.0",
         "451.0",
         "321.16700000000037",
         "323.40900000000056",
         "127.59099999999944",
         "123.83299999999963"
        ],
        [
         "9509962",
         "64947",
         "446.0",
         "450.0",
         "320.95400000000063",
         "323.1180000000004",
         "126.8819999999996",
         "125.04599999999937"
        ]
       ],
       "shape": {
        "columns": 7,
        "rows": 250
       }
      },
      "text/html": [
       "<div>\n",
       "<style scoped>\n",
       "    .dataframe tbody tr th:only-of-type {\n",
       "        vertical-align: middle;\n",
       "    }\n",
       "\n",
       "    .dataframe tbody tr th {\n",
       "        vertical-align: top;\n",
       "    }\n",
       "\n",
       "    .dataframe thead th {\n",
       "        text-align: right;\n",
       "    }\n",
       "</style>\n",
       "<table border=\"1\" class=\"dataframe\">\n",
       "  <thead>\n",
       "    <tr style=\"text-align: right;\">\n",
       "      <th></th>\n",
       "      <th>satNo</th>\n",
       "      <th>perigee_y</th>\n",
       "      <th>apogee_y</th>\n",
       "      <th>perigee_alt_km</th>\n",
       "      <th>apogee_alt_km</th>\n",
       "      <th>apogee_diff</th>\n",
       "      <th>perigee_diff</th>\n",
       "    </tr>\n",
       "  </thead>\n",
       "  <tbody>\n",
       "    <tr>\n",
       "      <th>8791844</th>\n",
       "      <td>59228</td>\n",
       "      <td>314973.0</td>\n",
       "      <td>638523.0</td>\n",
       "      <td>300864.064</td>\n",
       "      <td>607025.059</td>\n",
       "      <td>31497.941</td>\n",
       "      <td>14108.936</td>\n",
       "    </tr>\n",
       "    <tr>\n",
       "      <th>9424361</th>\n",
       "      <td>39459</td>\n",
       "      <td>78179.0</td>\n",
       "      <td>460746.0</td>\n",
       "      <td>87904.856</td>\n",
       "      <td>443233.507</td>\n",
       "      <td>17512.493</td>\n",
       "      <td>-9725.856</td>\n",
       "    </tr>\n",
       "    <tr>\n",
       "      <th>9119261</th>\n",
       "      <td>43435</td>\n",
       "      <td>123504.0</td>\n",
       "      <td>335955.0</td>\n",
       "      <td>117918.953</td>\n",
       "      <td>333626.197</td>\n",
       "      <td>2328.803</td>\n",
       "      <td>5585.047</td>\n",
       "    </tr>\n",
       "    <tr>\n",
       "      <th>9361498</th>\n",
       "      <td>837</td>\n",
       "      <td>49238.0</td>\n",
       "      <td>156751.0</td>\n",
       "      <td>50454.034</td>\n",
       "      <td>155541.132</td>\n",
       "      <td>1209.868</td>\n",
       "      <td>-1216.034</td>\n",
       "    </tr>\n",
       "    <tr>\n",
       "      <th>9311024</th>\n",
       "      <td>674</td>\n",
       "      <td>50536.0</td>\n",
       "      <td>167187.0</td>\n",
       "      <td>51631.031</td>\n",
       "      <td>166116.286</td>\n",
       "      <td>1070.714</td>\n",
       "      <td>-1095.031</td>\n",
       "    </tr>\n",
       "    <tr>\n",
       "      <th>...</th>\n",
       "      <td>...</td>\n",
       "      <td>...</td>\n",
       "      <td>...</td>\n",
       "      <td>...</td>\n",
       "      <td>...</td>\n",
       "      <td>...</td>\n",
       "      <td>...</td>\n",
       "    </tr>\n",
       "    <tr>\n",
       "      <th>9406687</th>\n",
       "      <td>63158</td>\n",
       "      <td>118.0</td>\n",
       "      <td>2485.0</td>\n",
       "      <td>108.588</td>\n",
       "      <td>8626.123</td>\n",
       "      <td>-6141.123</td>\n",
       "      <td>9.412</td>\n",
       "    </tr>\n",
       "    <tr>\n",
       "      <th>8755973</th>\n",
       "      <td>37755</td>\n",
       "      <td>58963.0</td>\n",
       "      <td>296547.0</td>\n",
       "      <td>77795.942</td>\n",
       "      <td>303550.707</td>\n",
       "      <td>-7003.707</td>\n",
       "      <td>-18832.942</td>\n",
       "    </tr>\n",
       "    <tr>\n",
       "      <th>8760921</th>\n",
       "      <td>60058</td>\n",
       "      <td>148603.0</td>\n",
       "      <td>437008.0</td>\n",
       "      <td>144033.018</td>\n",
       "      <td>444017.202</td>\n",
       "      <td>-7009.202</td>\n",
       "      <td>4569.982</td>\n",
       "    </tr>\n",
       "    <tr>\n",
       "      <th>7773795</th>\n",
       "      <td>57770</td>\n",
       "      <td>227890.0</td>\n",
       "      <td>298108.0</td>\n",
       "      <td>125438.244</td>\n",
       "      <td>308387.709</td>\n",
       "      <td>-10279.709</td>\n",
       "      <td>102451.756</td>\n",
       "    </tr>\n",
       "    <tr>\n",
       "      <th>9447233</th>\n",
       "      <td>63925</td>\n",
       "      <td>112.0</td>\n",
       "      <td>12511.0</td>\n",
       "      <td>105.173</td>\n",
       "      <td>26347.053</td>\n",
       "      <td>-13836.053</td>\n",
       "      <td>6.827</td>\n",
       "    </tr>\n",
       "  </tbody>\n",
       "</table>\n",
       "<p>250 rows × 7 columns</p>\n",
       "</div>"
      ],
      "text/plain": [
       "         satNo  perigee_y  apogee_y  perigee_alt_km  apogee_alt_km  \\\n",
       "8791844  59228   314973.0  638523.0      300864.064     607025.059   \n",
       "9424361  39459    78179.0  460746.0       87904.856     443233.507   \n",
       "9119261  43435   123504.0  335955.0      117918.953     333626.197   \n",
       "9361498    837    49238.0  156751.0       50454.034     155541.132   \n",
       "9311024    674    50536.0  167187.0       51631.031     166116.286   \n",
       "...        ...        ...       ...             ...            ...   \n",
       "9406687  63158      118.0    2485.0         108.588       8626.123   \n",
       "8755973  37755    58963.0  296547.0       77795.942     303550.707   \n",
       "8760921  60058   148603.0  437008.0      144033.018     444017.202   \n",
       "7773795  57770   227890.0  298108.0      125438.244     308387.709   \n",
       "9447233  63925      112.0   12511.0         105.173      26347.053   \n",
       "\n",
       "         apogee_diff  perigee_diff  \n",
       "8791844    31497.941     14108.936  \n",
       "9424361    17512.493     -9725.856  \n",
       "9119261     2328.803      5585.047  \n",
       "9361498     1209.868     -1216.034  \n",
       "9311024     1070.714     -1095.031  \n",
       "...              ...           ...  \n",
       "9406687    -6141.123         9.412  \n",
       "8755973    -7003.707    -18832.942  \n",
       "8760921    -7009.202      4569.982  \n",
       "7773795   -10279.709    102451.756  \n",
       "9447233   -13836.053         6.827  \n",
       "\n",
       "[250 rows x 7 columns]"
      ]
     },
     "execution_count": 103,
     "metadata": {},
     "output_type": "execute_result"
    }
   ],
   "source": [
    "df_check[df_check['apogee_diff'].abs() > 100].sort_values(by='apogee_diff', ascending=False)"
   ]
  },
  {
   "cell_type": "code",
   "execution_count": 92,
   "id": "41af0a4f",
   "metadata": {},
   "outputs": [
    {
     "data": {
      "application/vnd.microsoft.datawrangler.viewer.v0+json": {
       "columns": [
        {
         "name": "orbit_class",
         "rawType": "object",
         "type": "string"
        },
        {
         "name": "count",
         "rawType": "int64",
         "type": "integer"
        }
       ],
       "ref": "fcf6462e-b605-4e5e-9713-9a6c05f479c5",
       "rows": [
        [
         "LEO",
         "26212"
        ],
        [
         "GEO",
         "1544"
        ],
        [
         "MEO",
         "1353"
        ],
        [
         "Unknown",
         "31"
        ]
       ],
       "shape": {
        "columns": 1,
        "rows": 4
       }
      },
      "text/plain": [
       "orbit_class\n",
       "LEO        26212\n",
       "GEO         1544\n",
       "MEO         1353\n",
       "Unknown       31\n",
       "Name: count, dtype: int64"
      ]
     },
     "execution_count": 92,
     "metadata": {},
     "output_type": "execute_result"
    }
   ],
   "source": [
    "def classify_orbit(perigee, apogee):\n",
    "    if pd.isna(perigee): return \"Unknown\"\n",
    "    if apogee > 35686-200 and perigee > 35686-200: return \"GEO\"\n",
    "    elif perigee < 2000: return \"LEO\"\n",
    "    elif perigee < 35586: return \"MEO\"\n",
    "    else: return \"HEO\"\n",
    "df_latest['orbit_class'] = df_latest.apply(lambda row: classify_orbit(row['perigee_alt_km'], row['apogee_alt_km']), axis=1)\n",
    "df_latest['orbit_class'].value_counts()"
   ]
  },
  {
   "cell_type": "code",
   "execution_count": 95,
   "id": "400c09c1",
   "metadata": {},
   "outputs": [
    {
     "data": {
      "application/vnd.microsoft.datawrangler.viewer.v0+json": {
       "columns": [
        {
         "name": "index",
         "rawType": "object",
         "type": "string"
        },
        {
         "name": "0",
         "rawType": "int64",
         "type": "integer"
        }
       ],
       "ref": "5002e0b6-c8d3-4d96-8f00-881c179a05b4",
       "rows": [
        [
         "algorithm",
         "31"
        ],
        [
         "apogee_x",
         "31"
        ],
        [
         "argOfPerigee",
         "0"
        ],
        [
         "bStar",
         "8"
        ],
        [
         "classificationMarking",
         "0"
        ],
        [
         "createdAt",
         "0"
        ],
        [
         "createdBy",
         "0"
        ],
        [
         "eccentricity",
         "0"
        ],
        [
         "source",
         "0"
        ],
        [
         "semiMajorAxis",
         "31"
        ],
        [
         "satNo",
         "0"
        ],
        [
         "revNo",
         "31"
        ],
        [
         "raan",
         "0"
        ],
        [
         "period_x",
         "31"
        ],
        [
         "perigee_x",
         "31"
        ],
        [
         "origNetwork",
         "0"
        ],
        [
         "meanMotionDot",
         "22"
        ],
        [
         "meanMotionDDot",
         "22"
        ],
        [
         "meanMotion",
         "0"
        ],
        [
         "meanAnomaly",
         "0"
        ],
        [
         "inclination_x",
         "0"
        ],
        [
         "idOnOrbit",
         "0"
        ],
        [
         "idElset",
         "29140"
        ],
        [
         "epoch",
         "0"
        ],
        [
         "epoch_date",
         "0"
        ],
        [
         "intldes",
         "0"
        ],
        [
         "norad_cat_id",
         "0"
        ],
        [
         "object_type",
         "0"
        ],
        [
         "satname",
         "0"
        ],
        [
         "country",
         "0"
        ],
        [
         "launch",
         "0"
        ],
        [
         "site",
         "0"
        ],
        [
         "decay",
         "27942"
        ],
        [
         "period_y",
         "6"
        ],
        [
         "inclination_y",
         "6"
        ],
        [
         "apogee_y",
         "6"
        ],
        [
         "perigee_y",
         "6"
        ],
        [
         "comment",
         "29134"
        ],
        [
         "commentcode",
         "28865"
        ],
        [
         "rcsvalue",
         "0"
        ],
        [
         "rcs_size",
         "412"
        ],
        [
         "file",
         "0"
        ],
        [
         "launch_year",
         "0"
        ],
        [
         "launch_num",
         "0"
        ],
        [
         "launch_piece",
         "7"
        ],
        [
         "current",
         "0"
        ],
        [
         "object_name",
         "0"
        ],
        [
         "object_id",
         "0"
        ],
        [
         "object_number",
         "0"
        ],
        [
         "perigee_alt_km",
         "31"
        ]
       ],
       "shape": {
        "columns": 1,
        "rows": 55
       }
      },
      "text/plain": [
       "algorithm                   31\n",
       "apogee_x                    31\n",
       "argOfPerigee                 0\n",
       "bStar                        8\n",
       "classificationMarking        0\n",
       "createdAt                    0\n",
       "createdBy                    0\n",
       "eccentricity                 0\n",
       "source                       0\n",
       "semiMajorAxis               31\n",
       "satNo                        0\n",
       "revNo                       31\n",
       "raan                         0\n",
       "period_x                    31\n",
       "perigee_x                   31\n",
       "origNetwork                  0\n",
       "meanMotionDot               22\n",
       "meanMotionDDot              22\n",
       "meanMotion                   0\n",
       "meanAnomaly                  0\n",
       "inclination_x                0\n",
       "idOnOrbit                    0\n",
       "idElset                  29140\n",
       "epoch                        0\n",
       "epoch_date                   0\n",
       "intldes                      0\n",
       "norad_cat_id                 0\n",
       "object_type                  0\n",
       "satname                      0\n",
       "country                      0\n",
       "launch                       0\n",
       "site                         0\n",
       "decay                    27942\n",
       "period_y                     6\n",
       "inclination_y                6\n",
       "apogee_y                     6\n",
       "perigee_y                    6\n",
       "comment                  29134\n",
       "commentcode              28865\n",
       "rcsvalue                     0\n",
       "rcs_size                   412\n",
       "file                         0\n",
       "launch_year                  0\n",
       "launch_num                   0\n",
       "launch_piece                 7\n",
       "current                      0\n",
       "object_name                  0\n",
       "object_id                    0\n",
       "object_number                0\n",
       "perigee_alt_km              31\n",
       "apogee_alt_km               31\n",
       "orbit_class                  0\n",
       "apogee_alt_filled           31\n",
       "perigee_alt_filled          31\n",
       "orbit_class_filled           0\n",
       "dtype: int64"
      ]
     },
     "execution_count": 95,
     "metadata": {},
     "output_type": "execute_result"
    }
   ],
   "source": [
    "df_latest.isna().sum()"
   ]
  },
  {
   "cell_type": "code",
   "execution_count": 111,
   "id": "1f5514fa",
   "metadata": {},
   "outputs": [
    {
     "data": {
      "text/plain": [
       "Index(['algorithm', 'apogee_x', 'argOfPerigee', 'bStar',\n",
       "       'classificationMarking', 'createdAt', 'createdBy', 'eccentricity',\n",
       "       'source', 'semiMajorAxis', 'satNo', 'revNo', 'raan', 'period_x',\n",
       "       'perigee_x', 'origNetwork', 'meanMotionDot', 'meanMotionDDot',\n",
       "       'meanMotion', 'meanAnomaly', 'inclination_x', 'idOnOrbit', 'idElset',\n",
       "       'epoch', 'epoch_date', 'intldes', 'norad_cat_id', 'object_type',\n",
       "       'satname', 'country', 'launch', 'site', 'decay', 'period_y',\n",
       "       'inclination_y', 'apogee_y', 'perigee_y', 'comment', 'commentcode',\n",
       "       'rcsvalue', 'rcs_size', 'file', 'launch_year', 'launch_num',\n",
       "       'launch_piece', 'current', 'object_name', 'object_id', 'object_number',\n",
       "       'perigee_alt_km', 'apogee_alt_km', 'orbit_class', 'apogee_alt_filled',\n",
       "       'perigee_alt_filled', 'orbit_class_filled'],\n",
       "      dtype='object')"
      ]
     },
     "execution_count": 111,
     "metadata": {},
     "output_type": "execute_result"
    }
   ],
   "source": [
    "df_latest.columns"
   ]
  },
  {
   "cell_type": "code",
   "execution_count": 109,
   "id": "7635b830",
   "metadata": {},
   "outputs": [
    {
     "data": {
      "application/vnd.microsoft.datawrangler.viewer.v0+json": {
       "columns": [
        {
         "name": "object_type",
         "rawType": "object",
         "type": "string"
        },
        {
         "name": "count",
         "rawType": "int64",
         "type": "integer"
        }
       ],
       "ref": "945002d4-cb6a-4acb-b761-3ab8145d7933",
       "rows": [
        [
         "PAYLOAD",
         "15330"
        ],
        [
         "DEBRIS",
         "10938"
        ],
        [
         "ROCKET BODY",
         "2237"
        ],
        [
         "UNKNOWN",
         "635"
        ]
       ],
       "shape": {
        "columns": 1,
        "rows": 4
       }
      },
      "text/plain": [
       "object_type\n",
       "PAYLOAD        15330\n",
       "DEBRIS         10938\n",
       "ROCKET BODY     2237\n",
       "UNKNOWN          635\n",
       "Name: count, dtype: int64"
      ]
     },
     "execution_count": 109,
     "metadata": {},
     "output_type": "execute_result"
    }
   ],
   "source": [
    "df_latest['object_type'].value_counts()"
   ]
  },
  {
   "cell_type": "code",
   "execution_count": 125,
   "id": "00d1906f",
   "metadata": {},
   "outputs": [
    {
     "data": {
      "application/vnd.microsoft.datawrangler.viewer.v0+json": {
       "columns": [
        {
         "name": "object_type",
         "rawType": "object",
         "type": "string"
        },
        {
         "name": "GEO",
         "rawType": "int64",
         "type": "integer"
        },
        {
         "name": "LEO",
         "rawType": "int64",
         "type": "integer"
        },
        {
         "name": "MEO",
         "rawType": "int64",
         "type": "integer"
        },
        {
         "name": "Unknown",
         "rawType": "int64",
         "type": "integer"
        }
       ],
       "ref": "9601f5cc-9ffa-4df4-9793-d64a868eeac8",
       "rows": [
        [
         "DEBRIS",
         "51",
         "10489",
         "380",
         "18"
        ],
        [
         "PAYLOAD",
         "1295",
         "13494",
         "530",
         "11"
        ],
        [
         "ROCKET BODY",
         "198",
         "1597",
         "441",
         "1"
        ],
        [
         "UNKNOWN",
         "0",
         "632",
         "2",
         "1"
        ]
       ],
       "shape": {
        "columns": 4,
        "rows": 4
       }
      },
      "text/html": [
       "<div>\n",
       "<style scoped>\n",
       "    .dataframe tbody tr th:only-of-type {\n",
       "        vertical-align: middle;\n",
       "    }\n",
       "\n",
       "    .dataframe tbody tr th {\n",
       "        vertical-align: top;\n",
       "    }\n",
       "\n",
       "    .dataframe thead th {\n",
       "        text-align: right;\n",
       "    }\n",
       "</style>\n",
       "<table border=\"1\" class=\"dataframe\">\n",
       "  <thead>\n",
       "    <tr style=\"text-align: right;\">\n",
       "      <th>orbit_class</th>\n",
       "      <th>GEO</th>\n",
       "      <th>LEO</th>\n",
       "      <th>MEO</th>\n",
       "      <th>Unknown</th>\n",
       "    </tr>\n",
       "    <tr>\n",
       "      <th>object_type</th>\n",
       "      <th></th>\n",
       "      <th></th>\n",
       "      <th></th>\n",
       "      <th></th>\n",
       "    </tr>\n",
       "  </thead>\n",
       "  <tbody>\n",
       "    <tr>\n",
       "      <th>DEBRIS</th>\n",
       "      <td>51</td>\n",
       "      <td>10489</td>\n",
       "      <td>380</td>\n",
       "      <td>18</td>\n",
       "    </tr>\n",
       "    <tr>\n",
       "      <th>PAYLOAD</th>\n",
       "      <td>1295</td>\n",
       "      <td>13494</td>\n",
       "      <td>530</td>\n",
       "      <td>11</td>\n",
       "    </tr>\n",
       "    <tr>\n",
       "      <th>ROCKET BODY</th>\n",
       "      <td>198</td>\n",
       "      <td>1597</td>\n",
       "      <td>441</td>\n",
       "      <td>1</td>\n",
       "    </tr>\n",
       "    <tr>\n",
       "      <th>UNKNOWN</th>\n",
       "      <td>0</td>\n",
       "      <td>632</td>\n",
       "      <td>2</td>\n",
       "      <td>1</td>\n",
       "    </tr>\n",
       "  </tbody>\n",
       "</table>\n",
       "</div>"
      ],
      "text/plain": [
       "orbit_class   GEO    LEO  MEO  Unknown\n",
       "object_type                           \n",
       "DEBRIS         51  10489  380       18\n",
       "PAYLOAD      1295  13494  530       11\n",
       "ROCKET BODY   198   1597  441        1\n",
       "UNKNOWN         0    632    2        1"
      ]
     },
     "execution_count": 125,
     "metadata": {},
     "output_type": "execute_result"
    }
   ],
   "source": [
    "pivot = df_latest.pivot_table(index='object_type', columns='orbit_class', values='satNo', aggfunc='nunique', fill_value=0)\n",
    "pivot"
   ]
  },
  {
   "cell_type": "code",
   "execution_count": 119,
   "id": "952bf3f0",
   "metadata": {},
   "outputs": [
    {
     "data": {
      "application/vnd.microsoft.datawrangler.viewer.v0+json": {
       "columns": [
        {
         "name": "launch_year",
         "rawType": "int64",
         "type": "integer"
        },
        {
         "name": "count",
         "rawType": "int64",
         "type": "integer"
        }
       ],
       "ref": "5f940c85-0749-4f82-b222-9430091dadd0",
       "rows": [
        [
         "1958",
         "3"
        ],
        [
         "1959",
         "5"
        ],
        [
         "1960",
         "11"
        ],
        [
         "1961",
         "210"
        ],
        [
         "1962",
         "25"
        ],
        [
         "1963",
         "85"
        ],
        [
         "1964",
         "53"
        ],
        [
         "1965",
         "370"
        ],
        [
         "1966",
         "162"
        ],
        [
         "1967",
         "82"
        ],
        [
         "1968",
         "190"
        ],
        [
         "1969",
         "126"
        ],
        [
         "1970",
         "363"
        ],
        [
         "1971",
         "135"
        ],
        [
         "1972",
         "122"
        ],
        [
         "1973",
         "262"
        ],
        [
         "1974",
         "247"
        ],
        [
         "1975",
         "359"
        ],
        [
         "1976",
         "409"
        ],
        [
         "1977",
         "306"
        ],
        [
         "1978",
         "311"
        ],
        [
         "1979",
         "141"
        ],
        [
         "1980",
         "108"
        ],
        [
         "1981",
         "558"
        ],
        [
         "1982",
         "242"
        ],
        [
         "1983",
         "152"
        ],
        [
         "1984",
         "201"
        ],
        [
         "1985",
         "203"
        ],
        [
         "1986",
         "168"
        ],
        [
         "1987",
         "308"
        ],
        [
         "1988",
         "245"
        ],
        [
         "1989",
         "212"
        ],
        [
         "1990",
         "273"
        ],
        [
         "1991",
         "464"
        ],
        [
         "1992",
         "331"
        ],
        [
         "1993",
         "825"
        ],
        [
         "1994",
         "217"
        ],
        [
         "1995",
         "254"
        ],
        [
         "1996",
         "95"
        ],
        [
         "1997",
         "273"
        ],
        [
         "1998",
         "144"
        ],
        [
         "1999",
         "2244"
        ],
        [
         "2000",
         "539"
        ],
        [
         "2001",
         "113"
        ],
        [
         "2002",
         "178"
        ],
        [
         "2003",
         "107"
        ],
        [
         "2004",
         "101"
        ],
        [
         "2005",
         "90"
        ],
        [
         "2006",
         "150"
        ],
        [
         "2007",
         "140"
        ]
       ],
       "shape": {
        "columns": 1,
        "rows": 68
       }
      },
      "text/plain": [
       "launch_year\n",
       "1958       3\n",
       "1959       5\n",
       "1960      11\n",
       "1961     210\n",
       "1962      25\n",
       "        ... \n",
       "2021    1408\n",
       "2022    2728\n",
       "2023    2701\n",
       "2024    3376\n",
       "2025    2321\n",
       "Name: count, Length: 68, dtype: int64"
      ]
     },
     "execution_count": 119,
     "metadata": {},
     "output_type": "execute_result"
    }
   ],
   "source": [
    "df_latest['launch_year'].value_counts().sort_index()"
   ]
  },
  {
   "cell_type": "code",
   "execution_count": 121,
   "id": "039d7a2a",
   "metadata": {},
   "outputs": [
    {
     "data": {
      "application/vnd.microsoft.datawrangler.viewer.v0+json": {
       "columns": [
        {
         "name": "launch_decade",
         "rawType": "object",
         "type": "string"
        },
        {
         "name": "count",
         "rawType": "int64",
         "type": "integer"
        }
       ],
       "ref": "8d2a4649-e4d2-41a0-9b50-a8e66cda68f9",
       "rows": [
        [
         "1950s",
         "8"
        ],
        [
         "1960s",
         "1314"
        ],
        [
         "1970s",
         "2655"
        ],
        [
         "1980s",
         "2397"
        ],
        [
         "1990s",
         "5120"
        ],
        [
         "2000s",
         "1780"
        ],
        [
         "2010s",
         "2500"
        ],
        [
         "2020s",
         "13366"
        ]
       ],
       "shape": {
        "columns": 1,
        "rows": 8
       }
      },
      "text/plain": [
       "launch_decade\n",
       "1950s        8\n",
       "1960s     1314\n",
       "1970s     2655\n",
       "1980s     2397\n",
       "1990s     5120\n",
       "2000s     1780\n",
       "2010s     2500\n",
       "2020s    13366\n",
       "Name: count, dtype: int64"
      ]
     },
     "execution_count": 121,
     "metadata": {},
     "output_type": "execute_result"
    }
   ],
   "source": [
    "lauch_year_dict = {'1950s': range(1950, 1960),\n",
    "                   '1960s': range(1960, 1970),\n",
    "                   '1970s': range(1970, 1980),\n",
    "                   '1980s': range(1980, 1990),\n",
    "                   '1990s': range(1990, 2000),\n",
    "                   '2000s': range(2000, 2010),\n",
    "                   '2010s': range(2010, 2020),\n",
    "                   '2020s': range(2020, 2030)}\n",
    "\n",
    "def classify_launch_year(year):\n",
    "    if pd.isna(year): return \"Unknown\"\n",
    "    for decade, years in lauch_year_dict.items():\n",
    "        if year in years:\n",
    "            return decade\n",
    "    return \"Unknown\"    \n",
    "\n",
    "df_latest['launch_decade'] = df_latest['launch_year'].apply(classify_launch_year)\n",
    "df_latest['launch_decade'].value_counts().sort_index()"
   ]
  },
  {
   "cell_type": "code",
   "execution_count": null,
   "id": "e09107bb",
   "metadata": {},
   "outputs": [],
   "source": []
  }
 ],
 "metadata": {
  "kernelspec": {
   "display_name": "wid-datathon",
   "language": "python",
   "name": "python3"
  },
  "language_info": {
   "codemirror_mode": {
    "name": "ipython",
    "version": 3
   },
   "file_extension": ".py",
   "mimetype": "text/x-python",
   "name": "python",
   "nbconvert_exporter": "python",
   "pygments_lexer": "ipython3",
   "version": "3.11.13"
  }
 },
 "nbformat": 4,
 "nbformat_minor": 5
}
