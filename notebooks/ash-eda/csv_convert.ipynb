{
 "cells": [
  {
   "cell_type": "code",
   "execution_count": null,
   "id": "6f8ca1b4",
   "metadata": {},
   "outputs": [
    {
     "name": "stdout",
     "output_type": "stream",
     "text": [
      "Wrote c:\\Users\\ash\\Desktop\\wid-datathon\\data\\01_processed\\elset_history_aodr\\csv.out\\epoch_date=2025-01-01.csv\n",
      "Wrote c:\\Users\\ash\\Desktop\\wid-datathon\\data\\01_processed\\elset_history_aodr\\csv.out\\epoch_date=2025-02-01.csv\n",
      "Wrote c:\\Users\\ash\\Desktop\\wid-datathon\\data\\01_processed\\elset_history_aodr\\csv.out\\epoch_date=2025-03-01.csv\n",
      "Wrote c:\\Users\\ash\\Desktop\\wid-datathon\\data\\01_processed\\elset_history_aodr\\csv.out\\epoch_date=2025-04-01.csv\n",
      "Wrote c:\\Users\\ash\\Desktop\\wid-datathon\\data\\01_processed\\elset_history_aodr\\csv.out\\epoch_date=2025-05-01.csv\n",
      "Wrote c:\\Users\\ash\\Desktop\\wid-datathon\\data\\01_processed\\elset_history_aodr\\csv.out\\epoch_date=2025-06-01.csv\n",
      "Wrote c:\\Users\\ash\\Desktop\\wid-datathon\\data\\01_processed\\elset_history_aodr\\csv.out\\epoch_date=2025-07-01.csv\n",
      "Wrote c:\\Users\\ash\\Desktop\\wid-datathon\\data\\01_processed\\elset_history_aodr\\csv.out\\epoch_date=2025-08-01.csv\n"
     ]
    }
   ],
   "source": [
    "from pathlib import Path\n",
    "import pandas as pd\n",
    "\n",
    "# CONVERTS PARQUET INTO CSV\n",
    "\n",
    "# base directory\n",
    "PROC_DIR = Path.cwd().parents[1] / \"data\" / \"01_processed\" / \"elset_history_aodr\"\n",
    "\n",
    "# first of each month from Jan-Aug 2025\n",
    "days = [f\"2025-{m:02d}-01\" for m in range(1, 9)]\n",
    "paths = [PROC_DIR / f\"epoch_date={d}\" for d in days]\n",
    "\n",
    "OUT_DIR = PROC_DIR / \"csv.out\"\n",
    "OUT_DIR.mkdir(exist_ok=True)\n",
    "\n",
    "for p in paths:\n",
    "    if not p.exists():\n",
    "        print(\"Skip (missing):\", p)\n",
    "        continue\n",
    "\n",
    "    # use .glob if files are only at the top level; use .rglob if nested\n",
    "    files = sorted(p.glob(\"*.parquet\"))      # change to .rglob(\"*.parquet\") if needed\n",
    "    if not files:\n",
    "        print(\"No parquet files in\", p)\n",
    "        continue\n",
    "\n",
    "    df = pd.concat((pd.read_parquet(fp) for fp in files), ignore_index=True)\n",
    "\n",
    "    # (optional) add the epoch_date as a column and dedupe rows\n",
    "    epoch_date = p.name.split(\"=\", 1)[1]\n",
    "    df[\"epoch_date\"] = epoch_date\n",
    "    # df = df.drop_duplicates(subset=[\"satNo\",\"epoch\"])  # tweak subset as needed\n",
    "\n",
    "    out = OUT_DIR / f\"{p.name}.csv\"          # e.g., epoch_date=2025-06-01.csv\n",
    "    df.to_csv(out, index=False)\n",
    "    print(\"Wrote\", out)"
   ]
  }
 ],
 "metadata": {
  "kernelspec": {
   "display_name": "wid_env",
   "language": "python",
   "name": "python3"
  },
  "language_info": {
   "codemirror_mode": {
    "name": "ipython",
    "version": 3
   },
   "file_extension": ".py",
   "mimetype": "text/x-python",
   "name": "python",
   "nbconvert_exporter": "python",
   "pygments_lexer": "ipython3",
   "version": "3.11.13"
  }
 },
 "nbformat": 4,
 "nbformat_minor": 5
}
